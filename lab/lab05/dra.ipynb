{
 "cells": [
  {
   "cell_type": "code",
   "execution_count": 15,
   "id": "70ac1146",
   "metadata": {},
   "outputs": [
    {
     "name": "stdout",
     "output_type": "stream",
     "text": [
      "None\n"
     ]
    }
   ],
   "source": [
    "s = [6 ,7, 8]\n",
    "print(s.append(6)) # change s, then return None"
   ]
  },
  {
   "cell_type": "code",
   "execution_count": 16,
   "id": "a6839315",
   "metadata": {},
   "outputs": [
    {
     "data": {
      "text/plain": [
       "[6, 7, 8, 6]"
      ]
     },
     "execution_count": 16,
     "metadata": {},
     "output_type": "execute_result"
    }
   ],
   "source": [
    "s"
   ]
  },
  {
   "cell_type": "code",
   "execution_count": null,
   "id": "b3064887",
   "metadata": {},
   "outputs": [],
   "source": [
    "s.insert(0, 9) # insert(i, x), then return None"
   ]
  },
  {
   "cell_type": "code",
   "execution_count": 18,
   "id": "4f6c64d3",
   "metadata": {},
   "outputs": [
    {
     "data": {
      "text/plain": [
       "[9, 6, 7, 8, 6]"
      ]
     },
     "execution_count": 18,
     "metadata": {},
     "output_type": "execute_result"
    }
   ],
   "source": [
    "s"
   ]
  },
  {
   "cell_type": "code",
   "execution_count": null,
   "id": "e8933ae0",
   "metadata": {},
   "outputs": [],
   "source": [
    "x = s.pop(1) # .pop(i= -1), change s, then return that value "
   ]
  },
  {
   "cell_type": "code",
   "execution_count": 20,
   "id": "b6db79b7",
   "metadata": {},
   "outputs": [
    {
     "data": {
      "text/plain": [
       "6"
      ]
     },
     "execution_count": 20,
     "metadata": {},
     "output_type": "execute_result"
    }
   ],
   "source": [
    "x"
   ]
  },
  {
   "cell_type": "code",
   "execution_count": 21,
   "id": "861524e3",
   "metadata": {},
   "outputs": [
    {
     "data": {
      "text/plain": [
       "[9, 7, 8, 6]"
      ]
     },
     "execution_count": 21,
     "metadata": {},
     "output_type": "execute_result"
    }
   ],
   "source": [
    "s"
   ]
  },
  {
   "cell_type": "code",
   "execution_count": null,
   "id": "fd16ea8b",
   "metadata": {},
   "outputs": [],
   "source": [
    "s.remove(x) # remove the first x in s, then return none"
   ]
  },
  {
   "cell_type": "code",
   "execution_count": 23,
   "id": "7a1ccb62",
   "metadata": {},
   "outputs": [
    {
     "data": {
      "text/plain": [
       "[9, 7, 8]"
      ]
     },
     "execution_count": 23,
     "metadata": {},
     "output_type": "execute_result"
    }
   ],
   "source": [
    "s"
   ]
  },
  {
   "cell_type": "code",
   "execution_count": 24,
   "id": "ae53b2e4",
   "metadata": {},
   "outputs": [],
   "source": [
    "a, b = s, s[:] # slice will make a copy list, different from s\n",
    "# a and s point to the same list now"
   ]
  },
  {
   "cell_type": "code",
   "execution_count": 29,
   "id": "60eb2316",
   "metadata": {},
   "outputs": [
    {
     "name": "stdout",
     "output_type": "stream",
     "text": [
      "[9, 7, 8]\n",
      "[9, 7, 8]\n"
     ]
    }
   ],
   "source": [
    "print(a)\n",
    "print(s)"
   ]
  },
  {
   "cell_type": "code",
   "execution_count": null,
   "id": "365cf12b",
   "metadata": {},
   "outputs": [
    {
     "name": "stdout",
     "output_type": "stream",
     "text": [
      "[9, 7]\n",
      "[9, 7]\n"
     ]
    }
   ],
   "source": [
    "a.pop() # a and s point to the same list\n",
    "print(a)\n",
    "print(s)"
   ]
  },
  {
   "cell_type": "code",
   "execution_count": null,
   "id": "1bdd39c3",
   "metadata": {},
   "outputs": [],
   "source": [
    "s = [3, 4, 5]\n",
    "s.extend( [ s.append(9), s.append(10)]) \n",
    "#          (  append 9 then return None   append 10 then return None )   s.extend(None, None)"
   ]
  },
  {
   "cell_type": "code",
   "execution_count": 11,
   "id": "9b6d4593",
   "metadata": {},
   "outputs": [
    {
     "data": {
      "text/plain": [
       "[3, 4, 5, 9, 10, None, None]"
      ]
     },
     "execution_count": 11,
     "metadata": {},
     "output_type": "execute_result"
    }
   ],
   "source": [
    "s"
   ]
  },
  {
   "cell_type": "code",
   "execution_count": 35,
   "id": "fa64e74b",
   "metadata": {},
   "outputs": [
    {
     "data": {
      "text/plain": [
       "[1, 5, 5, 8, 5, 5, 2, 3]"
      ]
     },
     "execution_count": 35,
     "metadata": {},
     "output_type": "execute_result"
    }
   ],
   "source": [
    "def insert_items(s, before, after):\n",
    "    \"\"\"Insert after into s after each occurrence of before and then return s.\n",
    "\n",
    "    >>> test_s = [1, 5, 8, 5, 2, 3]\n",
    "    >>> new_s = insert_items(test_s, 5, 7)\n",
    "    >>> new_s\n",
    "    [1, 5, 7, 8, 5, 7, 2, 3]\n",
    "    >>> test_s\n",
    "    [1, 5, 7, 8, 5, 7, 2, 3]\n",
    "    >>> new_s is test_s\n",
    "    True\n",
    "    >>> double_s = [1, 2, 1, 2, 3, 3]\n",
    "    >>> double_s = insert_items(double_s, 3, 4)\n",
    "    >>> double_s\n",
    "    [1, 2, 1, 2, 3, 4, 3, 4]\n",
    "    >>> large_s = [1, 4, 8]\n",
    "    >>> large_s2 = insert_items(large_s, 4, 4)\n",
    "    >>> large_s2\n",
    "    [1, 4, 4, 8]\n",
    "    >>> large_s3 = insert_items(large_s2, 4, 6)\n",
    "    >>> large_s3\n",
    "    [1, 4, 6, 4, 6, 8]\n",
    "    >>> large_s3 is large_s\n",
    "    True\n",
    "    \"\"\"\n",
    "    \"*** YOUR CODE HERE ***\"\n",
    "    i = 0\n",
    "    while i < len(s):\n",
    "        if s[i] == before:\n",
    "            s.insert(i+1, after) # modify s, not creating a new list\n",
    "            i += 2\n",
    "        else:\n",
    "            i += 1\n",
    "    return s\n",
    "\n",
    "test_s = [1, 5, 8, 5, 2, 3]\n",
    "new_s = insert_items(test_s, 5, 5)\n",
    "new_s"
   ]
  },
  {
   "cell_type": "code",
   "execution_count": 37,
   "id": "7b925627",
   "metadata": {},
   "outputs": [
    {
     "data": {
      "text/plain": [
       "{1: [12, 14], 2: [23], 4: [45]}"
      ]
     },
     "execution_count": 37,
     "metadata": {},
     "output_type": "execute_result"
    }
   ],
   "source": [
    "def group_by(s, fn):\n",
    "    \"\"\"Return a dictionary of lists that together contain the elements of s.\n",
    "    The key for each list is the value that fn returns when called on any of the\n",
    "    values of that list.\n",
    "\n",
    "    >>> group_by([12, 23, 14, 45], lambda p: p // 10)\n",
    "    {1: [12, 14], 2: [23], 4: [45]}\n",
    "    >>> group_by(range(-3, 4), lambda x: x * x)\n",
    "    {9: [-3, 3], 4: [-2, 2], 1: [-1, 1], 0: [0]}\n",
    "    \"\"\"\n",
    "    grouped = {}\n",
    "    for i in range(len(s)):\n",
    "        key = fn(s[i])\n",
    "        if key in grouped:\n",
    "            grouped[key].append(s[i])\n",
    "        else:\n",
    "            grouped[key] = [s[i]]\n",
    "    return grouped\n",
    "\n",
    "group_by([12, 23, 14, 45], lambda p: p // 10)"
   ]
  },
  {
   "cell_type": "code",
   "execution_count": 38,
   "id": "252da833",
   "metadata": {},
   "outputs": [
    {
     "ename": "TypeError",
     "evalue": "'list' object is not an iterator",
     "output_type": "error",
     "traceback": [
      "\u001b[31m---------------------------------------------------------------------------\u001b[39m",
      "\u001b[31mTypeError\u001b[39m                                 Traceback (most recent call last)",
      "\u001b[36mCell\u001b[39m\u001b[36m \u001b[39m\u001b[32mIn[38]\u001b[39m\u001b[32m, line 3\u001b[39m\n\u001b[32m      1\u001b[39m s = [\u001b[32m1\u001b[39m, \u001b[32m2\u001b[39m, \u001b[32m3\u001b[39m, \u001b[32m4\u001b[39m]\n\u001b[32m      2\u001b[39m t = \u001b[38;5;28miter\u001b[39m(s)\n\u001b[32m----> \u001b[39m\u001b[32m3\u001b[39m \u001b[38;5;28;43mnext\u001b[39;49m\u001b[43m(\u001b[49m\u001b[43ms\u001b[49m\u001b[43m)\u001b[49m\n",
      "\u001b[31mTypeError\u001b[39m: 'list' object is not an iterator"
     ]
    }
   ],
   "source": [
    "s = [1, 2, 3, 4]\n",
    "t = iter(s)\n",
    "next(s)"
   ]
  },
  {
   "cell_type": "code",
   "execution_count": 39,
   "id": "9c417861",
   "metadata": {},
   "outputs": [
    {
     "data": {
      "text/plain": [
       "0"
      ]
     },
     "execution_count": 39,
     "metadata": {},
     "output_type": "execute_result"
    }
   ],
   "source": [
    "r = range(6)\n",
    "r_iter = iter(r)\n",
    "next(r_iter)"
   ]
  },
  {
   "cell_type": "code",
   "execution_count": 40,
   "id": "3724709b",
   "metadata": {},
   "outputs": [
    {
     "data": {
      "text/plain": [
       "[1, 2, 3, 4, 5, 6]"
      ]
     },
     "execution_count": 40,
     "metadata": {},
     "output_type": "execute_result"
    }
   ],
   "source": [
    "[x+1 for x in r]"
   ]
  },
  {
   "cell_type": "code",
   "execution_count": 41,
   "id": "7717d4d3",
   "metadata": {},
   "outputs": [
    {
     "data": {
      "text/plain": [
       "[2, 3, 4, 5, 6]"
      ]
     },
     "execution_count": 41,
     "metadata": {},
     "output_type": "execute_result"
    }
   ],
   "source": [
    "[x+1 for x in r_iter]"
   ]
  },
  {
   "cell_type": "code",
   "execution_count": 42,
   "id": "1cc3dc63",
   "metadata": {},
   "outputs": [
    {
     "ename": "StopIteration",
     "evalue": "",
     "output_type": "error",
     "traceback": [
      "\u001b[31m---------------------------------------------------------------------------\u001b[39m",
      "\u001b[31mStopIteration\u001b[39m                             Traceback (most recent call last)",
      "\u001b[36mCell\u001b[39m\u001b[36m \u001b[39m\u001b[32mIn[42]\u001b[39m\u001b[32m, line 1\u001b[39m\n\u001b[32m----> \u001b[39m\u001b[32m1\u001b[39m \u001b[38;5;28;43mnext\u001b[39;49m\u001b[43m(\u001b[49m\u001b[43mr_iter\u001b[49m\u001b[43m)\u001b[49m\n",
      "\u001b[31mStopIteration\u001b[39m: "
     ]
    }
   ],
   "source": [
    "next(r_iter)"
   ]
  },
  {
   "cell_type": "code",
   "execution_count": null,
   "id": "c6463564",
   "metadata": {},
   "outputs": [
    {
     "data": {
      "text/plain": [
       "[11, 12, 13, 14]"
      ]
     },
     "execution_count": 43,
     "metadata": {},
     "output_type": "execute_result"
    }
   ],
   "source": [
    "map_iter = map(lambda x : x + 10, range(5)) # iterator \n",
    "next(map_iter) # the pointer will move forward,\n",
    "list(map_iter) # use all remaining elements, after that map_iter will be empty"
   ]
  },
  {
   "cell_type": "code",
   "execution_count": 45,
   "id": "b9676e97",
   "metadata": {},
   "outputs": [
    {
     "data": {
      "text/plain": [
       "[]"
      ]
     },
     "execution_count": 45,
     "metadata": {},
     "output_type": "execute_result"
    }
   ],
   "source": [
    "list(map_iter)"
   ]
  },
  {
   "cell_type": "code",
   "execution_count": 46,
   "id": "8abad29e",
   "metadata": {},
   "outputs": [
    {
     "data": {
      "text/plain": [
       "[5, 7, 9]"
      ]
     },
     "execution_count": 46,
     "metadata": {},
     "output_type": "execute_result"
    }
   ],
   "source": [
    "[x + y for x, y in zip([1, 2, 3], [4, 5, 6])]"
   ]
  },
  {
   "cell_type": "code",
   "execution_count": 52,
   "id": "19d61175",
   "metadata": {},
   "outputs": [
    {
     "data": {
      "text/plain": [
       "[1, 2, 1, 4, 4, 5, 5, 5]"
      ]
     },
     "execution_count": 52,
     "metadata": {},
     "output_type": "execute_result"
    }
   ],
   "source": [
    "def count_occurrences(t, n, x):\n",
    "    \"\"\"Return the number of times that x is equal to one of the\n",
    "    first n elements of iterator t.\n",
    "\n",
    "    >>> s = iter([10, 9, 10, 9, 9, 10, 8, 8, 8, 7])\n",
    "    >>> count_occurrences(s, 10, 9)\n",
    "    3\n",
    "    >>> t = iter([10, 9, 10, 9, 9, 10, 8, 8, 8, 7])\n",
    "    >>> count_occurrences(t, 3, 10)\n",
    "    2\n",
    "    >>> u = iter([3, 2, 2, 2, 1, 2, 1, 4, 4, 5, 5, 5])\n",
    "    >>> count_occurrences(u, 1, 3)  # Only iterate over 3\n",
    "    1\n",
    "    >>> count_occurrences(u, 3, 2)  # Only iterate over 2, 2, 2\n",
    "    3\n",
    "    >>> list(u)                     # Ensure that the iterator has advanced the right amount\n",
    "    [1, 2, 1, 4, 4, 5, 5, 5]\n",
    "    >>> v = iter([4, 1, 6, 6, 7, 7, 6, 6, 2, 2, 2, 5])\n",
    "    >>> count_occurrences(v, 6, 6)\n",
    "    2\n",
    "    \"\"\"\n",
    "    \"*** YOUR CODE HERE ***\"\n",
    "    # assume t has at least n elements\n",
    "    count = 0\n",
    "    while n > 0:\n",
    "        if next(t) == x:\n",
    "            count += 1\n",
    "        n -= 1\n",
    "    return count\n",
    "\n",
    "s = iter([10, 9, 10, 9, 9, 10, 8, 8, 8, 7])\n",
    "count_occurrences(s, 10, 9)\n",
    "t = iter([10, 9, 10, 9, 9, 10, 8, 8, 8, 7])\n",
    "count_occurrences(t, 3, 10)\n",
    "\n",
    "u = iter([3, 2, 2, 2, 1, 2, 1, 4, 4, 5, 5, 5])\n",
    "count_occurrences(u, 1, 3)\n",
    "count_occurrences(u, 3, 2) \n",
    "list(u)             "
   ]
  },
  {
   "cell_type": "code",
   "execution_count": 54,
   "id": "bdf6402a",
   "metadata": {},
   "outputs": [
    {
     "data": {
      "text/plain": [
       "2"
      ]
     },
     "execution_count": 54,
     "metadata": {},
     "output_type": "execute_result"
    }
   ],
   "source": [
    "def repeated(t, k):\n",
    "    \"\"\"Return the first value in iterator t that appears k times in a row,\n",
    "    calling next on t as few times as possible.\n",
    "\n",
    "    >>> s = iter([10, 9, 10, 9, 9, 10, 8, 8, 8, 7])\n",
    "    >>> repeated(s, 2)\n",
    "    9\n",
    "    >>> t = iter([10, 9, 10, 9, 9, 10, 8, 8, 8, 7])\n",
    "    >>> repeated(t, 3)\n",
    "    8\n",
    "    >>> u = iter([3, 2, 2, 2, 1, 2, 1, 4, 4, 5, 5, 5])\n",
    "    >>> repeated(u, 3)\n",
    "    2\n",
    "    >>> repeated(u, 3)\n",
    "    5\n",
    "    >>> v = iter([4, 1, 6, 6, 7, 7, 8, 8, 2, 2, 2, 5])\n",
    "    >>> repeated(v, 3)\n",
    "    2\n",
    "    \"\"\"\n",
    "    assert k > 1\n",
    "    \"*** YOUR CODE HERE ***\"\n",
    "    tmp = next(t)\n",
    "    nexttmp = next(t)\n",
    "\n",
    "    while True:\n",
    "        if tmp == nexttmp:\n",
    "            return nexttmp\n",
    "        else:\n",
    "            tmp = nexttmp\n",
    "            nexttmp = next(t)\n",
    "\n",
    "s = iter([10, 9, 10, 9, 9, 10, 8, 8, 8, 7])\n",
    "repeated(s, 2)\n",
    "\n",
    "u = iter([3, 2, 2, 2, 1, 2, 1, 4, 4, 5, 5, 5])\n",
    "repeated(u, 3)"
   ]
  },
  {
   "cell_type": "code",
   "execution_count": null,
   "id": "b02294b6",
   "metadata": {},
   "outputs": [],
   "source": []
  }
 ],
 "metadata": {
  "kernelspec": {
   "display_name": "cs61a",
   "language": "python",
   "name": "python3"
  },
  "language_info": {
   "codemirror_mode": {
    "name": "ipython",
    "version": 3
   },
   "file_extension": ".py",
   "mimetype": "text/x-python",
   "name": "python",
   "nbconvert_exporter": "python",
   "pygments_lexer": "ipython3",
   "version": "3.12.9"
  }
 },
 "nbformat": 4,
 "nbformat_minor": 5
}
