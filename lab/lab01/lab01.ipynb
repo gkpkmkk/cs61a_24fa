{
 "cells": [
  {
   "cell_type": "markdown",
   "metadata": {},
   "source": [
    "# Q1: return and print"
   ]
  },
  {
   "cell_type": "code",
   "execution_count": 1,
   "metadata": {},
   "outputs": [
    {
     "name": "stdout",
     "output_type": "stream",
     "text": [
      "Go\n"
     ]
    },
    {
     "data": {
      "text/plain": [
       "'hello'"
      ]
     },
     "execution_count": 1,
     "metadata": {},
     "output_type": "execute_result"
    }
   ],
   "source": [
    "def welcome():\n",
    "    print('Go')\n",
    "    return 'hello'\n",
    "\n",
    "def cal():\n",
    "    print('Bears')\n",
    "    return 'world'\n",
    "\n",
    "welcome()"
   ]
  },
  {
   "cell_type": "code",
   "execution_count": 2,
   "metadata": {},
   "outputs": [
    {
     "name": "stdout",
     "output_type": "stream",
     "text": [
      "Go\n",
      "Bears\n",
      "hello world\n"
     ]
    }
   ],
   "source": [
    "print(welcome(),cal())"
   ]
  },
  {
   "cell_type": "markdown",
   "metadata": {},
   "source": [
    "# Q2:debugging quiz"
   ]
  },
  {
   "cell_type": "markdown",
   "metadata": {},
   "source": [
    "```\n",
    "haohan@Lis-MacBook-Air lab01 % python3 ok -q return-and-print -u\n",
    "=====================================================================\n",
    "Assignment: Lab 1\n",
    "OK, version v1.18.1\n",
    "=====================================================================\n",
    "\n",
    "~~~~~~~~~~~~~~~~~~~~~~~~~~~~~~~~~~~~~~~~~~~~~~~~~~~~~~~~~~~~~~~~~~~~~\n",
    "Unlocking tests\n",
    "\n",
    "At each \"? \", type what you would expect the output to be.\n",
    "Type exit() to quit\n",
    "\n",
    "---------------------------------------------------------------------\n",
    "return-and-print > Suite 1 > Case 1\n",
    "(cases remaining: 1)\n",
    "\n",
    "What would Python display? If you get stuck, try it out in the Python\n",
    "interpreter!\n",
    "\n",
    ">>> def welcome():\n",
    "...     print('Go')\n",
    "...     return 'hello'\n",
    ">>> def cal():\n",
    "...     print('Bears')\n",
    "...     return 'world'\n",
    ">>> welcome()\n",
    "(line 1)? Go\n",
    "(line 2)? hello\n",
    "-- Not quite. Try again! --\n",
    "\n",
    "(line 1)? Go\n",
    "(line 2)? 'hello'\n",
    "-- OK! --\n",
    "\n",
    ">>> print(welcome(), cal())\n",
    "(line 1)? hello\n",
    "-- Not quite. Try again! --\n",
    "\n",
    "(line 1)? 'hello'\n",
    "-- Not quite. Try again! --\n",
    "\n",
    "(line 1)? Go\n",
    "(line 2)? hello\n",
    "-- Not quite. Try again! --\n",
    "\n",
    "(line 1)? Go\n",
    "(line 2)? Bears\n",
    "(line 3)? hello\n",
    "-- Not quite. Try again! --\n",
    "\n",
    "(line 1)? Go\n",
    "(line 2)? Bears\n",
    "(line 3)? hello world\n",
    "-- OK! --\n",
    "\n",
    "---------------------------------------------------------------------\n",
    "OK! All cases for return-and-print unlocked.\n",
    "\n",
    "Backup... 100% complete\n",
    "Backup past deadline by 40 days, 6 hours, and 11 minutes\n",
    "Backup successful for user: 213212297hk@gmail.com\n",
    "URL: https://okpy.org/cal/cs61a/fa24/lab01/backups/M5yo3B\n",
    "\n",
    "OK is up to date\n",
    "haohan@Lis-MacBook-Air lab01 % python3 ok -q debugging-quiz -u\n",
    "=====================================================================\n",
    "Assignment: Lab 1\n",
    "OK, version v1.18.1\n",
    "=====================================================================\n",
    "\n",
    "~~~~~~~~~~~~~~~~~~~~~~~~~~~~~~~~~~~~~~~~~~~~~~~~~~~~~~~~~~~~~~~~~~~~~\n",
    "Unlocking tests\n",
    "\n",
    "At each \"? \", type what you would expect the output to be.\n",
    "Type exit() to quit\n",
    "\n",
    "---------------------------------------------------------------------\n",
    "debugging-quiz > Suite 1 > Case 1\n",
    "(cases remaining: 7)\n",
    "\n",
    "Q: In the following traceback, what is the most recent function call?\n",
    "Traceback (most recent call last):\n",
    "    File \"temp.py\", line 10, in <module>\n",
    "      f(\"hi\")\n",
    "    File \"temp.py\", line 2, in f\n",
    "      return g(x + x, x)\n",
    "    File \"temp.py\", line 5, in g\n",
    "      return h(x + y * 5)\n",
    "    File \"temp.py\", line 8, in h\n",
    "      return x + 0\n",
    "  TypeError: must be str, not int\n",
    "Choose the number of the correct choice:\n",
    "0) g(x + x, x)\n",
    "1) f(\"hi\")\n",
    "2) h(x + y * 5)\n",
    "? 2\n",
    "-- OK! --\n",
    "\n",
    "---------------------------------------------------------------------\n",
    "debugging-quiz > Suite 1 > Case 2\n",
    "(cases remaining: 6)\n",
    "\n",
    "Q: In the following traceback, what is the cause of this error?\n",
    "Traceback (most recent call last):\n",
    "    File \"temp.py\", line 10, in <module>\n",
    "      f(\"hi\")\n",
    "    File \"temp.py\", line 2, in f\n",
    "      return g(x + x, x)\n",
    "    File \"temp.py\", line 5, in g\n",
    "      return h(x + y * 5)\n",
    "    File \"temp.py\", line 8, in h\n",
    "      return x + 0\n",
    "  TypeError: must be str, not int\n",
    "Choose the number of the correct choice:\n",
    "0) the code attempted to add a string to an integer\n",
    "1) the code looped infinitely\n",
    "2) there was a missing return statement\n",
    "? 0\n",
    "-- OK! --\n",
    "\n",
    "---------------------------------------------------------------------\n",
    "debugging-quiz > Suite 1 > Case 3\n",
    "(cases remaining: 5)\n",
    "\n",
    "Q: How do you write a doctest asserting that square(2) == 4?\n",
    "Choose the number of the correct choice:\n",
    "0) def square(x):\n",
    "       '''\n",
    "       doctest: (2, 4)\n",
    "       '''\n",
    "       return x * x\n",
    "1) def square(x):\n",
    "       '''\n",
    "       >>> square(2)\n",
    "       4\n",
    "       '''\n",
    "       return x * x\n",
    "2) def square(x):\n",
    "       '''\n",
    "       square(2)\n",
    "       4\n",
    "       '''\n",
    "       return x * x\n",
    "3) def square(x):\n",
    "       '''\n",
    "       input: 2\n",
    "       output: 4\n",
    "       '''\n",
    "       return x * x\n",
    "? 1\n",
    "-- OK! --\n",
    "\n",
    "---------------------------------------------------------------------\n",
    "debugging-quiz > Suite 1 > Case 4\n",
    "(cases remaining: 4)\n",
    "\n",
    "Q: When should you use print statements?\n",
    "Choose the number of the correct choice:\n",
    "0) To investigate the values of variables at certain points in your code\n",
    "1) To ensure that certain conditions are true at certain points in your code\n",
    "2) For permanant debugging so you can have long term confidence in your code\n",
    "? 0\n",
    "-- OK! --\n",
    "\n",
    "---------------------------------------------------------------------\n",
    "debugging-quiz > Suite 1 > Case 5\n",
    "(cases remaining: 3)\n",
    "\n",
    "Q: How do you prevent the ok autograder from interpreting print statements as output?\n",
    "Choose the number of the correct choice:\n",
    "0) You don't need to do anything, ok only looks at returned values, not printed values\n",
    "1) Print with # at the front of the outputted line\n",
    "2) Print with 'DEBUG:' at the front of the outputted line\n",
    "? 0\n",
    "-- Not quite. Try again! --\n",
    "\n",
    "Choose the number of the correct choice:\n",
    "0) You don't need to do anything, ok only looks at returned values, not printed values\n",
    "1) Print with # at the front of the outputted line\n",
    "2) Print with 'DEBUG:' at the front of the outputted line\n",
    "? 2\n",
    "-- OK! --\n",
    "\n",
    "---------------------------------------------------------------------\n",
    "debugging-quiz > Suite 1 > Case 6\n",
    "(cases remaining: 2)\n",
    "\n",
    "Q: What is the best way to open an interactive terminal to investigate a failing test for question sum_digits in assignment lab01?\n",
    "Choose the number of the correct choice:\n",
    "0) python3 ok -q sum_digits -i\n",
    "1) python3 ok -q sum_digits\n",
    "2) python3 -i lab01.py\n",
    "3) python3 ok -q sum_digits --trace\n",
    "? 2\n",
    "-- Not quite. Try again! --\n",
    "\n",
    "Choose the number of the correct choice:\n",
    "0) python3 ok -q sum_digits -i\n",
    "1) python3 ok -q sum_digits\n",
    "2) python3 -i lab01.py\n",
    "3) python3 ok -q sum_digits --trace\n",
    "? 0\n",
    "-- OK! --\n",
    "\n",
    "---------------------------------------------------------------------\n",
    "debugging-quiz > Suite 1 > Case 7\n",
    "(cases remaining: 1)\n",
    "\n",
    "Q: Which of the following is NOT true?\n",
    "Choose the number of the correct choice:\n",
    "0) It is generally good practice to release code with assertion statements left in\n",
    "1) Code that returns a wrong answer instead of crashing is generally better as it at least works fine\n",
    "2) Debugging is not a substitute for testing\n",
    "3) It is generally bad practice to release code with debugging print statements left in\n",
    "4) Testing is very important to ensure robust code\n",
    "? 1\n",
    "-- OK! --\n",
    "\n",
    "---------------------------------------------------------------------\n",
    "OK! All cases for debugging-quiz unlocked.\n",
    "```"
   ]
  },
  {
   "cell_type": "markdown",
   "metadata": {},
   "source": [
    "# Q3: Pick a digit"
   ]
  },
  {
   "cell_type": "code",
   "execution_count": 7,
   "metadata": {},
   "outputs": [
    {
     "data": {
      "text/plain": [
       "0"
      ]
     },
     "execution_count": 7,
     "metadata": {},
     "output_type": "execute_result"
    }
   ],
   "source": [
    "def digit(n, k):\n",
    "    \"\"\"Return the digit that is k from the right of n for positive integers n and k.\n",
    "\n",
    "    >>> digit(3579, 2)\n",
    "    5\n",
    "    >>> digit(3579, 0)\n",
    "    9\n",
    "    >>> digit(3579, 10)\n",
    "    0\n",
    "    \"\"\"\n",
    "    return n%pow(10,k+1)//pow(10,k)\n",
    "\n",
    "digit(3579, 2)\n",
    "digit(3579, 0)\n",
    "digit(3579, 10)"
   ]
  },
  {
   "cell_type": "code",
   "execution_count": 9,
   "metadata": {},
   "outputs": [
    {
     "data": {
      "text/plain": [
       "9"
      ]
     },
     "execution_count": 9,
     "metadata": {},
     "output_type": "execute_result"
    }
   ],
   "source": [
    "def digit(n, k):\n",
    "    \"\"\"Return the digit that is k from the right of n for positive integers n and k.\n",
    "\n",
    "    >>> digit(3579, 2)\n",
    "    5\n",
    "    >>> digit(3579, 0)\n",
    "    9\n",
    "    >>> digit(3579, 10)\n",
    "    0\n",
    "    \"\"\"\n",
    "    return n//pow(10,k)%pow(10,k+1)\n",
    "\n",
    "digit(3579, 2)\n",
    "digit(3579, 0)"
   ]
  },
  {
   "cell_type": "markdown",
   "metadata": {},
   "source": [
    "```\n",
    "haohan@Lis-MacBook-Air lab01 % python3 ok -q digit\n",
    "=====================================================================\n",
    "Assignment: Lab 1\n",
    "OK, version v1.18.1\n",
    "=====================================================================\n",
    "\n",
    "~~~~~~~~~~~~~~~~~~~~~~~~~~~~~~~~~~~~~~~~~~~~~~~~~~~~~~~~~~~~~~~~~~~~~\n",
    "Running tests\n",
    "\n",
    "---------------------------------------------------------------------\n",
    "Test summary\n",
    "    1 test cases passed! No cases failed.\n",
    "\n",
    "Backup... 100% complete\n",
    "Backup past deadline by 40 days, 6 hours, 29 minutes, and 24 seconds\n",
    "Backup successful for user: 213212297hk@gmail.com\n",
    "URL: https://okpy.org/cal/cs61a/fa24/lab01/backups/51O3NZ\n",
    "```"
   ]
  },
  {
   "cell_type": "markdown",
   "metadata": {},
   "source": [
    "# Q4: Middle number"
   ]
  },
  {
   "cell_type": "code",
   "execution_count": null,
   "metadata": {},
   "outputs": [],
   "source": [
    "def middle(a, b, c):\n",
    "    \"\"\"Return the number among a, b, and c that is not the smallest or largest.\n",
    "    Assume a, b, and c are all different numbers.\n",
    "\n",
    "    >>> middle(3, 5, 4)\n",
    "    4\n",
    "    >>> middle(30, 5, 4)\n",
    "    5\n",
    "    >>> middle(3, 5, 40)\n",
    "    5\n",
    "    >>> middle(3, 5, 40)\n",
    "    5\n",
    "    >>> middle(30, 5, 40)\n",
    "    30\n",
    "    \"\"\"\n",
    "    return a+b+c-max(a,b,c)-min(a,b,c)"
   ]
  },
  {
   "cell_type": "markdown",
   "metadata": {},
   "source": [
    "```\n",
    "haohan@Lis-MacBook-Air lab01 % python3 ok -q middle\n",
    "=====================================================================\n",
    "Assignment: Lab 1\n",
    "OK, version v1.18.1\n",
    "=====================================================================\n",
    "\n",
    "~~~~~~~~~~~~~~~~~~~~~~~~~~~~~~~~~~~~~~~~~~~~~~~~~~~~~~~~~~~~~~~~~~~~~\n",
    "Running tests\n",
    "\n",
    "---------------------------------------------------------------------\n",
    "Test summary\n",
    "    1 test cases passed! No cases failed.\n",
    "\n",
    "Backup... 100% complete\n",
    "Backup past deadline by 40 days, 19 hours, 3 minutes, and 29 seconds\n",
    "Backup successful for user: 213212297hk@gmail.com\n",
    "URL: https://okpy.org/cal/cs61a/fa24/lab01/backups/A907Al\n",
    "```"
   ]
  },
  {
   "cell_type": "markdown",
   "metadata": {},
   "source": [
    "# Q6:falling factorial"
   ]
  },
  {
   "cell_type": "code",
   "execution_count": 8,
   "metadata": {},
   "outputs": [],
   "source": [
    "def falling(n, k):\n",
    "    \"\"\"Compute the falling factorial of n to depth k.\n",
    "\n",
    "    >>> falling(6, 3)  # 6 * 5 * 4\n",
    "    120\n",
    "    >>> falling(4, 3)  # 4 * 3 * 2\n",
    "    24\n",
    "    >>> falling(4, 1)  # 4\n",
    "    4\n",
    "    >>> falling(4, 0)\n",
    "    1\n",
    "    \"\"\"\n",
    "    \"*** YOUR CODE HERE ***\"\n",
    "    fal = 1\n",
    "    i = 0\n",
    "    while i < k:\n",
    "        fal *= n - i\n",
    "        i += 1\n",
    "    return fal"
   ]
  },
  {
   "cell_type": "code",
   "execution_count": 10,
   "metadata": {},
   "outputs": [
    {
     "data": {
      "text/plain": [
       "24"
      ]
     },
     "execution_count": 10,
     "metadata": {},
     "output_type": "execute_result"
    }
   ],
   "source": [
    "falling(6,3)\n",
    "falling(4, 3)"
   ]
  },
  {
   "cell_type": "markdown",
   "metadata": {},
   "source": [
    "# Q7:"
   ]
  },
  {
   "cell_type": "code",
   "execution_count": 13,
   "metadata": {},
   "outputs": [],
   "source": [
    "def divisible_by_k(n, k):\n",
    "    \"\"\"\n",
    "    >>> a = divisible_by_k(10, 2)  # 2, 4, 6, 8, and 10 are divisible by 2\n",
    "    2\n",
    "    4\n",
    "    6\n",
    "    8\n",
    "    10\n",
    "    >>> a\n",
    "    5\n",
    "    >>> b = divisible_by_k(3, 1)  # 1, 2, and 3 are divisible by 1\n",
    "    1\n",
    "    2\n",
    "    3\n",
    "    >>> b\n",
    "    3\n",
    "    >>> c = divisible_by_k(6, 7)  # There are no integers up to 6 divisible by 7\n",
    "    >>> c\n",
    "    0\n",
    "    \"\"\"\n",
    "    \"*** YOUR CODE HERE ***\"\n",
    "    number = 0\n",
    "    i = k\n",
    "    while i <= n:\n",
    "        if i%k == 0:\n",
    "            print(i)\n",
    "            number += 1\n",
    "        i += 1\n",
    "    return number"
   ]
  },
  {
   "cell_type": "code",
   "execution_count": 14,
   "metadata": {},
   "outputs": [
    {
     "name": "stdout",
     "output_type": "stream",
     "text": [
      "2\n",
      "4\n",
      "6\n",
      "8\n",
      "10\n"
     ]
    }
   ],
   "source": [
    "a = divisible_by_k(10,2)"
   ]
  },
  {
   "cell_type": "markdown",
   "metadata": {},
   "source": [
    "# Q8:\n"
   ]
  },
  {
   "cell_type": "code",
   "execution_count": 15,
   "metadata": {},
   "outputs": [],
   "source": [
    "def sum_digits(y):\n",
    "    \"\"\"Sum all the digits of y.\n",
    "\n",
    "    >>> sum_digits(10) # 1 + 0 = 1\n",
    "    1\n",
    "    >>> sum_digits(4224) # 4 + 2 + 2 + 4 = 12\n",
    "    12\n",
    "    >>> sum_digits(1234567890)\n",
    "    45\n",
    "    >>> a = sum_digits(123) # make sure that you are using return rather than print\n",
    "    >>> a\n",
    "    6\n",
    "    \"\"\"\n",
    "    \"*** YOUR CODE HERE ***\"\n",
    "    sum = 0\n",
    "    while y > 0:\n",
    "        sum += y%10\n",
    "        y = y // 10\n",
    "    return sum\n"
   ]
  },
  {
   "cell_type": "code",
   "execution_count": 19,
   "metadata": {},
   "outputs": [
    {
     "data": {
      "text/plain": [
       "6"
      ]
     },
     "execution_count": 19,
     "metadata": {},
     "output_type": "execute_result"
    }
   ],
   "source": [
    "sum_digits(123)"
   ]
  },
  {
   "cell_type": "markdown",
   "metadata": {},
   "source": [
    "# Q9:"
   ]
  },
  {
   "cell_type": "markdown",
   "metadata": {},
   "source": [
    "```\n",
    "haohan@Lis-MacBook-Air lab01 % python3 ok -q if-statements -u\n",
    "=====================================================================\n",
    "Assignment: Lab 1\n",
    "OK, version v1.18.1\n",
    "=====================================================================\n",
    "\n",
    "~~~~~~~~~~~~~~~~~~~~~~~~~~~~~~~~~~~~~~~~~~~~~~~~~~~~~~~~~~~~~~~~~~~~~\n",
    "Unlocking tests\n",
    "\n",
    "At each \"? \", type what you would expect the output to be.\n",
    "Type exit() to quit\n",
    "\n",
    "---------------------------------------------------------------------\n",
    "What If? > Suite 1 > Case 1\n",
    "(cases remaining: 2)\n",
    "\n",
    "What would Python display? If you get stuck, try it out in the Python\n",
    "interpreter!\n",
    "\n",
    ">>> def ab(c, d):\n",
    "...     if c > 5:\n",
    "...         print(c)\n",
    "...     elif c > 7:\n",
    "...         print(d)\n",
    "...     print('foo')\n",
    ">>> ab(10, 20)\n",
    "(line 1)? 10\n",
    "(line 2)? foo\n",
    "-- OK! --\n",
    "\n",
    "---------------------------------------------------------------------\n",
    "What If? > Suite 1 > Case 2\n",
    "(cases remaining: 1)\n",
    "\n",
    "What would Python display? If you get stuck, try it out in the Python\n",
    "interpreter!\n",
    "\n",
    ">>> def bake(cake, make):\n",
    "...    if cake == 0:\n",
    "...        cake = cake + 1\n",
    "...        print(cake)\n",
    "...    if cake == 1:\n",
    "...        print(make)\n",
    "...    else:\n",
    "...        return cake\n",
    "...    return make\n",
    ">>> bake(0, 29)\n",
    "(line 1)? 1\n",
    "(line 2)? 29\n",
    "(line 3)? 29\n",
    "-- OK! --\n",
    "\n",
    ">>> bake(1, \"mashed potatoes\")\n",
    "(line 1)? mashed potatoes\n",
    "(line 2)? \"mashed potatoes\"\n",
    "-- OK! --\n",
    "\n",
    "---------------------------------------------------------------------\n",
    "OK! All cases for What If? unlocked.\n",
    "\n",
    "Backup... 100% complete\n",
    "Backup past deadline by 41 days, 20 hours, 24 minutes, and 24 seconds\n",
    "Backup successful for user: 213212297hk@gmail.com\n",
    "URL: https://okpy.org/cal/cs61a/fa24/lab01/backups/v9EBW8\n",
    "\n",
    "```"
   ]
  },
  {
   "cell_type": "markdown",
   "metadata": {},
   "source": [
    "# Q10:"
   ]
  },
  {
   "cell_type": "code",
   "execution_count": 20,
   "metadata": {},
   "outputs": [],
   "source": [
    "def double_eights(n):\n",
    "    \"\"\"Return true if n has two eights in a row.\n",
    "    >>> double_eights(8)\n",
    "    False\n",
    "    >>> double_eights(88)\n",
    "    True\n",
    "    >>> double_eights(2882)\n",
    "    True\n",
    "    >>> double_eights(880088)\n",
    "    True\n",
    "    >>> double_eights(12345)\n",
    "    False\n",
    "    >>> double_eights(80808080)\n",
    "    False\n",
    "    \"\"\"\n",
    "    \"*** YOUR CODE HERE ***\"\n",
    "    time = 0\n",
    "    while n > 0:\n",
    "        temp = n % 10\n",
    "        n = n // 10\n",
    "        if temp == 8:\n",
    "            time += 1\n",
    "        else:\n",
    "            time = 0\n",
    "        if time == 2:\n",
    "            return True\n",
    "    return False"
   ]
  },
  {
   "cell_type": "code",
   "execution_count": 21,
   "metadata": {},
   "outputs": [
    {
     "data": {
      "text/plain": [
       "False"
      ]
     },
     "execution_count": 21,
     "metadata": {},
     "output_type": "execute_result"
    }
   ],
   "source": [
    "double_eights(8)"
   ]
  },
  {
   "cell_type": "code",
   "execution_count": 22,
   "metadata": {},
   "outputs": [
    {
     "data": {
      "text/plain": [
       "True"
      ]
     },
     "execution_count": 22,
     "metadata": {},
     "output_type": "execute_result"
    }
   ],
   "source": [
    "double_eights(8008)"
   ]
  },
  {
   "cell_type": "code",
   "execution_count": 24,
   "metadata": {},
   "outputs": [
    {
     "data": {
      "text/plain": [
       "19"
      ]
     },
     "execution_count": 24,
     "metadata": {},
     "output_type": "execute_result"
    }
   ],
   "source": [
    "len('zxzzxxxzzxxzzxzxzxx')"
   ]
  },
  {
   "cell_type": "code",
   "execution_count": 25,
   "metadata": {},
   "outputs": [
    {
     "data": {
      "text/plain": [
       "20"
      ]
     },
     "execution_count": 25,
     "metadata": {},
     "output_type": "execute_result"
    }
   ],
   "source": [
    "len(str(10110010011100100011))"
   ]
  },
  {
   "cell_type": "code",
   "execution_count": null,
   "metadata": {},
   "outputs": [],
   "source": []
  }
 ],
 "metadata": {
  "kernelspec": {
   "display_name": "Python 3",
   "language": "python",
   "name": "python3"
  },
  "language_info": {
   "codemirror_mode": {
    "name": "ipython",
    "version": 3
   },
   "file_extension": ".py",
   "mimetype": "text/x-python",
   "name": "python",
   "nbconvert_exporter": "python",
   "pygments_lexer": "ipython3",
   "version": "3.12.4"
  }
 },
 "nbformat": 4,
 "nbformat_minor": 2
}
