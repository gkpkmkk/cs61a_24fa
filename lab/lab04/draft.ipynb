{
 "cells": [
  {
   "cell_type": "markdown",
   "id": "a73ae0fe",
   "metadata": {},
   "source": [
    "# Q2:divide"
   ]
  },
  {
   "cell_type": "code",
   "execution_count": 2,
   "id": "3620baca",
   "metadata": {},
   "outputs": [],
   "source": [
    "def divide(quotients, divisors):\n",
    "    \"\"\"Return a dictonary in which each quotient q is a key for the list of\n",
    "    divisors that it divides evenly.\n",
    "\n",
    "    >>> divide([3, 4, 5], [8, 9, 10, 11, 12])\n",
    "    {3: [9, 12], 4: [8, 12], 5: [10]}\n",
    "    >>> divide(range(1, 5), range(20, 25))\n",
    "    {1: [20, 21, 22, 23, 24], 2: [20, 22, 24], 3: [21, 24], 4: [20, 24]}\n",
    "    \"\"\"\n",
    "    return {x: [y for y in divisors if y%x == 0] for x in quotients}\n",
    "\n"
   ]
  },
  {
   "cell_type": "code",
   "execution_count": null,
   "id": "a9cb6077",
   "metadata": {},
   "outputs": [
    {
     "data": {
      "text/plain": [
       "TestResults(failed=0, attempted=2)"
      ]
     },
     "execution_count": 3,
     "metadata": {},
     "output_type": "execute_result"
    }
   ],
   "source": [
    "from doctest import testmod\n",
    "testmod() # so it may test all the functions"
   ]
  },
  {
   "cell_type": "code",
   "execution_count": 4,
   "id": "39706a7e",
   "metadata": {},
   "outputs": [
    {
     "name": "stdout",
     "output_type": "stream",
     "text": [
      "Finding tests in NoName\n",
      "Trying:\n",
      "    divide([3, 4, 5], [8, 9, 10, 11, 12])\n",
      "Expecting:\n",
      "    {3: [9, 12], 4: [8, 12], 5: [10]}\n",
      "ok\n",
      "Trying:\n",
      "    divide(range(1, 5), range(20, 25))\n",
      "Expecting:\n",
      "    {1: [20, 21, 22, 23, 24], 2: [20, 22, 24], 3: [21, 24], 4: [20, 24]}\n",
      "ok\n"
     ]
    }
   ],
   "source": [
    "from doctest import run_docstring_examples # test a single function\n",
    "run_docstring_examples(divide, globals(), True)"
   ]
  },
  {
   "cell_type": "code",
   "execution_count": 5,
   "id": "4dd54c8a",
   "metadata": {},
   "outputs": [],
   "source": [
    "def buy(fruits_to_buy, prices, total_amount):\n",
    "    \"\"\"Print ways to buy some of each fruit so that the sum of prices is amount.\n",
    "\n",
    "    >>> prices = {'oranges': 4, 'apples': 3, 'bananas': 2, 'kiwis': 9}\n",
    "    >>> buy(['apples', 'oranges', 'bananas'], prices, 12)  # We can only buy apple, orange, and banana, but not kiwi\n",
    "    [2 apples][1 orange][1 banana]\n",
    "    >>> buy(['apples', 'oranges', 'bananas'], prices, 16)\n",
    "    [2 apples][1 orange][3 bananas]\n",
    "    [2 apples][2 oranges][1 banana]\n",
    "    >>> buy(['apples', 'kiwis'], prices, 36)\n",
    "    [3 apples][3 kiwis]\n",
    "    [6 apples][2 kiwis]\n",
    "    [9 apples][1 kiwi]\n",
    "    \"\"\"\n",
    "    def add(fruits, amount, cart):\n",
    "        if fruits == [] and amount == 0:\n",
    "            print(cart)\n",
    "        elif fruits and amount > 0:\n",
    "            fruit = fruits[0]\n",
    "            price = prices[f'{fruit}'] ###\n",
    "            for k in range(1, amount//price+1): # every combination includes at least one of each fruit\n",
    "                # Hint: The display function will help you add fruit to the cart.\n",
    "                print(f\"fruit:{fruit} count:{k} account:{amount-k*price}\")\n",
    "                add(fruits[1:], amount - k*price, cart + display(fruit, k))\n",
    "            \n",
    "\n",
    "\n",
    "    add(fruits_to_buy, total_amount, '')\n",
    "\n",
    "\n",
    "def display(fruit, count):\n",
    "    \"\"\"Display a count of a fruit in square brackets.\n",
    "\n",
    "    >>> display('apples', 3)\n",
    "    '[3 apples]'\n",
    "    >>> display('apples', 1)\n",
    "    '[1 apple]'\n",
    "    >>> print(display('apples', 3) + display('kiwis', 3))\n",
    "    [3 apples][3 kiwis]\n",
    "    \"\"\"\n",
    "    assert count >= 1 and fruit[-1] == 's'\n",
    "    if count == 1:\n",
    "        fruit = fruit[:-1]  # get rid of the plural s\n",
    "    return '[' + str(count) + ' ' + fruit + ']'\n"
   ]
  },
  {
   "cell_type": "code",
   "execution_count": 3,
   "id": "548e4f88",
   "metadata": {},
   "outputs": [
    {
     "name": "stdout",
     "output_type": "stream",
     "text": [
      "3\n"
     ]
    }
   ],
   "source": [
    "prices = {'oranges': 4, 'apples': 3, 'bananas': 2, 'kiwis': 9}\n",
    "fruits = ['apples', 'bananas', 'oranges']\n",
    "fruit = fruits[0]\n",
    "price = prices[f'{fruit}']\n",
    "print(price)"
   ]
  },
  {
   "cell_type": "code",
   "execution_count": 6,
   "id": "d9f8ff69",
   "metadata": {},
   "outputs": [
    {
     "name": "stdout",
     "output_type": "stream",
     "text": [
      "fruit:apples count:1 account:9\n",
      "fruit:oranges count:1 account:5\n",
      "fruit:bananas count:1 account:3\n",
      "fruit:bananas count:2 account:1\n",
      "fruit:oranges count:2 account:1\n",
      "fruit:apples count:2 account:6\n",
      "fruit:oranges count:1 account:2\n",
      "fruit:bananas count:1 account:0\n",
      "[2 apples][1 orange][1 banana]\n",
      "fruit:apples count:3 account:3\n",
      "fruit:apples count:4 account:0\n"
     ]
    }
   ],
   "source": [
    "buy(['apples', 'oranges', 'bananas'], prices, 12)"
   ]
  },
  {
   "cell_type": "code",
   "execution_count": 36,
   "id": "79d172a6",
   "metadata": {},
   "outputs": [
    {
     "data": {
      "text/plain": [
       "4"
      ]
     },
     "execution_count": 36,
     "metadata": {},
     "output_type": "execute_result"
    }
   ],
   "source": [
    "12//3"
   ]
  },
  {
   "cell_type": "code",
   "execution_count": 57,
   "id": "c8c6ef66",
   "metadata": {},
   "outputs": [
    {
     "name": "stdout",
     "output_type": "stream",
     "text": [
      "4\n"
     ]
    }
   ],
   "source": [
    "for k in range(4,5):\n",
    "    print(k)"
   ]
  },
  {
   "cell_type": "code",
   "execution_count": 54,
   "id": "0de95ec1",
   "metadata": {},
   "outputs": [
    {
     "name": "stdout",
     "output_type": "stream",
     "text": [
      "0\n",
      "1\n",
      "2\n",
      "3\n"
     ]
    }
   ],
   "source": [
    "for k in range(0,12//3):\n",
    "    print(k)"
   ]
  },
  {
   "cell_type": "code",
   "execution_count": 58,
   "id": "fe02bb47",
   "metadata": {},
   "outputs": [
    {
     "name": "stdout",
     "output_type": "stream",
     "text": [
      "[2 apples][1 orange][3 bananas]\n",
      "[2 apples][2 oranges][1 banana]\n"
     ]
    }
   ],
   "source": [
    "buy(['apples', 'oranges', 'bananas'], prices, 16)"
   ]
  },
  {
   "cell_type": "code",
   "execution_count": 59,
   "id": "921e63d2",
   "metadata": {},
   "outputs": [
    {
     "name": "stdout",
     "output_type": "stream",
     "text": [
      "[3 apples][3 kiwis]\n",
      "[6 apples][2 kiwis]\n",
      "[9 apples][1 kiwi]\n"
     ]
    }
   ],
   "source": [
    "buy(['apples', 'kiwis'], prices, 36)"
   ]
  },
  {
   "cell_type": "code",
   "execution_count": 60,
   "id": "0dffc450",
   "metadata": {},
   "outputs": [
    {
     "data": {
      "text/plain": [
       "[]"
      ]
     },
     "execution_count": 60,
     "metadata": {},
     "output_type": "execute_result"
    }
   ],
   "source": [
    "['apple'][1:]"
   ]
  },
  {
   "cell_type": "code",
   "execution_count": 1,
   "id": "2af3eaca",
   "metadata": {},
   "outputs": [],
   "source": [
    "for k in []:\n",
    "    print(k)"
   ]
  },
  {
   "cell_type": "code",
   "execution_count": null,
   "id": "0b947cf5",
   "metadata": {},
   "outputs": [],
   "source": []
  }
 ],
 "metadata": {
  "kernelspec": {
   "display_name": "cs61a",
   "language": "python",
   "name": "python3"
  },
  "language_info": {
   "codemirror_mode": {
    "name": "ipython",
    "version": 3
   },
   "file_extension": ".py",
   "mimetype": "text/x-python",
   "name": "python",
   "nbconvert_exporter": "python",
   "pygments_lexer": "ipython3",
   "version": "3.12.9"
  }
 },
 "nbformat": 4,
 "nbformat_minor": 5
}
