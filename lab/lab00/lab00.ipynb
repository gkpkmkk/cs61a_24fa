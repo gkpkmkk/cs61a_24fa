{
 "cells": [
  {
   "cell_type": "code",
   "execution_count": 3,
   "metadata": {},
   "outputs": [
    {
     "data": {
      "text/plain": [
       "2048"
      ]
     },
     "execution_count": 3,
     "metadata": {},
     "output_type": "execute_result"
    }
   ],
   "source": [
    "2**11"
   ]
  },
  {
   "cell_type": "code",
   "execution_count": 4,
   "metadata": {},
   "outputs": [
    {
     "data": {
      "text/plain": [
       "10"
      ]
     },
     "execution_count": 4,
     "metadata": {},
     "output_type": "execute_result"
    }
   ],
   "source": [
    "1024//100"
   ]
  },
  {
   "cell_type": "code",
   "execution_count": 6,
   "metadata": {},
   "outputs": [
    {
     "data": {
      "text/plain": [
       "24"
      ]
     },
     "execution_count": 6,
     "metadata": {},
     "output_type": "execute_result"
    }
   ],
   "source": [
    "2024%100"
   ]
  },
  {
   "cell_type": "code",
   "execution_count": 7,
   "metadata": {},
   "outputs": [
    {
     "data": {
      "text/plain": [
       "10.24"
      ]
     },
     "execution_count": 7,
     "metadata": {},
     "output_type": "execute_result"
    }
   ],
   "source": [
    "1024/100"
   ]
  },
  {
   "cell_type": "markdown",
   "metadata": {},
   "source": [
    "# 1) What Would Python Do? (WWPD)\n",
    "\n",
    "\n",
    "Enter the following in your terminal to begin this section:\n",
    "\n",
    "`python3 ok -q python-basics -u`\n",
    "\n",
    "You will be prompted to enter the output of various statements/expressions. You must enter them correctly to move on, but there is no penalty for incorrect answers.\n",
    "\n"
   ]
  },
  {
   "cell_type": "markdown",
   "metadata": {},
   "source": [
    "```\n",
    "haohan@Lis-MacBook-Air lab00 % python3 ok -q python-basics -u\n",
    "=====================================================================\n",
    "Assignment: Lab 0\n",
    "OK, version v1.18.1\n",
    "=====================================================================\n",
    "\n",
    "~~~~~~~~~~~~~~~~~~~~~~~~~~~~~~~~~~~~~~~~~~~~~~~~~~~~~~~~~~~~~~~~~~~~~\n",
    "Unlocking tests\n",
    "\n",
    "At each \"? \", type what you would expect the output to be.\n",
    "Type exit() to quit\n",
    "\n",
    "---------------------------------------------------------------------\n",
    "Python Basics > Suite 1 > Case 1\n",
    "(cases remaining: 1)\n",
    "\n",
    "What would Python display? If you get stuck, try it out in the Python\n",
    "interpreter!\n",
    "\n",
    ">>> x = 20\n",
    ">>> x + 2\n",
    "? 22\n",
    "-- OK! --\n",
    "\n",
    ">>> x\n",
    "? 20\n",
    "-- OK! --\n",
    "\n",
    ">>> y = 5\n",
    ">>> y = y + 3\n",
    ">>> y * 2\n",
    "? 16\n",
    "-- OK! --\n",
    "\n",
    ">>> y + x\n",
    "? 28\n",
    "-- OK! --\n",
    "\n",
    "---------------------------------------------------------------------\n",
    "OK! All cases for Python Basics unlocked.\n",
    "\n",
    "Backup... 100% complete\n",
    "Backup past deadline by 38 days, 6 hours, 12 minutes, and 44 seconds\n",
    "Backup successful for user: 213212297hk@gmail.com\n",
    "URL: https://okpy.org/cal/cs61a/fa24/lab00/backups/pXyr7y\n",
    "```"
   ]
  },
  {
   "cell_type": "markdown",
   "metadata": {},
   "source": [
    "# 2) Implementing Functions\n"
   ]
  },
  {
   "cell_type": "markdown",
   "metadata": {},
   "source": [
    "Open the entire lab00 folder in VS Code. You can drag the folder onto the VS Code application or open VS Code and use `Open Folder...` in the File menu. \n",
    "\n",
    "Once you open the lab00 folder, you'll see the lab00.py file in the file explorer on the left panel of your VS Code window. \n",
    "\n",
    "Click it to start editing lab00.py, which is the file you will submit to receive credit for the lab.\n",
    "\n",
    "Important: Turn on `Auto Save` in the File menu of VS Code. Then, whenever you change a file, the contents will be saved.\n",
    "\n",
    "Now complete the lab. You should see a function called `twenty_twenty_four` that has a blank `return` statement. That blank is the only part you should change. Replace it with an expression that evaluates to 2024. What's the most creative expression you can come up with?"
   ]
  },
  {
   "cell_type": "markdown",
   "metadata": {},
   "source": [
    "# 3) Running Tests\n",
    "\n",
    "We will use a program called ok to test our code. ok will be included in every assignment in this class.\n",
    "\n",
    "Switch to the terminal. Make sure you are in the lab00 directory we created earlier. \n",
    "\n",
    "(The `cd` command lets you change directories.) \n",
    "\n",
    "Pro tip: If you opened the lab00 folder in VS Code and select New Terminal in the Terminal menu of VS Code, then the terminal will automatically be in the lab00 directory.\n",
    "\n",
    "In that directory, you can type `ls` to verify that there are the following files:\n",
    "\n",
    "- `lab00.py`: the starter file you just edited\n",
    "- `ok`: our testing program\n",
    "- `lab00.ok`: a configuration file for `ok`\n",
    "\n",
    "Now, let's test our code to make sure it works. You can run ok with this command:\n",
    "\n",
    "`python3 ok`\n",
    "\n"
   ]
  },
  {
   "cell_type": "markdown",
   "metadata": {},
   "source": [
    "```\n",
    "haohan@Lis-MacBook-Air lab00 % python3 ok\n",
    "=====================================================================\n",
    "Assignment: Lab 0\n",
    "OK, version v1.18.1\n",
    "=====================================================================\n",
    "\n",
    "~~~~~~~~~~~~~~~~~~~~~~~~~~~~~~~~~~~~~~~~~~~~~~~~~~~~~~~~~~~~~~~~~~~~~\n",
    "Running tests\n",
    "\n",
    "---------------------------------------------------------------------\n",
    "Test summary\n",
    "    2 test cases passed! No cases failed.\n",
    "\n",
    "Backup... 100% complete\n",
    "Backup past deadline by 38 days, 6 hours, 20 minutes, and 30 seconds\n",
    "Backup successful for user: 213212297hk@gmail.com\n",
    "URL: https://okpy.org/cal/cs61a/fa24/lab00/backups/R532kw\n",
    "```"
   ]
  },
  {
   "cell_type": "markdown",
   "metadata": {},
   "source": [
    "# useful command line options\n",
    "\n",
    "1.Using no command-line options will run the code in the file you provide and return you to the command line. **If your file just contains function definitions, you'll see no output unless there is a syntax error.**\n",
    "\n",
    "`python3 lab00.py`\n",
    "\n",
    "2.The `-i` option runs the code in the file you provide, then opens an interactive session (with a `>>>` prompt). You can then evaluate expressions, for example calling functions you defined. To exit, type `exit()`. You can also use the keyboard shortcut `Ctrl-D` on Linux/Mac machines or Ctrl-Z Enter on Windows.\n",
    "\n",
    "If you edit the Python file while running it interactively, you will need to exit and restart the interpreter in order for those changes to take effect.\n",
    "\n",
    "Here's how we can run lab00.py interactively:\n",
    "`python3 -i lab00.py`\n",
    "\n",
    "3.Runs the doctests in a file, which are the examples in the docstrings of functions.\n",
    "\n",
    "Each test in the file consists of `>>>` followed by some Python code and the expected output.\n",
    "\n",
    "Here's how we can run the doctests in lab00.py\n",
    "\n",
    "`python3 -m doctest lab00.py`\n",
    "\n",
    "**When our code passes all of the doctests, no output is displayed.** Otherwise, information about the tests that failed will be displayed."
   ]
  },
  {
   "cell_type": "markdown",
   "metadata": {},
   "source": [
    "```\n",
    "haohan@Lis-MacBook-Air lab00 % python3 lab00.py\n",
    "haohan@Lis-MacBook-Air lab00 % python3 -i lab00.py\n",
    ">>> twenty_twenty_four()\n",
    "2024\n",
    ">>> exit()\n",
    "haohan@Lis-MacBook-Air lab00 % python3 -m doctest lab00.py\n",
    "haohan@Lis-MacBook-Air lab00 % \n",
    "```"
   ]
  },
  {
   "cell_type": "markdown",
   "metadata": {},
   "source": []
  }
 ],
 "metadata": {
  "kernelspec": {
   "display_name": "Python 3",
   "language": "python",
   "name": "python3"
  },
  "language_info": {
   "codemirror_mode": {
    "name": "ipython",
    "version": 3
   },
   "file_extension": ".py",
   "mimetype": "text/x-python",
   "name": "python",
   "nbconvert_exporter": "python",
   "pygments_lexer": "ipython3",
   "version": "3.12.4"
  }
 },
 "nbformat": 4,
 "nbformat_minor": 2
}
