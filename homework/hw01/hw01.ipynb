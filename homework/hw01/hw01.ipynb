{
 "cells": [
  {
   "cell_type": "markdown",
   "metadata": {
    "vscode": {
     "languageId": "plaintext"
    }
   },
   "source": [
    "# Q1: A plus Abs B"
   ]
  },
  {
   "cell_type": "code",
   "execution_count": null,
   "metadata": {},
   "outputs": [],
   "source": [
    "from operator import add, sub\n",
    "\n",
    "def a_plus_abs_b(a, b):\n",
    "    \"\"\"Return a+abs(b), but without calling abs.\n",
    "\n",
    "    >>> a_plus_abs_b(2, 3)\n",
    "    5\n",
    "    >>> a_plus_abs_b(2, -3)\n",
    "    5\n",
    "    >>> a_plus_abs_b(-1, 4)\n",
    "    3\n",
    "    >>> a_plus_abs_b(-1, -4)\n",
    "    3\n",
    "    \"\"\"\n",
    "    if b < 0:\n",
    "        f = sub\n",
    "    else:\n",
    "        f = add \n",
    "    return f(a, b)\n",
    "\n"
   ]
  },
  {
   "cell_type": "markdown",
   "metadata": {},
   "source": [
    "```haohan@Lis-MacBook-Air hw01 % python3 ok -q a_plus_abs_b\n",
    "=====================================================================\n",
    "Assignment: Homework 1\n",
    "OK, version v1.18.1\n",
    "=====================================================================\n",
    "\n",
    "/Users/haohan/Library/CloudStorage/OneDrive-Personal/Mac_OneDrive/cs/CS61A/homework/hw01/hw01.py:22: SyntaxWarning: invalid escape sequence '\\s'\n",
    "  \"\"\"Check that you didn't change the return statement of a_plus_abs_b.\n",
    "~~~~~~~~~~~~~~~~~~~~~~~~~~~~~~~~~~~~~~~~~~~~~~~~~~~~~~~~~~~~~~~~~~~~~\n",
    "Running tests\n",
    "\n",
    "---------------------------------------------------------------------\n",
    "Test summary\n",
    "    1 test cases passed! No cases failed.\n",
    "\n",
    "Backup... 100% complete\n",
    "Backup past deadline by 33 days, 6 hours, 43 minutes, and 6 seconds\n",
    "Backup successful for user: 213212297hk@gmail.com\n",
    "URL: https://okpy.org/cal/cs61a/fa24/hw01/backups/rMAyBL\n",
    "```"
   ]
  },
  {
   "cell_type": "markdown",
   "metadata": {},
   "source": [
    "# Q2: two of three"
   ]
  },
  {
   "cell_type": "code",
   "execution_count": 1,
   "metadata": {},
   "outputs": [
    {
     "data": {
      "text/plain": [
       "45"
      ]
     },
     "execution_count": 1,
     "metadata": {},
     "output_type": "execute_result"
    }
   ],
   "source": [
    "def two_of_three(i, j, k):\n",
    "    \"\"\"Return m*m + n*n, where m and n are the two smallest members of the\n",
    "    positive numbers i, j, and k.\n",
    "\n",
    "    >>> two_of_three(1, 2, 3)\n",
    "    5\n",
    "    >>> two_of_three(5, 3, 1)\n",
    "    10\n",
    "    >>> two_of_three(10, 2, 8)\n",
    "    68\n",
    "    >>> two_of_three(5, 5, 5)\n",
    "    50\n",
    "    \"\"\"\n",
    "    return min(i**2 + j**2, i**2+k**2, j**2+k**2)\n",
    "\n",
    "two_of_three(3,6,9)"
   ]
  },
  {
   "cell_type": "markdown",
   "metadata": {},
   "source": [
    "```\n",
    "haohan@Lis-MacBook-Air hw01 % python3 ok -q two_of_three\n",
    "=====================================================================\n",
    "Assignment: Homework 1\n",
    "OK, version v1.18.1\n",
    "=====================================================================\n",
    "\n",
    "/Users/haohan/Library/CloudStorage/OneDrive-Personal/Mac_OneDrive/cs/CS61A/homework/hw01/hw01.py:22: SyntaxWarning: invalid escape sequence '\\s'\n",
    "  \"\"\"Check that you didn't change the return statement of a_plus_abs_b.\n",
    "Performing authentication\n",
    "Please enter your school email (.edu): 213212297hk@gmail.com\n",
    "~~~~~~~~~~~~~~~~~~~~~~~~~~~~~~~~~~~~~~~~~~~~~~~~~~~~~~~~~~~~~~~~~~~~~\n",
    "Running tests\n",
    "\n",
    "---------------------------------------------------------------------\n",
    "Test summary\n",
    "    1 test cases passed! No cases failed.\n",
    "\n",
    "Backup... 100% complete\n",
    "Backup past deadline by 35 days, 4 hours, 59 minutes, and 44 seconds\n",
    "Backup successful for user: 213212297hk@gmail.com\n",
    "URL: https://okpy.org/cal/cs61a/fa24/hw01/backups/6zP257\n",
    "```"
   ]
  },
  {
   "cell_type": "markdown",
   "metadata": {},
   "source": [
    "# Q3:Largest factor"
   ]
  },
  {
   "cell_type": "code",
   "execution_count": 3,
   "metadata": {},
   "outputs": [
    {
     "data": {
      "text/plain": [
       "5"
      ]
     },
     "execution_count": 3,
     "metadata": {},
     "output_type": "execute_result"
    }
   ],
   "source": [
    "def largest_factor(n):\n",
    "    \"\"\"Return the largest factor of n that is smaller than n.\n",
    "\n",
    "    >>> largest_factor(15) # factors are 1, 3, 5\n",
    "    5\n",
    "    >>> largest_factor(80) # factors are 1, 2, 4, 5, 8, 10, 16, 20, 40\n",
    "    40\n",
    "    >>> largest_factor(13) # factor is 1 since 13 is prime\n",
    "    1\n",
    "    \"\"\"\n",
    "    \"*** YOUR CODE HERE ***\"\n",
    "    lf = 0\n",
    "    for i in range(1,n): # 1,...,n-1\n",
    "        if n%i == 0:\n",
    "            lf = i\n",
    "    return lf\n",
    "\n",
    "largest_factor(15)\n",
    "\n"
   ]
  },
  {
   "cell_type": "markdown",
   "metadata": {},
   "source": [
    "```\n",
    "haohan@Lis-MacBook-Air hw01 % python3 ok -q largest_factor\n",
    "=====================================================================\n",
    "Assignment: Homework 1\n",
    "OK, version v1.18.1\n",
    "=====================================================================\n",
    "\n",
    "~~~~~~~~~~~~~~~~~~~~~~~~~~~~~~~~~~~~~~~~~~~~~~~~~~~~~~~~~~~~~~~~~~~~~\n",
    "Running tests\n",
    "\n",
    "---------------------------------------------------------------------\n",
    "Test summary\n",
    "    1 test cases passed! No cases failed.\n",
    "\n",
    "Backup... 100% complete\n",
    "Backup past deadline by 35 days, 5 hours, 8 minutes, and 8 seconds\n",
    "Backup successful for user: 213212297hk@gmail.com\n",
    "URL: https://okpy.org/cal/cs61a/fa24/hw01/backups/mMrGop\n",
    "\n",
    "```"
   ]
  },
  {
   "cell_type": "code",
   "execution_count": 2,
   "metadata": {},
   "outputs": [
    {
     "data": {
      "text/plain": [
       "1"
      ]
     },
     "execution_count": 2,
     "metadata": {},
     "output_type": "execute_result"
    }
   ],
   "source": [
    "13%2"
   ]
  },
  {
   "cell_type": "markdown",
   "metadata": {},
   "source": [
    "# Q4:hailstone\n"
   ]
  },
  {
   "cell_type": "markdown",
   "metadata": {},
   "source": [
    "- Pick a positive integer n as the start.\n",
    "- If n is even, divide it by 2.\n",
    "- If n is odd, multiply it by 3 and add 1.\n",
    "- Continue this process until n is 1."
   ]
  },
  {
   "cell_type": "code",
   "execution_count": null,
   "metadata": {},
   "outputs": [],
   "source": [
    "def hailstone(n):\n",
    "    \"\"\"Print the hailstone sequence starting at n and return its\n",
    "    length.\n",
    "\n",
    "    >>> a = hailstone(10)\n",
    "    10\n",
    "    5\n",
    "    16\n",
    "    8\n",
    "    4\n",
    "    2\n",
    "    1\n",
    "    >>> a\n",
    "    7\n",
    "    >>> b = hailstone(1)\n",
    "    1\n",
    "    >>> b\n",
    "    1\n",
    "    \"\"\"\n",
    "    \"*** YOUR CODE HERE ***\"\n",
    "    length = 0\n",
    "    print(n)\n",
    "    while n > 1:\n",
    "        if n%2 == 1:\n",
    "            n = int(3*n + 1)\n",
    "            length += 1\n",
    "            print(n)\n",
    "        if n%2 == 0:\n",
    "            n /= 2\n",
    "            n = int(n)\n",
    "            length += 1\n",
    "            print(n)\n",
    "    length += 1\n",
    "    return length\n",
    "\n",
    "\n"
   ]
  },
  {
   "cell_type": "markdown",
   "metadata": {},
   "source": [
    "\n",
    "```\n",
    "haohan@Lis-MacBook-Air hw01 % python3 ok --score     \n",
    "=====================================================================\n",
    "Assignment: Homework 1\n",
    "OK, version v1.18.1\n",
    "=====================================================================\n",
    "\n",
    "~~~~~~~~~~~~~~~~~~~~~~~~~~~~~~~~~~~~~~~~~~~~~~~~~~~~~~~~~~~~~~~~~~~~~\n",
    "Scoring tests\n",
    "\n",
    "---------------------------------------------------------------------\n",
    "Doctests for a_plus_abs_b\n",
    "\n",
    ">>> from hw01 import *\n",
    ">>> a_plus_abs_b(2, 3)\n",
    "5\n",
    ">>> a_plus_abs_b(2, -3)\n",
    "5\n",
    ">>> a_plus_abs_b(-1, 4)\n",
    "3\n",
    ">>> a_plus_abs_b(-1, -4)\n",
    "3\n",
    "Score: 1.0/1\n",
    "\n",
    "---------------------------------------------------------------------\n",
    "Doctests for a_plus_abs_b_syntax_check\n",
    "\n",
    ">>> from hw01 import *\n",
    ">>> # You aren't expected to understand the code of this test.\n",
    ">>> import inspect, re\n",
    ">>> re.findall(r'^\\s*(return .*)', inspect.getsource(a_plus_abs_b), re.M)\n",
    "['return f(a, b)']\n",
    "Score: 1.0/1\n",
    "\n",
    "---------------------------------------------------------------------\n",
    "Doctests for two_of_three\n",
    "\n",
    ">>> from hw01 import *\n",
    ">>> two_of_three(1, 2, 3)\n",
    "5\n",
    ">>> two_of_three(5, 3, 1)\n",
    "10\n",
    ">>> two_of_three(10, 2, 8)\n",
    "68\n",
    ">>> two_of_three(5, 5, 5)\n",
    "50\n",
    "Score: 1.0/1\n",
    "\n",
    "---------------------------------------------------------------------\n",
    "Doctests for two_of_three_syntax_check\n",
    "\n",
    ">>> from hw01 import *\n",
    ">>> # You aren't expected to understand the code of this test.\n",
    ">>> import inspect, ast\n",
    ">>> [type(x).__name__ for x in ast.parse(inspect.getsource(two_of_three)).body[0].body]\n",
    "['Expr', 'Return']\n",
    "Score: 1.0/1\n",
    "\n",
    "---------------------------------------------------------------------\n",
    "Doctests for largest_factor\n",
    "\n",
    ">>> from hw01 import *\n",
    ">>> largest_factor(15) # factors are 1, 3, 5\n",
    "5\n",
    ">>> largest_factor(80) # factors are 1, 2, 4, 5, 8, 10, 16, 20, 40\n",
    "40\n",
    ">>> largest_factor(13) # factor is 1 since 13 is prime\n",
    "1\n",
    "Score: 1.0/1\n",
    "\n",
    "---------------------------------------------------------------------\n",
    "Doctests for hailstone\n",
    "\n",
    ">>> from hw01 import *\n",
    ">>> a = hailstone(10)\n",
    "10\n",
    "5\n",
    "16\n",
    "8\n",
    "4\n",
    "2\n",
    "1\n",
    ">>> a\n",
    "7\n",
    ">>> b = hailstone(1)\n",
    "1\n",
    ">>> b\n",
    "1\n",
    "Score: 1.0/1\n",
    "\n",
    "---------------------------------------------------------------------\n",
    "Point breakdown\n",
    "    a_plus_abs_b: 1.0/1\n",
    "    a_plus_abs_b_syntax_check: 1.0/1\n",
    "    two_of_three: 1.0/1\n",
    "    two_of_three_syntax_check: 1.0/1\n",
    "    largest_factor: 1.0/1\n",
    "    hailstone: 1.0/1\n",
    "\n",
    "Score:\n",
    "    Total: 6.0\n",
    "\n",
    "Backup... 100% complete\n",
    "Backup past deadline by 35 days, 5 hours, 18 minutes, and 28 seconds\n",
    "Backup successful for user: 213212297hk@gmail.com\n",
    "URL: https://okpy.org/cal/cs61a/fa24/hw01/backups/kOpDmY\n",
    "\n",
    "OK is up to date\n",
    "```"
   ]
  },
  {
   "cell_type": "code",
   "execution_count": null,
   "metadata": {},
   "outputs": [],
   "source": []
  }
 ],
 "metadata": {
  "kernelspec": {
   "display_name": "Python 3",
   "language": "python",
   "name": "python3"
  },
  "language_info": {
   "codemirror_mode": {
    "name": "ipython",
    "version": 3
   },
   "file_extension": ".py",
   "mimetype": "text/x-python",
   "name": "python",
   "nbconvert_exporter": "python",
   "pygments_lexer": "ipython3",
   "version": "3.12.4"
  }
 },
 "nbformat": 4,
 "nbformat_minor": 2
}
