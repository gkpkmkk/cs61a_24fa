{
 "cells": [
  {
   "cell_type": "code",
   "execution_count": 13,
   "metadata": {},
   "outputs": [],
   "source": [
    "from operator import add, mul\n",
    "\n",
    "square = lambda x: x * x\n",
    "\n",
    "identity = lambda x: x\n",
    "\n",
    "triple = lambda x: 3 * x\n",
    "\n",
    "increment = lambda x: x + 1\n"
   ]
  },
  {
   "cell_type": "markdown",
   "metadata": {},
   "source": [
    "## Higher-Order Functions"
   ]
  },
  {
   "cell_type": "markdown",
   "metadata": {},
   "source": [
    "## Q1:Product"
   ]
  },
  {
   "cell_type": "code",
   "execution_count": 5,
   "metadata": {},
   "outputs": [
    {
     "data": {
      "text/plain": [
       "120"
      ]
     },
     "execution_count": 5,
     "metadata": {},
     "output_type": "execute_result"
    }
   ],
   "source": [
    "def product(n, term):\n",
    "    \"\"\"Return the product of the first n terms in a sequence.\n",
    "\n",
    "    n: a positive integer\n",
    "    term:  a function that takes one argument to produce the term\n",
    "\n",
    "    >>> product(3, identity)  # 1 * 2 * 3\n",
    "    6\n",
    "    >>> product(5, identity)  # 1 * 2 * 3 * 4 * 5\n",
    "    120\n",
    "    >>> product(3, square)    # 1^2 * 2^2 * 3^2\n",
    "    36\n",
    "    >>> product(5, square)    # 1^2 * 2^2 * 3^2 * 4^2 * 5^2\n",
    "    14400\n",
    "    >>> product(3, increment) # (1+1) * (2+1) * (3+1)\n",
    "    24\n",
    "    >>> product(3, triple)    # 1*3 * 2*3 * 3*3\n",
    "    162\n",
    "    \"\"\"\n",
    "    \"*** YOUR CODE HERE ***\"\n",
    "    val = 1\n",
    "    for i in range(1,n+1):\n",
    "        val *= term(i)\n",
    "    return val\n",
    "\n",
    "product(5, identity)\n",
    "\n",
    "    "
   ]
  },
  {
   "cell_type": "markdown",
   "metadata": {},
   "source": [
    "## Q2:Accumulate"
   ]
  },
  {
   "cell_type": "code",
   "execution_count": 12,
   "metadata": {},
   "outputs": [
    {
     "data": {
      "text/plain": [
       "19"
      ]
     },
     "execution_count": 12,
     "metadata": {},
     "output_type": "execute_result"
    }
   ],
   "source": [
    "def accumulate(fuse, start, n, term):\n",
    "    \"\"\"Return the result of fusing together the first n terms in a sequence \n",
    "    and start.  The terms to be fused are term(1), term(2), ..., term(n). \n",
    "    The function fuse is a two-argument commutative & associative function.\n",
    "\n",
    "    >>> accumulate(add, 0, 5, identity)  # 0 + 1 + 2 + 3 + 4 + 5\n",
    "    15\n",
    "    >>> accumulate(add, 11, 5, identity) # 11 + 1 + 2 + 3 + 4 + 5\n",
    "    26\n",
    "    >>> accumulate(add, 11, 0, identity) # 11 (fuse is never used)\n",
    "    11\n",
    "    >>> accumulate(add, 11, 3, square)   # 11 + 1^2 + 2^2 + 3^2\n",
    "    25\n",
    "    >>> accumulate(mul, 2, 3, square)    # 2 * 1^2 * 2^2 * 3^2\n",
    "    72\n",
    "    >>> # 2 + (1^2 + 1) + (2^2 + 1) + (3^2 + 1)\n",
    "    >>> accumulate(lambda x, y: x + y + 1, 2, 3, square)\n",
    "    19\n",
    "    \"\"\"\n",
    "    \"*** YOUR CODE HERE ***\"\n",
    "    val = start\n",
    "    for i in range(1,n+1):\n",
    "        val = fuse(val, term(i))\n",
    "    return val\n"
   ]
  },
  {
   "cell_type": "markdown",
   "metadata": {},
   "source": [
    "## Q3: Repeater"
   ]
  },
  {
   "cell_type": "code",
   "execution_count": 18,
   "metadata": {},
   "outputs": [
    {
     "data": {
      "text/plain": [
       "390625"
      ]
     },
     "execution_count": 18,
     "metadata": {},
     "output_type": "execute_result"
    }
   ],
   "source": [
    "def make_repeater(f, n):\n",
    "    \"\"\"Returns the function that computes the nth application of f.\n",
    "\n",
    "    >>> add_three = make_repeater(increment, 3)\n",
    "    >>> add_three(5)\n",
    "    8\n",
    "    >>> make_repeater(triple, 5)(1) # 3 * (3 * (3 * (3 * (3 * 1))))\n",
    "    243\n",
    "    >>> make_repeater(square, 2)(5) # square(square(5))\n",
    "    625\n",
    "    >>> make_repeater(square, 3)(5) # square(square(square(5)))\n",
    "    390625\n",
    "    \"\"\"\n",
    "    \"*** YOUR CODE HERE ***\"\n",
    "\n",
    "    def nthapplication(x):\n",
    "        val = x\n",
    "        for i in range(n):\n",
    "            val = f(val)\n",
    "        return val\n",
    "    return nthapplication\n"
   ]
  },
  {
   "cell_type": "markdown",
   "metadata": {},
   "source": [
    "```\n",
    "haohan@Lis-MacBook-Air hw02 % python3 ok --score\n",
    "=====================================================================\n",
    "Assignment: Homework 2\n",
    "OK, version v1.18.1\n",
    "=====================================================================\n",
    "\n",
    "~~~~~~~~~~~~~~~~~~~~~~~~~~~~~~~~~~~~~~~~~~~~~~~~~~~~~~~~~~~~~~~~~~~~~\n",
    "Scoring tests\n",
    "\n",
    "---------------------------------------------------------------------\n",
    "Doctests for product\n",
    "\n",
    ">>> from hw02 import *\n",
    ">>> product(3, identity)  # 1 * 2 * 3\n",
    "6\n",
    ">>> product(5, identity)  # 1 * 2 * 3 * 4 * 5\n",
    "120\n",
    ">>> product(3, square)    # 1^2 * 2^2 * 3^2\n",
    "36\n",
    ">>> product(5, square)    # 1^2 * 2^2 * 3^2 * 4^2 * 5^2\n",
    "14400\n",
    ">>> product(3, increment) # (1+1) * (2+1) * (3+1)\n",
    "24\n",
    ">>> product(3, triple)    # 1*3 * 2*3 * 3*3\n",
    "162\n",
    "Score: 1.0/1\n",
    "\n",
    "---------------------------------------------------------------------\n",
    "Doctests for accumulate\n",
    "\n",
    ">>> from hw02 import *\n",
    ">>> accumulate(add, 0, 5, identity)  # 0 + 1 + 2 + 3 + 4 + 5\n",
    "15\n",
    ">>> accumulate(add, 11, 5, identity) # 11 + 1 + 2 + 3 + 4 + 5\n",
    "26\n",
    ">>> accumulate(add, 11, 0, identity) # 11 (fuse is never used)\n",
    "11\n",
    ">>> accumulate(add, 11, 3, square)   # 11 + 1^2 + 2^2 + 3^2\n",
    "25\n",
    ">>> accumulate(mul, 2, 3, square)    # 2 * 1^2 * 2^2 * 3^2\n",
    "72\n",
    ">>> # 2 + (1^2 + 1) + (2^2 + 1) + (3^2 + 1)\n",
    ">>> accumulate(lambda x, y: x + y + 1, 2, 3, square)\n",
    "19\n",
    "Score: 1.0/1\n",
    "\n",
    "---------------------------------------------------------------------\n",
    "Doctests for summation_using_accumulate\n",
    "\n",
    ">>> from hw02 import *\n",
    ">>> summation_using_accumulate(5, square) # square(1) + square(2) + ... + square(4) + square(5)\n",
    "55\n",
    ">>> summation_using_accumulate(5, triple) # triple(1) + triple(2) + ... + triple(4) + triple(5)\n",
    "45\n",
    ">>> # This test checks that the body of the function is just a return statement.\n",
    ">>> import inspect, ast\n",
    ">>> [type(x).__name__ for x in ast.parse(inspect.getsource(summation_using_accumulate)).body[0].body]\n",
    "['Expr', 'Return']\n",
    "Score: 1.0/1\n",
    "\n",
    "---------------------------------------------------------------------\n",
    "Doctests for product_using_accumulate\n",
    "\n",
    ">>> from hw02 import *\n",
    ">>> product_using_accumulate(4, square) # square(1) * square(2) * square(3) * square()\n",
    "576\n",
    ">>> product_using_accumulate(6, triple) # triple(1) * triple(2) * ... * triple(5) * triple(6)\n",
    "524880\n",
    ">>> # This test checks that the body of the function is just a return statement.\n",
    ">>> import inspect, ast\n",
    ">>> [type(x).__name__ for x in ast.parse(inspect.getsource(product_using_accumulate)).body[0].body]\n",
    "['Expr', 'Return']\n",
    "Score: 1.0/1\n",
    "\n",
    "---------------------------------------------------------------------\n",
    "Doctests for make_repeater\n",
    "\n",
    ">>> from hw02 import *\n",
    ">>> add_three = make_repeater(increment, 3)\n",
    ">>> add_three(5)\n",
    "8\n",
    ">>> make_repeater(triple, 5)(1) # 3 * (3 * (3 * (3 * (3 * 1))))\n",
    "243\n",
    ">>> make_repeater(square, 2)(5) # square(square(5))\n",
    "625\n",
    ">>> make_repeater(square, 3)(5) # square(square(square(5)))\n",
    "390625\n",
    "Score: 1.0/1\n",
    "\n",
    "---------------------------------------------------------------------\n",
    "Point breakdown\n",
    "    product: 1.0/1\n",
    "    accumulate: 1.0/1\n",
    "    summation_using_accumulate: 1.0/1\n",
    "    product_using_accumulate: 1.0/1\n",
    "    make_repeater: 1.0/1\n",
    "\n",
    "Score:\n",
    "    Total: 5.0\n",
    "\n",
    "Backup... 100% complete\n",
    "Backup past deadline by 40 days, 18 hours, 59 minutes, and 29 seconds\n",
    "Backup successful for user: 213212297hk@gmail.com\n",
    "URL: https://okpy.org/cal/cs61a/fa24/hw02/backups/pX4VPN\n",
    "\n",
    "OK is up to date\n",
    "```"
   ]
  },
  {
   "cell_type": "markdown",
   "metadata": {},
   "source": []
  }
 ],
 "metadata": {
  "kernelspec": {
   "display_name": "Python 3",
   "language": "python",
   "name": "python3"
  },
  "language_info": {
   "codemirror_mode": {
    "name": "ipython",
    "version": 3
   },
   "file_extension": ".py",
   "mimetype": "text/x-python",
   "name": "python",
   "nbconvert_exporter": "python",
   "pygments_lexer": "ipython3",
   "version": "3.12.4"
  }
 },
 "nbformat": 4,
 "nbformat_minor": 2
}
