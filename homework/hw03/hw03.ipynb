{
 "cells": [
  {
   "cell_type": "markdown",
   "metadata": {},
   "source": [
    "## Q1"
   ]
  },
  {
   "cell_type": "code",
   "execution_count": 6,
   "metadata": {},
   "outputs": [
    {
     "data": {
      "text/plain": [
       "2"
      ]
     },
     "execution_count": 6,
     "metadata": {},
     "output_type": "execute_result"
    }
   ],
   "source": [
    "def num_eights(n):\n",
    "    \"\"\"Returns the number of times 8 appears as a digit of n.\n",
    "\n",
    "    >>> num_eights(3)\n",
    "    0\n",
    "    >>> num_eights(8)\n",
    "    1\n",
    "    >>> num_eights(88888888)\n",
    "    8\n",
    "    >>> num_eights(2638)\n",
    "    1\n",
    "    >>> num_eights(86380)\n",
    "    2\n",
    "    >>> num_eights(12345)\n",
    "    0\n",
    "    >>> num_eights(8782089)\n",
    "    3\n",
    "    >>> from construct_check import check\n",
    "    >>> # ban all assignment statements\n",
    "    >>> check(HW_SOURCE_FILE, 'num_eights',\n",
    "    ...       ['Assign', 'AnnAssign', 'AugAssign', 'NamedExpr', 'For', 'While'])\n",
    "    True\n",
    "    \"\"\"\n",
    "    \"*** YOUR CODE HERE ***\"\n",
    "    if n < 10: #base case\n",
    "        if n == 8:\n",
    "            return 1\n",
    "        else:\n",
    "            return 0\n",
    "    else:\n",
    "        if n%10 == 8:\n",
    "            return num_eights(n//10)+1 \n",
    "        else:\n",
    "            return num_eights(n//10)\n",
    "\n",
    "num_eights(2638)\n",
    "num_eights(88888888)\n",
    "num_eights(86380)"
   ]
  },
  {
   "cell_type": "markdown",
   "metadata": {},
   "source": [
    "## Q2"
   ]
  },
  {
   "cell_type": "code",
   "execution_count": 9,
   "metadata": {},
   "outputs": [
    {
     "data": {
      "text/plain": [
       "0"
      ]
     },
     "execution_count": 9,
     "metadata": {},
     "output_type": "execute_result"
    }
   ],
   "source": [
    "def digit_distance(n):\n",
    "    \"\"\"Determines the digit distance of n.\n",
    "\n",
    "    >>> digit_distance(3)\n",
    "    0\n",
    "    >>> digit_distance(777) # 0 + 0\n",
    "    0\n",
    "    >>> digit_distance(314) # 2 + 3\n",
    "    5\n",
    "    >>> digit_distance(31415926535) # 2 + 3 + 3 + 4 + ... + 2\n",
    "    32\n",
    "    >>> digit_distance(3464660003)  # 1 + 2 + 2 + 2 + ... + 3\n",
    "    16\n",
    "    >>> from construct_check import check\n",
    "    >>> # ban all loops\n",
    "    >>> check(HW_SOURCE_FILE, 'digit_distance',\n",
    "    ...       ['For', 'While'])\n",
    "    True\n",
    "    \"\"\"\n",
    "    \"*** YOUR CODE HERE ***\"\n",
    "    if n < 10:\n",
    "        return 0\n",
    "    else:\n",
    "        return abs(n%10 - n//10%10)+ digit_distance(n//10)\n",
    "    \n",
    "digit_distance(777)"
   ]
  },
  {
   "cell_type": "markdown",
   "metadata": {},
   "source": [
    "## Q3"
   ]
  },
  {
   "cell_type": "code",
   "execution_count": 3,
   "metadata": {},
   "outputs": [
    {
     "data": {
      "text/plain": [
       "29"
      ]
     },
     "execution_count": 3,
     "metadata": {},
     "output_type": "execute_result"
    }
   ],
   "source": [
    "def interleaved_sum(n, odd_func, even_func):\n",
    "    \"\"\"Compute the sum odd_func(1) + even_func(2) + odd_func(3) + ..., up\n",
    "    to n.\n",
    "\n",
    "    >>> identity = lambda x: x\n",
    "    >>> square = lambda x: x * x\n",
    "    >>> triple = lambda x: x * 3\n",
    "    >>> interleaved_sum(5, identity, square) # 1   + 2*2 + 3   + 4*4 + 5\n",
    "    29\n",
    "    >>> interleaved_sum(5, square, identity) # 1*1 + 2   + 3*3 + 4   + 5*5\n",
    "    41\n",
    "    >>> interleaved_sum(4, triple, square)   # 1*3 + 2*2 + 3*3 + 4*4\n",
    "    32\n",
    "    >>> interleaved_sum(4, square, triple)   # 1*1 + 2*3 + 3*3 + 4*3\n",
    "    28\n",
    "    >>> from construct_check import check\n",
    "    >>> check(HW_SOURCE_FILE, 'interleaved_sum', ['While', 'For', 'Mod']) # ban loops and %\n",
    "    True\n",
    "    >>> check(HW_SOURCE_FILE, 'interleaved_sum', ['BitAnd', 'BitOr', 'BitXor']) # ban bitwise operators, don't worry about these if you don't know what they are\n",
    "    True\n",
    "    \"\"\"\n",
    "    \"*** YOUR CODE HERE ***\"\n",
    "    def is_even(n):\n",
    "        if n == 0:\n",
    "            return True\n",
    "        else:\n",
    "            return is_odd(n-1)\n",
    "    \n",
    "    def is_odd(n):\n",
    "        if n == 0:\n",
    "            return False\n",
    "        else:\n",
    "            return is_even(n-1)\n",
    "        \n",
    "    if n == 1:\n",
    "        return odd_func(n)\n",
    "    \n",
    "    if is_odd(n):\n",
    "        return odd_func(n)+interleaved_sum(n-1, odd_func, even_func)\n",
    "    if is_even(n):\n",
    "        return even_func(n)+interleaved_sum(n-1, odd_func, even_func)\n",
    "\n",
    "    \n",
    "    \n",
    "\n",
    "identity = lambda x: x\n",
    "square = lambda x: x * x\n",
    "triple = lambda x: x * 3\n",
    "interleaved_sum(5, identity, square)"
   ]
  },
  {
   "cell_type": "code",
   "execution_count": 4,
   "metadata": {},
   "outputs": [
    {
     "data": {
      "text/plain": [
       "29"
      ]
     },
     "execution_count": 4,
     "metadata": {},
     "output_type": "execute_result"
    }
   ],
   "source": [
    "def interleaved_sum(n, odd_func, even_func):\n",
    "    def helper(k, func):# from 1 to n, odd_func->even_func->odd_func\n",
    "        if k > n:\n",
    "            return 0\n",
    "        return func(k) + helper(k + 1, even_func if func == odd_func else odd_func)\n",
    "    \n",
    "    return helper(1, odd_func)\n",
    "\n",
    "\n",
    "identity = lambda x: x\n",
    "square = lambda x: x * x\n",
    "triple = lambda x: x * 3\n",
    "interleaved_sum(5, identity, square)"
   ]
  },
  {
   "cell_type": "markdown",
   "metadata": {},
   "source": [
    "## Q4"
   ]
  },
  {
   "cell_type": "code",
   "execution_count": null,
   "metadata": {},
   "outputs": [
    {
     "ename": "",
     "evalue": "",
     "output_type": "error",
     "traceback": [
      "\u001b[1;31mRunning cells with 'Python 3.13.0' requires the ipykernel package.\n",
      "\u001b[1;31mRun the following command to install 'ipykernel' into the Python environment. \n",
      "\u001b[1;31mCommand: '/usr/local/bin/python3 -m pip install ipykernel -U --user --force-reinstall'"
     ]
    }
   ],
   "source": [
    "def next_smaller_dollar(bill):\n",
    "    \"\"\"Returns the next smaller bill in order.\"\"\"\n",
    "    if bill == 100:\n",
    "        return 50\n",
    "    if bill == 50:\n",
    "        return 20\n",
    "    if bill == 20:\n",
    "        return 10\n",
    "    elif bill == 10:\n",
    "        return 5\n",
    "    elif bill == 5:\n",
    "        return 1\n",
    "\n",
    "def count_dollars(total):\n",
    "    \"\"\"Return the number of ways to make change.\n",
    "\n",
    "    >>> count_dollars(15)  # 15 $1 bills, 10 $1 & 1 $5 bills, ... 1 $5 & 1 $10 bills\n",
    "    6\n",
    "    >>> count_dollars(10)  # 10 $1 bills, 5 $1 & 1 $5 bills, 2 $5 bills, 10 $1 bills\n",
    "    4\n",
    "    >>> count_dollars(20)  # 20 $1 bills, 15 $1 & $5 bills, ... 1 $20 bill\n",
    "    10\n",
    "    >>> count_dollars(45)  # How many ways to make change for 45 dollars?\n",
    "    44\n",
    "    >>> count_dollars(100) # How many ways to make change for 100 dollars?\n",
    "    344\n",
    "    >>> count_dollars(200) # How many ways to make change for 200 dollars?\n",
    "    3274\n",
    "    >>> from construct_check import check\n",
    "    >>> # ban iteration\n",
    "    >>> check(HW_SOURCE_FILE, 'count_dollars', ['While', 'For'])\n",
    "    True\n",
    "    \"\"\"\n",
    "    \"*** YOUR CODE HERE ***\"\n",
    "        \n",
    "    def helper(total,bill):\n",
    "    \n",
    "        if total < 0:\n",
    "            return 0\n",
    "        \n",
    "        if total == 1 or total == 0:\n",
    "            return 1\n",
    "        \n",
    "        if bill == 1:\n",
    "            return 1\n",
    "        \n",
    "    \n",
    "        return helper(total - bill, bill)+helper(total, next_smaller_dollar(bill))\n",
    "\n",
    "    return helper(total, 100)\n",
    "\n",
    "for _ in [10,15,20,45,100,200]:\n",
    "    print(count_dollars(_))\n",
    "\n",
    "\n"
   ]
  },
  {
   "cell_type": "code",
   "execution_count": 1,
   "metadata": {},
   "outputs": [
    {
     "data": {
      "text/plain": [
       "6"
      ]
     },
     "execution_count": 1,
     "metadata": {},
     "output_type": "execute_result"
    }
   ],
   "source": [
    "def next_larger_dollar(bill):\n",
    "    \"\"\"Returns the next larger bill in order.\"\"\"\n",
    "    if bill == 1:\n",
    "        return 5\n",
    "    elif bill == 5:\n",
    "        return 10\n",
    "    elif bill == 10:\n",
    "        return 20\n",
    "    elif bill == 20:\n",
    "        return 50\n",
    "    elif bill == 50:\n",
    "        return 100\n",
    "    else:\n",
    "        return None  # No larger bill after 100\n",
    "\n",
    "def count_dollars(total):\n",
    "    \"\"\"Return the number of ways to make change using the `next_larger_dollar` function.\"\"\"\n",
    "    \n",
    "    def helper(total, bill):\n",
    "        if total < 0:\n",
    "            return 0\n",
    "        if total == 0:\n",
    "            return 1\n",
    "        if bill is None or total < bill:\n",
    "            return 0\n",
    "        \n",
    "        # Recursive case: try including the current bill and moving to the next larger bill\n",
    "        return helper(total - bill, bill) + helper(total, next_larger_dollar(bill))  #????\n",
    "\n",
    "    return helper(total, 1)  # Start from the smallest bill, $1\n",
    " \n",
    "count_dollars(15)"
   ]
  },
  {
   "cell_type": "markdown",
   "metadata": {},
   "source": [
    "```\n",
    "Decision Tree:\n",
    "helper(5, 1)\n",
    "├── helper(4, 1)\n",
    "│   ├── helper(3, 1)\n",
    "│   │   ├── helper(2, 1)\n",
    "│   │   │   ├── helper(1, 1)\n",
    "│   │   │   │   ├── helper(0, 1) -> 1 (found one way)\n",
    "│   │   │   │   └── helper(1, 5) -> 0 (cannot use $5 bill for $1)\n",
    "│   │   │   └── helper(2, 5) -> 0 (cannot use $5 bill for $2)\n",
    "│   │   └── helper(3, 5) -> 0 (cannot use $5 bill for $3)\n",
    "│   └── helper(4, 5) -> 0 (cannot use $5 bill for $4)\n",
    "└── helper(5, 5)\n",
    "    ├── helper(0, 5) -> 1 (found one way)\n",
    "    └── helper(5, 10) -> 0 (cannot use $10 bill for $5)\n",
    "\n",
    "```\n"
   ]
  },
  {
   "cell_type": "markdown",
   "metadata": {},
   "source": [
    "```\n",
    "helper(15, 1)\n",
    "├── helper(14, 1)\n",
    "│   ├── helper(13, 1)\n",
    "│   │   ├── ... (repeated calls until reaching helper(0, 1))\n",
    "|   |   |   |   |--- helper(5,1)\n",
    "|   |   |   |   |       |--- helper(5,5)                        (case3: ten $1 bills and 1 $5 bill)\n",
    "│   │   │   ├── helper(0, 1) -> 1                               (case1:all $1 bills )\n",
    "│   │   │   └── helper(1, 5) -> 0\n",
    "|   |   |   |---helper(10,5) (five $1 bills)\n",
    "|   |   |   |       |--- helper(5,5) (five $1 bills and 1 $5 bill)\n",
    "|   |   |   |       |       |--- helper(0,5)                    (case2: five $1 bills and 2 $5 bills)\n",
    "│   │   └── helper(13, 5) -> 0\n",
    "│   └── helper(14, 5) -> 0\n",
    "├── helper(15, 5)\n",
    "│   ├── helper(10, 5) (one $5 bill)\n",
    "│   │   ├── helper(5, 5) (two $5 bills)\n",
    "│   │   │   ├── helper(0, 5) -> 1               (case4: three $5 bills)\n",
    "│   │   │   └── helper(5, 10) -> 0\n",
    "│   │   └── helper(10, 10)\n",
    "│   │       ├── helper(0, 10) -> 1 (one $10 and one $5) (case5)\n",
    "│   │       └── helper(10, 20) -> 0\n",
    "│   └── helper(15, 10)\n",
    "│       ├── helper(5, 10) \n",
    "│       │   └── helper(5, 20) -> 0\n",
    "│       └── helper(15, 20) -> 0\n",
    "└── helper(15, 10)\n",
    "    ├── helper(5, 10)\n",
    "    │   └── helper(5, 20) -> 0\n",
    "    └── helper(15, 20) -> 0\n",
    "\n",
    "```"
   ]
  },
  {
   "cell_type": "markdown",
   "metadata": {},
   "source": [
    "### ChatGPT advice to improve the efficiency using memorization"
   ]
  },
  {
   "cell_type": "code",
   "execution_count": 1,
   "metadata": {},
   "outputs": [
    {
     "name": "stdout",
     "output_type": "stream",
     "text": [
      "6\n"
     ]
    }
   ],
   "source": [
    "def next_larger_dollar(bill):\n",
    "    \"\"\"Returns the next larger bill in order.\"\"\"\n",
    "    if bill == 1:\n",
    "        return 5\n",
    "    elif bill == 5:\n",
    "        return 10\n",
    "    elif bill == 10:\n",
    "        return 20\n",
    "    elif bill == 20:\n",
    "        return 50\n",
    "    elif bill == 50:\n",
    "        return 100\n",
    "    else:\n",
    "        return None  # No larger bill after 100\n",
    "def count_dollars(total):\n",
    "    \"\"\"Return the number of ways to make change using the `next_larger_dollar` function with memoization.\"\"\"\n",
    "    \n",
    "    memo = {}  # Dictionary to store previously computed results\n",
    "\n",
    "    def helper(total, bill):\n",
    "        if total < 0:\n",
    "            return 0\n",
    "        if total == 0:\n",
    "            return 1\n",
    "        if bill is None or total < bill:\n",
    "            return 0\n",
    "\n",
    "        # Check if the result is already computed\n",
    "        if (total, bill) in memo:\n",
    "            return memo[(total, bill)]\n",
    "        \n",
    "        # Recursive case: try including the current bill and moving to the next larger bill\n",
    "        result = helper(total - bill, bill) + helper(total, next_larger_dollar(bill))\n",
    "        \n",
    "        # Store the result in the memo dictionary\n",
    "        memo[(total, bill)] = result\n",
    "        return result\n",
    "\n",
    "    return helper(total, 1)  # Start from the smallest bill, $1\n",
    "\n",
    "# Test the function with memoization\n",
    "print(count_dollars(15))  # Expected output: 6\n"
   ]
  },
  {
   "cell_type": "code",
   "execution_count": null,
   "metadata": {},
   "outputs": [],
   "source": []
  }
 ],
 "metadata": {
  "kernelspec": {
   "display_name": "Python 3",
   "language": "python",
   "name": "python3"
  },
  "language_info": {
   "codemirror_mode": {
    "name": "ipython",
    "version": 3
   },
   "file_extension": ".py",
   "mimetype": "text/x-python",
   "name": "python",
   "nbconvert_exporter": "python",
   "pygments_lexer": "ipython3",
   "version": "3.13.0"
  }
 },
 "nbformat": 4,
 "nbformat_minor": 2
}
