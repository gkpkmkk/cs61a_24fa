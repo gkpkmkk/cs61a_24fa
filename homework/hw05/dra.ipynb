{
 "cells": [
  {
   "cell_type": "code",
   "execution_count": 7,
   "id": "af674272",
   "metadata": {},
   "outputs": [
    {
     "data": {
      "text/plain": [
       "[10, 5, 16, 8, 4, 2, 1, 1, 1, 1]"
      ]
     },
     "execution_count": 7,
     "metadata": {},
     "output_type": "execute_result"
    }
   ],
   "source": [
    "def hailstone(n):\n",
    "    \"\"\"\n",
    "    Yields the elements of the hailstone sequence starting at n.\n",
    "    At the end of the sequence, yield 1 infinitely.\n",
    "\n",
    "    >>> hail_gen = hailstone(10)\n",
    "    >>> [next(hail_gen) for _ in range(10)]\n",
    "    [10, 5, 16, 8, 4, 2, 1, 1, 1, 1]\n",
    "    >>> next(hail_gen)\n",
    "    1\n",
    "    \"\"\"\n",
    "    \"*** YOUR CODE HERE ***\"\n",
    "    while True:\n",
    "        yield n\n",
    "        if n%2 == 0:\n",
    "            n = n//2\n",
    "        elif n%2 == 1 and n > 1:\n",
    "            n = 3*n + 1\n",
    "        else:\n",
    "            n = 1\n",
    "    \n",
    "\n",
    "hail_gen = hailstone(10)\n",
    "\n",
    "[next(hail_gen) for _ in range(10)]"
   ]
  },
  {
   "cell_type": "code",
   "execution_count": 11,
   "id": "e6edf158",
   "metadata": {},
   "outputs": [],
   "source": [
    "def merge(a, b):\n",
    "    \"\"\"\n",
    "    Return a generator that has all of the elements of generators a and b,\n",
    "    in increasing order, without duplicates.\n",
    "\n",
    "    >>> def sequence(start, step):\n",
    "    ...     while True:\n",
    "    ...         yield start\n",
    "    ...         start += step\n",
    "    >>> a = sequence(2, 3) # 2, 5, 8, 11, 14, ...\n",
    "    >>> b = sequence(3, 2) # 3, 5, 7, 9, 11, 13, 15, ...\n",
    "    >>> result = merge(a, b) # 2, 3, 5, 7, 8, 9, 11, 13, 14, 15\n",
    "    >>> [next(result) for _ in range(10)]\n",
    "    [2, 3, 5, 7, 8, 9, 11, 13, 14, 15]\n",
    "    \"\"\"\n",
    "    a_val, b_val = next(a), next(b)\n",
    "    while True:\n",
    "        if a_val == b_val:\n",
    "            \"*** YOUR CODE HERE ***\"\n",
    "            yield a_val\n",
    "            a_val = next(a)\n",
    "            b_val = next(b)\n",
    "        elif a_val < b_val:\n",
    "            \"*** YOUR CODE HERE ***\"\n",
    "            yield a_val\n",
    "            a_val = next(a)\n",
    "        else:\n",
    "            \"*** YOUR CODE HERE ***\"\n",
    "            yield b_val\n",
    "            b_val = next(b)"
   ]
  },
  {
   "cell_type": "code",
   "execution_count": 12,
   "id": "228272e1",
   "metadata": {},
   "outputs": [
    {
     "data": {
      "text/plain": [
       "[2, 3, 5, 7, 8, 9, 11, 13, 14, 15]"
      ]
     },
     "execution_count": 12,
     "metadata": {},
     "output_type": "execute_result"
    }
   ],
   "source": [
    "def sequence(start, step):\n",
    "    while True:\n",
    "        yield start\n",
    "        start += step\n",
    "\n",
    "a = sequence(2, 3) # 2, 5, 8, 11, 14, ...\n",
    "b = sequence(3, 2) # 3, 5, 7, 9, 11, 13, 15, ...\n",
    "result = merge(a, b) # 2, 3, 5, 7, 8, 9, 11, 13, 14, 15\n",
    "[next(result) for _ in range(10)]"
   ]
  },
  {
   "cell_type": "code",
   "execution_count": 20,
   "id": "e43f81c3",
   "metadata": {},
   "outputs": [],
   "source": [
    "def stair_ways(n):\n",
    "    \"\"\"\n",
    "    Yield all the ways to climb a set of n stairs taking\n",
    "    1 or 2 steps at a time.\n",
    "\n",
    "    >>> list(stair_ways(0))\n",
    "    [[]]\n",
    "    >>> s_w = stair_ways(4)\n",
    "    >>> sorted([next(s_w) for _ in range(5)])\n",
    "    [[1, 1, 1, 1], [1, 1, 2], [1, 2, 1], [2, 1, 1], [2, 2]]\n",
    "    >>> list(s_w) # Ensure you're not yielding extra\n",
    "    []\n",
    "    \"\"\"\n",
    "    \"*** YOUR CODE HERE ***\"\n",
    "    if n == 0:\n",
    "        yield []\n",
    "    elif n > 0:\n",
    "        for way in stair_ways(n-1):\n",
    "            yield [1] + way\n",
    "        if n >= 2:\n",
    "            for way in stair_ways(n-2):\n",
    "                yield [2] + way\n",
    "\n",
    "\n",
    "\n",
    "\n",
    "    "
   ]
  },
  {
   "cell_type": "code",
   "execution_count": 21,
   "id": "5f0393e1",
   "metadata": {},
   "outputs": [
    {
     "data": {
      "text/plain": [
       "[[]]"
      ]
     },
     "execution_count": 21,
     "metadata": {},
     "output_type": "execute_result"
    }
   ],
   "source": [
    "list(stair_ways(0))"
   ]
  },
  {
   "cell_type": "code",
   "execution_count": 22,
   "id": "9a14ef47",
   "metadata": {},
   "outputs": [],
   "source": [
    "s_w = stair_ways(4)"
   ]
  },
  {
   "cell_type": "code",
   "execution_count": 23,
   "id": "4bdade97",
   "metadata": {},
   "outputs": [
    {
     "data": {
      "text/plain": [
       "[[1, 1, 1, 1], [1, 1, 2], [1, 2, 1], [2, 1, 1], [2, 2]]"
      ]
     },
     "execution_count": 23,
     "metadata": {},
     "output_type": "execute_result"
    }
   ],
   "source": [
    "sorted([next(s_w) for _ in range(5)])"
   ]
  },
  {
   "cell_type": "code",
   "execution_count": 34,
   "id": "0df72332",
   "metadata": {},
   "outputs": [],
   "source": [
    "def tree(label, branches=[]):\n",
    "    \"\"\"Construct a tree with the given label value and a list of branches.\"\"\"\n",
    "    for branch in branches:\n",
    "        assert is_tree(branch), 'branches must be trees'\n",
    "    return [label] + list(branches)\n",
    "\n",
    "def label(tree):\n",
    "    \"\"\"Return the label value of a tree.\"\"\"\n",
    "    return tree[0]\n",
    "\n",
    "def branches(tree):\n",
    "    \"\"\"Return the list of branches of the given tree.\"\"\"\n",
    "    return tree[1:]\n",
    "\n",
    "def is_tree(tree):\n",
    "    \"\"\"Returns True if the given tree is a tree, and False otherwise.\"\"\"\n",
    "    if type(tree) != list or len(tree) < 1:\n",
    "        return False\n",
    "    for branch in branches(tree):\n",
    "        if not is_tree(branch):\n",
    "            return False\n",
    "    return True\n",
    "\n",
    "def is_leaf(tree):\n",
    "    \"\"\"Returns True if the given tree's list of branches is empty, and False\n",
    "    otherwise.\n",
    "    \"\"\"\n",
    "    return not branches(tree)\n",
    "\n",
    "def print_tree(t, indent=0):\n",
    "    \"\"\"Print a representation of this tree in which each node is\n",
    "    indented by two spaces times its depth from the root.\n",
    "\n",
    "    >>> print_tree(tree(1))\n",
    "    1\n",
    "    >>> print_tree(tree(1, [tree(2)]))\n",
    "    1\n",
    "      2\n",
    "    >>> numbers = tree(1, [tree(2), tree(3, [tree(4), tree(5)]), tree(6, [tree(7)])])\n",
    "    >>> print_tree(numbers)\n",
    "    1\n",
    "      2\n",
    "      3\n",
    "        4\n",
    "        5\n",
    "      6\n",
    "        7\n",
    "    \"\"\"\n",
    "    print('  ' * indent + str(label(t)))\n",
    "    for b in branches(t):\n",
    "        print_tree(b, indent + 1)\n",
    "\n",
    "def copy_tree(t):\n",
    "    \"\"\"Returns a copy of t. Only for testing purposes.\n",
    "\n",
    "    >>> t = tree(5)\n",
    "    >>> copy = copy_tree(t)\n",
    "    >>> t = tree(6)\n",
    "    >>> print_tree(copy)\n",
    "    5\n",
    "    \"\"\"\n",
    "    return tree(label(t), [copy_tree(b) for b in branches(t)])\n",
    "\n",
    "\n",
    "\n",
    "def yield_paths(t, value):\n",
    "    \"\"\"\n",
    "    Yields all possible paths from the root of t to a node with the label\n",
    "    value as a list.\n",
    "\n",
    "    >>> t1 = tree(1, [tree(2, [tree(3), tree(4, [tree(6)]), tree(5)]), tree(5)])\n",
    "    >>> print_tree(t1)\n",
    "    1\n",
    "      2\n",
    "        3\n",
    "        4\n",
    "          6\n",
    "        5\n",
    "      5\n",
    "    >>> next(yield_paths(t1, 6))\n",
    "    [1, 2, 4, 6]\n",
    "    >>> path_to_5 = yield_paths(t1, 5)\n",
    "    >>> sorted(list(path_to_5))\n",
    "    [[1, 2, 5], [1, 5]]\n",
    "\n",
    "    >>> t2 = tree(0, [tree(2, [t1])])\n",
    "    >>> print_tree(t2)\n",
    "    0\n",
    "      2\n",
    "        1\n",
    "          2\n",
    "            3\n",
    "            4\n",
    "              6\n",
    "            5\n",
    "          5\n",
    "    >>> path_to_2 = yield_paths(t2, 2)\n",
    "    >>> sorted(list(path_to_2))\n",
    "    [[0, 2], [0, 2, 1, 2]]\n",
    "    \"\"\"\n",
    "    if label(t) == value:\n",
    "        yield [value]\n",
    "    for b in branches(t):\n",
    "        for way in yield_paths(b, value):\n",
    "            yield [label(t)]+way "
   ]
  },
  {
   "cell_type": "code",
   "execution_count": 35,
   "id": "2052c355",
   "metadata": {},
   "outputs": [
    {
     "data": {
      "text/plain": [
       "[[1, 2, 5], [1, 5]]"
      ]
     },
     "execution_count": 35,
     "metadata": {},
     "output_type": "execute_result"
    }
   ],
   "source": [
    "t1 = tree(1, [tree(2, [tree(3), tree(4, [tree(6)]), tree(5)]), tree(5)])\n",
    "path_to_5 = yield_paths(t1, 5)\n",
    "sorted(list(path_to_5))"
   ]
  },
  {
   "cell_type": "code",
   "execution_count": null,
   "id": "c39c8275",
   "metadata": {},
   "outputs": [],
   "source": [
    "path_to_2 = yield_paths(t2, 2)"
   ]
  }
 ],
 "metadata": {
  "kernelspec": {
   "display_name": "cs61a",
   "language": "python",
   "name": "python3"
  },
  "language_info": {
   "codemirror_mode": {
    "name": "ipython",
    "version": 3
   },
   "file_extension": ".py",
   "mimetype": "text/x-python",
   "name": "python",
   "nbconvert_exporter": "python",
   "pygments_lexer": "ipython3",
   "version": "3.12.9"
  }
 },
 "nbformat": 4,
 "nbformat_minor": 5
}
