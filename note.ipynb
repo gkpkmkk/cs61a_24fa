{
 "cells": [
  {
   "cell_type": "markdown",
   "id": "3103e48f",
   "metadata": {},
   "source": [
    "### 1.5.6 Testing"
   ]
  },
  {
   "cell_type": "code",
   "execution_count": null,
   "id": "c7121131",
   "metadata": {},
   "outputs": [],
   "source": [
    "# Assertion"
   ]
  },
  {
   "cell_type": "code",
   "execution_count": null,
   "id": "2cbfb31c",
   "metadata": {},
   "outputs": [],
   "source": [
    "# doctest\n"
   ]
  },
  {
   "cell_type": "markdown",
   "id": "a6c05be0",
   "metadata": {},
   "source": [
    "## 2.3 Sequence\n"
   ]
  },
  {
   "cell_type": "markdown",
   "id": "f01f77d8",
   "metadata": {},
   "source": [
    "### 2.3.1 List"
   ]
  },
  {
   "cell_type": "code",
   "execution_count": null,
   "id": "83bf9f75",
   "metadata": {},
   "outputs": [
    {
     "data": {
      "text/plain": [
       "4"
      ]
     },
     "execution_count": 1,
     "metadata": {},
     "output_type": "execute_result"
    }
   ],
   "source": [
    "digits = [1,8,2,8] # a list is a sequence that have arbitrary length\n",
    "len(digits) # built-in function"
   ]
  },
  {
   "cell_type": "code",
   "execution_count": 3,
   "id": "8d990a8b",
   "metadata": {},
   "outputs": [
    {
     "data": {
      "text/plain": [
       "8"
      ]
     },
     "execution_count": 3,
     "metadata": {},
     "output_type": "execute_result"
    }
   ],
   "source": [
    "digits[3] # element selection"
   ]
  },
  {
   "cell_type": "code",
   "execution_count": null,
   "id": "b0115b94",
   "metadata": {},
   "outputs": [
    {
     "data": {
      "text/plain": [
       "[2, 7, 1, 8, 2, 8, 1, 8, 2, 8]"
      ]
     },
     "execution_count": 2,
     "metadata": {},
     "output_type": "execute_result"
    }
   ],
   "source": [
    "[2,7] + digits * 2 # lists can be added together and multiplied by integers."
   ]
  },
  {
   "cell_type": "code",
   "execution_count": null,
   "id": "3e90e74c",
   "metadata": {},
   "outputs": [],
   "source": [
    "pairs = [[10,20],[30,40]] # any values can be included in a list, including another list"
   ]
  },
  {
   "cell_type": "markdown",
   "id": "c99baa96",
   "metadata": {},
   "source": [
    "### 2.3.2 Sequence iteration"
   ]
  },
  {
   "cell_type": "code",
   "execution_count": null,
   "id": "adbb67e3",
   "metadata": {},
   "outputs": [],
   "source": [
    "def count(s, value):\n",
    "    \"\"\"compute the number of occurrences of value in sequence s\"\"\""
   ]
  },
  {
   "cell_type": "markdown",
   "id": "fc2d20e8",
   "metadata": {},
   "source": [
    "### 2.3.6 Tree"
   ]
  },
  {
   "cell_type": "markdown",
   "id": "6624935a",
   "metadata": {},
   "source": [
    "A tree has a root label and a sequence of branches. Each branch of a tree is a tree. A tree with no branches is called a leaf. Any tree contained within a tree is called a sub-tree of that tree (such as a branch of a branch). The root of each sub-tree of a tree is called a node in that tree.\n",
    "\n"
   ]
  },
  {
   "cell_type": "markdown",
   "id": "38466952",
   "metadata": {},
   "source": [
    "The data abstraction for a tree consists of the constructor `tree` and the selectors `label` and `branches`. We begin with a simplified version."
   ]
  },
  {
   "cell_type": "code",
   "execution_count": 20,
   "id": "96dd932f",
   "metadata": {},
   "outputs": [],
   "source": [
    "def tree(root_label, branches=[]):\n",
    "    for branch in branches:\n",
    "        assert is_tree(branch), 'branches must be trees'  \n",
    "        # A tree is well-formed only if it has a root label and all branches are also trees. \n",
    "        # The is_tree function is applied in the tree constructor to verify that all branches are well-formed.\n",
    "    return [root_label] + list(branches)\n",
    "\n",
    "def label(tree):\n",
    "    return tree[0]\n",
    "\n",
    "def branches(tree):\n",
    "    return tree[1:]\n",
    "\n",
    "def is_tree(tree):\n",
    "    if type(tree) != list or len(tree) < 1:\n",
    "        return False\n",
    "    for branch in branches(tree):\n",
    "        if not is_tree(branch): # recursively, from root to branch\n",
    "            return False\n",
    "    return True\n",
    "\n",
    "def is_leaf(tree):\n",
    "    return not branches(tree)\n"
   ]
  },
  {
   "cell_type": "code",
   "execution_count": 3,
   "id": "be2cbf9e",
   "metadata": {},
   "outputs": [
    {
     "data": {
      "text/plain": [
       "[3, [1], [2, [1], [1]]]"
      ]
     },
     "execution_count": 3,
     "metadata": {},
     "output_type": "execute_result"
    }
   ],
   "source": [
    "t = tree(3, [tree(1), tree(2, [tree(1), tree(1)])])\n",
    "t"
   ]
  },
  {
   "cell_type": "code",
   "execution_count": 4,
   "id": "19d73ef1",
   "metadata": {},
   "outputs": [
    {
     "data": {
      "text/plain": [
       "3"
      ]
     },
     "execution_count": 4,
     "metadata": {},
     "output_type": "execute_result"
    }
   ],
   "source": [
    "label(t)"
   ]
  },
  {
   "cell_type": "code",
   "execution_count": 5,
   "id": "78ef7193",
   "metadata": {},
   "outputs": [
    {
     "data": {
      "text/plain": [
       "[[1], [2, [1], [1]]]"
      ]
     },
     "execution_count": 5,
     "metadata": {},
     "output_type": "execute_result"
    }
   ],
   "source": [
    "branches(t)"
   ]
  },
  {
   "cell_type": "code",
   "execution_count": 6,
   "id": "19590484",
   "metadata": {},
   "outputs": [
    {
     "data": {
      "text/plain": [
       "[2, [1], [1]]"
      ]
     },
     "execution_count": 6,
     "metadata": {},
     "output_type": "execute_result"
    }
   ],
   "source": [
    "branches(t)[1]"
   ]
  },
  {
   "cell_type": "code",
   "execution_count": null,
   "id": "2c37ea63",
   "metadata": {},
   "outputs": [
    {
     "data": {
      "text/plain": [
       "False"
      ]
     },
     "execution_count": 8,
     "metadata": {},
     "output_type": "execute_result"
    }
   ],
   "source": [
    "not branches(t)[1] # Non-empty list's boolean value: True"
   ]
  },
  {
   "cell_type": "code",
   "execution_count": 7,
   "id": "03dd2c52",
   "metadata": {},
   "outputs": [
    {
     "data": {
      "text/plain": [
       "False"
      ]
     },
     "execution_count": 7,
     "metadata": {},
     "output_type": "execute_result"
    }
   ],
   "source": [
    "is_leaf(branches(t)[1])"
   ]
  },
  {
   "cell_type": "code",
   "execution_count": null,
   "id": "286a789d",
   "metadata": {},
   "outputs": [
    {
     "data": {
      "text/plain": [
       "[5, [2, [1], [1, [0], [1]]], [3, [1, [0], [1]], [2, [1], [1, [0], [1]]]]]"
      ]
     },
     "execution_count": 9,
     "metadata": {},
     "output_type": "execute_result"
    }
   ],
   "source": [
    "# tree recursive functions can be used to construct trees\n",
    "# fib tree\n",
    "def fib_tree(n):\n",
    "    if n == 0 or n == 1:\n",
    "        return tree(n)\n",
    "    else:\n",
    "        left, right = fib_tree(n-2), fib_tree(n-1)\n",
    "        fib_n = label(left) + label(right)\n",
    "        return tree(fib_n, [left,right])\n",
    "    \n",
    "fib_tree(5)"
   ]
  },
  {
   "cell_type": "code",
   "execution_count": 12,
   "id": "fb70e2ca",
   "metadata": {},
   "outputs": [
    {
     "data": {
      "text/plain": [
       "[[2, [1], [1, [0], [1]]], [3, [1, [0], [1]], [2, [1], [1, [0], [1]]]]]"
      ]
     },
     "execution_count": 12,
     "metadata": {},
     "output_type": "execute_result"
    }
   ],
   "source": [
    "branches(fib_tree(5))"
   ]
  },
  {
   "cell_type": "code",
   "execution_count": 13,
   "id": "6e1f6356",
   "metadata": {},
   "outputs": [
    {
     "data": {
      "text/plain": [
       "8"
      ]
     },
     "execution_count": 13,
     "metadata": {},
     "output_type": "execute_result"
    }
   ],
   "source": [
    "def count_leaves(tree):\n",
    "    if is_leaf(tree):\n",
    "        return 1\n",
    "    else:\n",
    "        num_list = []\n",
    "        for branch in branches(tree):\n",
    "            num_list.append(count_leaves(branch))\n",
    "        return sum(num_list)\n",
    "    \n",
    "count_leaves(fib_tree(5))"
   ]
  },
  {
   "cell_type": "markdown",
   "id": "8212a54a",
   "metadata": {},
   "source": [
    "Slicing can be used on the branches of a tree as well. For example, we may want to place a restriction on the number of branches in a tree. A binary tree is either a leaf or a sequence of at most two binary trees. A common tree transformation called binarization computes a binary tree from an original tree by grouping together adjacent branches."
   ]
  },
  {
   "cell_type": "code",
   "execution_count": 28,
   "id": "9ae7f0f0",
   "metadata": {},
   "outputs": [],
   "source": [
    "#binarization\n",
    "def right_binarize(tree):\n",
    "    #construct a right-branching binary tree\n",
    "    if type(tree) != list: # if the tree is a leaf(int number), and if we use is_leaf(tree), there is a type error, int[1:] not exists. \n",
    "        return tree  \n",
    "    if len(tree) > 2:\n",
    "        tree = [tree[0], tree[1:]]\n",
    "    return [right_binarize(b) for b in tree]"
   ]
  },
  {
   "cell_type": "code",
   "execution_count": 29,
   "id": "870673f3",
   "metadata": {},
   "outputs": [
    {
     "data": {
      "text/plain": [
       "[1, [2, [3, [4, [5, [6, 7]]]]]]"
      ]
     },
     "execution_count": 29,
     "metadata": {},
     "output_type": "execute_result"
    }
   ],
   "source": [
    "right_binarize([1,2,3,4,5,6,7])"
   ]
  },
  {
   "cell_type": "markdown",
   "id": "b92e25b5",
   "metadata": {},
   "source": [
    "### 2.3.7 Linked list"
   ]
  },
  {
   "cell_type": "code",
   "execution_count": null,
   "id": "0eea3f42",
   "metadata": {},
   "outputs": [],
   "source": [
    "four = [1,[2,[3,[4, 'empty']]]]"
   ]
  },
  {
   "cell_type": "markdown",
   "id": "110089e1",
   "metadata": {},
   "source": [
    "A linked list is a pair containing the first element of the sequence (in this case 1) and the rest of the sequence (in this case a representation of 2, 3, 4). The second element is also a linked list. The rest of the inner-most linked list containing only 4 is 'empty', a value that represents an empty linked list.\n",
    "\n",
    "Linked lists have recursive structure: the rest of a linked list is a linked list or 'empty'. We can define an abstract data representation to validate, construct, and select the components of linked lists."
   ]
  },
  {
   "cell_type": "code",
   "execution_count": 4,
   "id": "fe42bf6e",
   "metadata": {},
   "outputs": [],
   "source": [
    "empty = 'empty'\n",
    "\n",
    "def is_link(s):\n",
    "    \"\"\"s is a linked list if it is empty or it is a [first, rest] pair\"\"\"\n",
    "    return s == empty or (len(s)==2 and is_link(s[1]))  #base case: s = [] or s = [first, empty]\n",
    "\n",
    "def link(first, rest):\n",
    "    \"\"\"Construct a linked list from its first element and the rest.\"\"\"\n",
    "    assert is_link(rest), \"rest must be a linked list.\"\n",
    "    return [first, rest]\n",
    "\n",
    "def first(s):\n",
    "    \"\"\"Return the first element of a linked list s.\"\"\"\n",
    "    assert is_link(s), \"first only applies to linked lists.\"\n",
    "    assert s != empty, \"empty linked list has no first element.\"\n",
    "    return s[0]\n",
    "\n",
    "def rest(s):\n",
    "    \"\"\"Return the rest of the elements of a linked list s.\"\"\"\n",
    "    assert is_link(s), \"rest only applies to linked lists.\"\n",
    "    assert s != empty, \"empty linked list has no rest.\"\n",
    "    return s[1]"
   ]
  },
  {
   "cell_type": "code",
   "execution_count": 5,
   "id": "54726f26",
   "metadata": {},
   "outputs": [],
   "source": [
    "#We can use the constructor and selectors to manipulate linked lists.\n",
    "four = link(1, link(2, link(3, link(4,empty))))\n"
   ]
  },
  {
   "cell_type": "code",
   "execution_count": 32,
   "id": "acb5430b",
   "metadata": {},
   "outputs": [
    {
     "data": {
      "text/plain": [
       "1"
      ]
     },
     "execution_count": 32,
     "metadata": {},
     "output_type": "execute_result"
    }
   ],
   "source": [
    "first(four)"
   ]
  },
  {
   "cell_type": "code",
   "execution_count": 33,
   "id": "ff00eb09",
   "metadata": {},
   "outputs": [
    {
     "data": {
      "text/plain": [
       "[2, [3, [4, 'empty']]]"
      ]
     },
     "execution_count": 33,
     "metadata": {},
     "output_type": "execute_result"
    }
   ],
   "source": [
    "rest(four)"
   ]
  },
  {
   "cell_type": "code",
   "execution_count": 35,
   "id": "deea4e07",
   "metadata": {},
   "outputs": [
    {
     "data": {
      "text/plain": [
       "[2, [3, [4, 'empty']]]"
      ]
     },
     "execution_count": 35,
     "metadata": {},
     "output_type": "execute_result"
    }
   ],
   "source": [
    "four[1]"
   ]
  },
  {
   "cell_type": "markdown",
   "id": "4f419ca0",
   "metadata": {},
   "source": [
    "The linked list can store a sequence of values in order, but we have not yet shown that it satisfies the sequence abstraction. Using the abstract data representation we have defined, we can implement the two behaviors that characterize a sequence: length and element selection."
   ]
  },
  {
   "cell_type": "code",
   "execution_count": null,
   "id": "446a26e2",
   "metadata": {},
   "outputs": [],
   "source": [
    "def len_link(s):\n",
    "    \"\"\"return the length of linked list s\"\"\"\n",
    "    length = 0\n",
    "    while s != empty: # iterative method\n",
    "        s, length = rest(s), length+1\n",
    "    return length\n",
    "\n",
    "def getitem_link(s, i):\n",
    "    \"\"\"return the element at index i of linked list s\"\"\"\n",
    "    while i > 0:\n",
    "        s, i = rest(s), i-1\n",
    "    return first(s)"
   ]
  },
  {
   "cell_type": "code",
   "execution_count": 40,
   "id": "9196d0da",
   "metadata": {},
   "outputs": [
    {
     "data": {
      "text/plain": [
       "4"
      ]
     },
     "execution_count": 40,
     "metadata": {},
     "output_type": "execute_result"
    }
   ],
   "source": [
    "len_link(four)"
   ]
  },
  {
   "cell_type": "code",
   "execution_count": null,
   "id": "78e51531",
   "metadata": {},
   "outputs": [
    {
     "data": {
      "text/plain": [
       "2"
      ]
     },
     "execution_count": 41,
     "metadata": {},
     "output_type": "execute_result"
    }
   ],
   "source": [
    "getitem_link(four,1)"
   ]
  },
  {
   "cell_type": "code",
   "execution_count": 7,
   "id": "fd5b5e8d",
   "metadata": {},
   "outputs": [],
   "source": [
    "# Recursive manipulation\n",
    "def len_link_recursive(s):\n",
    "    if s == empty:\n",
    "        return 0\n",
    "    else:\n",
    "        return 1+len_link_recursive(rest(s))\n",
    "def getitem_link_recursive(s, i):\n",
    "    if i == 0:\n",
    "        return s[0]\n",
    "    else:\n",
    "        return getitem_link_recursive(rest(s),i-1)"
   ]
  },
  {
   "cell_type": "code",
   "execution_count": 6,
   "id": "4ec5a958",
   "metadata": {},
   "outputs": [
    {
     "data": {
      "text/plain": [
       "4"
      ]
     },
     "execution_count": 6,
     "metadata": {},
     "output_type": "execute_result"
    }
   ],
   "source": [
    "len_link_recursive(four)"
   ]
  },
  {
   "cell_type": "code",
   "execution_count": 11,
   "id": "5f0a4df4",
   "metadata": {},
   "outputs": [
    {
     "data": {
      "text/plain": [
       "2"
      ]
     },
     "execution_count": 11,
     "metadata": {},
     "output_type": "execute_result"
    }
   ],
   "source": [
    "getitem_link_recursive(four,1)"
   ]
  },
  {
   "cell_type": "markdown",
   "id": "2d01ee74",
   "metadata": {},
   "source": [
    "recursion is useful to for transforming and combining linked lists."
   ]
  },
  {
   "cell_type": "code",
   "execution_count": 12,
   "id": "3f22c704",
   "metadata": {},
   "outputs": [
    {
     "data": {
      "text/plain": [
       "[[1, [2, [3, [4, 'empty']]]], [1, [2, [3, [4, 'empty']]]]]"
      ]
     },
     "execution_count": 12,
     "metadata": {},
     "output_type": "execute_result"
    }
   ],
   "source": [
    "link(four,four)"
   ]
  },
  {
   "cell_type": "code",
   "execution_count": 13,
   "id": "5e57122e",
   "metadata": {},
   "outputs": [],
   "source": [
    "def extend_link(s,t):\n",
    "    \"\"\"return a list with s followed by t\"\"\"\n",
    "    assert is_link(s) and is_link(t)\n",
    "    if s == empty:\n",
    "        return t\n",
    "    else:\n",
    "        return link(first(s), extend_link(rest(s), t))"
   ]
  },
  {
   "cell_type": "code",
   "execution_count": 14,
   "id": "ba14d9f3",
   "metadata": {},
   "outputs": [
    {
     "data": {
      "text/plain": [
       "[1, [2, [3, [4, [1, [2, [3, [4, 'empty']]]]]]]]"
      ]
     },
     "execution_count": 14,
     "metadata": {},
     "output_type": "execute_result"
    }
   ],
   "source": [
    "extend_link(four,four)"
   ]
  },
  {
   "cell_type": "markdown",
   "id": "7ec1980f",
   "metadata": {},
   "source": [
    "### Lab 4"
   ]
  },
  {
   "cell_type": "markdown",
   "id": "cd5a57fe",
   "metadata": {},
   "source": [
    "#### Dictionary"
   ]
  },
  {
   "cell_type": "code",
   "execution_count": null,
   "id": "68263ff9",
   "metadata": {},
   "outputs": [
    {
     "data": {
      "text/plain": [
       "3"
      ]
     },
     "execution_count": 11,
     "metadata": {},
     "output_type": "execute_result"
    }
   ],
   "source": [
    "d = {2:4, 'two':['four'], (1,1):4}\n",
    "len(d) # length of dictionary is # of key-value pairs(or named items)"
   ]
  },
  {
   "cell_type": "code",
   "execution_count": 2,
   "id": "ee7afb9c",
   "metadata": {},
   "outputs": [
    {
     "data": {
      "text/plain": [
       "4"
      ]
     },
     "execution_count": 2,
     "metadata": {},
     "output_type": "execute_result"
    }
   ],
   "source": [
    "d[2]"
   ]
  },
  {
   "cell_type": "code",
   "execution_count": 3,
   "id": "6d828526",
   "metadata": {},
   "outputs": [
    {
     "data": {
      "text/plain": [
       "['four']"
      ]
     },
     "execution_count": 3,
     "metadata": {},
     "output_type": "execute_result"
    }
   ],
   "source": [
    "d['two']"
   ]
  },
  {
   "cell_type": "code",
   "execution_count": 4,
   "id": "7fe7e8c3",
   "metadata": {},
   "outputs": [
    {
     "data": {
      "text/plain": [
       "4"
      ]
     },
     "execution_count": 4,
     "metadata": {},
     "output_type": "execute_result"
    }
   ],
   "source": [
    "d[(1,1)]"
   ]
  },
  {
   "cell_type": "code",
   "execution_count": 5,
   "id": "851551ac",
   "metadata": {},
   "outputs": [
    {
     "name": "stdout",
     "output_type": "stream",
     "text": [
      "2\n",
      "two\n",
      "(1, 1)\n"
     ]
    }
   ],
   "source": [
    "for k in d.keys():\n",
    "    print(k)"
   ]
  },
  {
   "cell_type": "code",
   "execution_count": 6,
   "id": "0f82223c",
   "metadata": {},
   "outputs": [
    {
     "name": "stdout",
     "output_type": "stream",
     "text": [
      "4\n",
      "['four']\n",
      "4\n"
     ]
    }
   ],
   "source": [
    "for v in d.values():\n",
    "    print(v)"
   ]
  },
  {
   "cell_type": "code",
   "execution_count": 7,
   "id": "2096d9aa",
   "metadata": {},
   "outputs": [
    {
     "name": "stdout",
     "output_type": "stream",
     "text": [
      "(2, 4)\n",
      "('two', ['four'])\n",
      "((1, 1), 4)\n"
     ]
    }
   ],
   "source": [
    "for i in d.items():\n",
    "    print(i)"
   ]
  },
  {
   "cell_type": "code",
   "execution_count": 8,
   "id": "6e29889a",
   "metadata": {},
   "outputs": [
    {
     "data": {
      "text/plain": [
       "True"
      ]
     },
     "execution_count": 8,
     "metadata": {},
     "output_type": "execute_result"
    }
   ],
   "source": [
    "# check whether a dictionary contains a key using 'in'\n",
    "\n",
    "'two' in d"
   ]
  },
  {
   "cell_type": "code",
   "execution_count": 9,
   "id": "002363eb",
   "metadata": {},
   "outputs": [
    {
     "data": {
      "text/plain": [
       "False"
      ]
     },
     "execution_count": 9,
     "metadata": {},
     "output_type": "execute_result"
    }
   ],
   "source": [
    "4 in d"
   ]
  },
  {
   "cell_type": "code",
   "execution_count": 10,
   "id": "1c8ec710",
   "metadata": {},
   "outputs": [
    {
     "data": {
      "text/plain": [
       "{6: 7, 9: 10, 12: 13}"
      ]
     },
     "execution_count": 10,
     "metadata": {},
     "output_type": "execute_result"
    }
   ],
   "source": [
    "# dictionary comprehension\n",
    "\n",
    "{3*x: 3*x+1 for x in range(2,5)}"
   ]
  },
  {
   "cell_type": "markdown",
   "id": "ad606ee1",
   "metadata": {},
   "source": [
    "## 2.4 Mutable Data"
   ]
  },
  {
   "cell_type": "markdown",
   "id": "2d29c158",
   "metadata": {
    "vscode": {
     "languageId": "plaintext"
    }
   },
   "source": [
    "we need strategies to help us structure large systems to be modular, meaning that they divide naturally into coherent parts that can be separately developed and maintained."
   ]
  },
  {
   "cell_type": "markdown",
   "id": "66b5277a",
   "metadata": {},
   "source": [
    "One powerful technique for creating modular programs is to incorporate data that may change state over time. In this way, a single data object can represent something that evolves independently of the rest of the program. The behavior of a changing object may be influenced by its history, just like an entity in the world. Adding state to data is a central ingredient of a paradigm called object-oriented programming."
   ]
  },
  {
   "cell_type": "markdown",
   "id": "75a5242b",
   "metadata": {},
   "source": [
    "### 2.4.1 The Object Metaphor"
   ]
  },
  {
   "cell_type": "markdown",
   "id": "62158312",
   "metadata": {
    "vscode": {
     "languageId": "plaintext"
    }
   },
   "source": [
    "objects combine data values with behavior.\n"
   ]
  },
  {
   "cell_type": "code",
   "execution_count": 50,
   "id": "2b080bcb",
   "metadata": {},
   "outputs": [
    {
     "name": "stdout",
     "output_type": "stream",
     "text": [
      "<class 'datetime.date'>\n",
      "4118 days, 0:00:00\n"
     ]
    }
   ],
   "source": [
    "from datetime import date # A date is a kind of object\n",
    "\n",
    "#the name 'date' is bound to a class.\n",
    "\n",
    "tues = date(2014, 5, 13) # tues is constructed from primitive numbers, it behaves like a date\n",
    "print( type( tues ) )\n",
    "print(date(2025, 8, 21) - tues)"
   ]
  },
  {
   "cell_type": "markdown",
   "id": "06930147",
   "metadata": {},
   "source": [
    "objects have attributes\n",
    "\n",
    "`<expression>.<name>`"
   ]
  },
  {
   "cell_type": "code",
   "execution_count": 2,
   "id": "8ab5f882",
   "metadata": {},
   "outputs": [
    {
     "data": {
      "text/plain": [
       "2014"
      ]
     },
     "execution_count": 2,
     "metadata": {},
     "output_type": "execute_result"
    }
   ],
   "source": [
    "tues.year"
   ]
  },
  {
   "cell_type": "markdown",
   "id": "1c287664",
   "metadata": {},
   "source": [
    "objects have methods, which are function-valued attributes."
   ]
  },
  {
   "cell_type": "code",
   "execution_count": 3,
   "id": "aae67810",
   "metadata": {},
   "outputs": [
    {
     "data": {
      "text/plain": [
       "'Tuesday, May 13'"
      ]
     },
     "execution_count": 3,
     "metadata": {},
     "output_type": "execute_result"
    }
   ],
   "source": [
    "tues.strftime('%A, %B %d')"
   ]
  },
  {
   "cell_type": "code",
   "execution_count": 5,
   "id": "f8ced95e",
   "metadata": {},
   "outputs": [
    {
     "data": {
      "text/plain": [
       "True"
      ]
     },
     "execution_count": 5,
     "metadata": {},
     "output_type": "execute_result"
    }
   ],
   "source": [
    "# all values in Python are objects, like strings lists and numbers\n",
    "\n",
    "'1234'.isnumeric()"
   ]
  },
  {
   "cell_type": "markdown",
   "id": "774a7a24",
   "metadata": {},
   "source": [
    "### 2.4.2 sequence objects"
   ]
  },
  {
   "cell_type": "code",
   "execution_count": null,
   "id": "26e0bdc2",
   "metadata": {},
   "outputs": [
    {
     "name": "stdout",
     "output_type": "stream",
     "text": [
      "['coin', 'string', 'myriad']\n",
      "['coin', 'string']\n"
     ]
    }
   ],
   "source": [
    "# list modification operations\n",
    "\n",
    "chinese = ['coin', 'string', 'myriad'] # a list literal\n",
    "suits = chinese                         # Two names refer to the same list\n",
    "print(suits)\n",
    "\n",
    "\n",
    "suits.pop()         # remove and return the final element\n",
    "print(suits)\n"
   ]
  },
  {
   "cell_type": "code",
   "execution_count": 24,
   "id": "cbe63f0f",
   "metadata": {},
   "outputs": [
    {
     "name": "stdout",
     "output_type": "stream",
     "text": [
      "['coin']\n"
     ]
    }
   ],
   "source": [
    "suits.remove('string') # remove the first element that equals the argument\n",
    "print(suits)"
   ]
  },
  {
   "cell_type": "code",
   "execution_count": 25,
   "id": "cb3e1903",
   "metadata": {},
   "outputs": [
    {
     "name": "stdout",
     "output_type": "stream",
     "text": [
      "['coin', 'cup']\n",
      "['coin', 'cup', 'sword', 'club']\n",
      "['coin', 'cup', 'spade', 'club']\n"
     ]
    }
   ],
   "source": [
    "suits.append('cup') # add an element to the end\n",
    "print(suits)\n",
    "\n",
    "suits.extend(['sword', 'club']) # add all elements of a sequence to the end\n",
    "print(suits)\n",
    "\n",
    "suits[2] = 'spade' # replace an element\n",
    "print(suits)"
   ]
  },
  {
   "cell_type": "code",
   "execution_count": 26,
   "id": "0b3c16ff",
   "metadata": {},
   "outputs": [
    {
     "data": {
      "text/plain": [
       "['coin', 'cup']"
      ]
     },
     "execution_count": 26,
     "metadata": {},
     "output_type": "execute_result"
    }
   ],
   "source": [
    "suits[0:2]"
   ]
  },
  {
   "cell_type": "code",
   "execution_count": null,
   "id": "d126556d",
   "metadata": {},
   "outputs": [
    {
     "name": "stdout",
     "output_type": "stream",
     "text": [
      "['heart', 'diamond', 'spade', 'club']\n"
     ]
    }
   ],
   "source": [
    "suits[0:2] = ['heart', 'diamond'] # replace a slice\n",
    "print(suits)"
   ]
  },
  {
   "cell_type": "code",
   "execution_count": 28,
   "id": "cda984d2",
   "metadata": {},
   "outputs": [],
   "source": [
    "# methods also exist for inserting, sorting and reversing lists.\n",
    "# all of these mutation operations change the value of the list but do not create new list objects."
   ]
  },
  {
   "cell_type": "markdown",
   "id": "6f24e661",
   "metadata": {},
   "source": [
    "sharing and identity\n",
    "\n",
    "because we have changed a single list rather than creating new lists, the object bound to the name 'chinese' has also changed."
   ]
  },
  {
   "cell_type": "code",
   "execution_count": 30,
   "id": "2255b0f4",
   "metadata": {},
   "outputs": [
    {
     "data": {
      "text/plain": [
       "['heart', 'diamond', 'spade', 'club']"
      ]
     },
     "execution_count": 30,
     "metadata": {},
     "output_type": "execute_result"
    }
   ],
   "source": [
    "chinese"
   ]
  },
  {
   "cell_type": "code",
   "execution_count": null,
   "id": "ede7d645",
   "metadata": {},
   "outputs": [
    {
     "data": {
      "text/plain": [
       "[1, 2, 3, 4, 3]"
      ]
     },
     "execution_count": 32,
     "metadata": {},
     "output_type": "execute_result"
    }
   ],
   "source": [
    "a = [1,2,3,4]\n",
    "b = a # they are bound to the same list\n",
    "\n",
    "a.append(3)\n",
    "b"
   ]
  },
  {
   "cell_type": "code",
   "execution_count": 37,
   "id": "9b37e3d6",
   "metadata": {},
   "outputs": [
    {
     "name": "stdout",
     "output_type": "stream",
     "text": [
      "['heart', 'diamond', 'spade', 'club']\n",
      "['heart', 'diamond', 'spade', 'club']\n",
      "[['heart', 'diamond', 'spade', 'club', 3], 'diamond', 'spade', 'club']\n"
     ]
    },
    {
     "data": {
      "text/plain": [
       "[['heart', 'diamond', 'joker', 'spade', 'club', 3], 'diamond', 'spade', 'club']"
      ]
     },
     "execution_count": 37,
     "metadata": {},
     "output_type": "execute_result"
    }
   ],
   "source": [
    "suits = ['heart', 'diamond', 'spade', 'club']\n",
    "nest = list(suits) # bind nest to a second list with the same elements\n",
    "print(nest)\n",
    "suits.append(3) # changes to one list do not affect another, unless they share structure\n",
    "print(nest)\n",
    "\n",
    "nest[0] = suits\n",
    "print(nest)\n",
    "\n",
    "suits.insert(2, 'joker') # insert an element at index 2, shifting the rest\n",
    "nest"
   ]
  },
  {
   "cell_type": "markdown",
   "id": "7added2c",
   "metadata": {},
   "source": [
    "because two lists may have the same contents but in fact be different lists, we require a means to test."
   ]
  },
  {
   "cell_type": "code",
   "execution_count": 38,
   "id": "5ce0fde0",
   "metadata": {},
   "outputs": [
    {
     "data": {
      "text/plain": [
       "True"
      ]
     },
     "execution_count": 38,
     "metadata": {},
     "output_type": "execute_result"
    }
   ],
   "source": [
    "suits is nest[0]"
   ]
  },
  {
   "cell_type": "code",
   "execution_count": null,
   "id": "9cf897fc",
   "metadata": {},
   "outputs": [
    {
     "data": {
      "text/plain": [
       "False"
      ]
     },
     "execution_count": 41,
     "metadata": {},
     "output_type": "execute_result"
    }
   ],
   "source": [
    "suits = ['heart', 'diamond', 'spade', 'club']\n",
    "suits is ['heart', 'diamond', 'spade', 'club'] # identity"
   ]
  },
  {
   "cell_type": "code",
   "execution_count": 43,
   "id": "ded6ae35",
   "metadata": {},
   "outputs": [
    {
     "data": {
      "text/plain": [
       "True"
      ]
     },
     "execution_count": 43,
     "metadata": {},
     "output_type": "execute_result"
    }
   ],
   "source": [
    "suits == ['heart', 'diamond', 'spade', 'club'] # equality"
   ]
  },
  {
   "cell_type": "markdown",
   "id": "84b2491d",
   "metadata": {},
   "source": [
    "#### list comprehensions"
   ]
  },
  {
   "cell_type": "code",
   "execution_count": null,
   "id": "6d3e4ff0",
   "metadata": {},
   "outputs": [
    {
     "data": {
      "text/plain": [
       "['♡', '♢', '♤', '♧']"
      ]
     },
     "execution_count": 45,
     "metadata": {},
     "output_type": "execute_result"
    }
   ],
   "source": [
    "from unicodedata import lookup\n",
    "[lookup('WHITE ' + s.upper() + ' SUIT') for s in suits] # list comprehension creates a new list. does not affect suits"
   ]
  },
  {
   "cell_type": "markdown",
   "id": "15375287",
   "metadata": {},
   "source": [
    "#### tuples"
   ]
  },
  {
   "cell_type": "code",
   "execution_count": 46,
   "id": "f19c61a7",
   "metadata": {},
   "outputs": [
    {
     "data": {
      "text/plain": [
       "(1, 5)"
      ]
     },
     "execution_count": 46,
     "metadata": {},
     "output_type": "execute_result"
    }
   ],
   "source": [
    "# immutable sequence\n",
    "# created using a tuple literal that separates element by commas. parentheses are optional but commonly used.\n",
    "1, 2+3"
   ]
  },
  {
   "cell_type": "code",
   "execution_count": 47,
   "id": "687695db",
   "metadata": {},
   "outputs": [
    {
     "data": {
      "text/plain": [
       "('the', 1, ('and', 'only'))"
      ]
     },
     "execution_count": 47,
     "metadata": {},
     "output_type": "execute_result"
    }
   ],
   "source": [
    "(\"the\", 1, (\"and\", \"only\"))"
   ]
  },
  {
   "cell_type": "code",
   "execution_count": 49,
   "id": "7f8608f4",
   "metadata": {},
   "outputs": [
    {
     "data": {
      "text/plain": [
       "tuple"
      ]
     },
     "execution_count": 49,
     "metadata": {},
     "output_type": "execute_result"
    }
   ],
   "source": [
    "type( (10,20) )"
   ]
  },
  {
   "cell_type": "code",
   "execution_count": null,
   "id": "1e0c576b",
   "metadata": {},
   "outputs": [
    {
     "data": {
      "text/plain": [
       "()"
      ]
     },
     "execution_count": 51,
     "metadata": {},
     "output_type": "execute_result"
    }
   ],
   "source": [
    "# empty and one-element tuples have special syntax\n",
    "() # 0 element"
   ]
  },
  {
   "cell_type": "code",
   "execution_count": null,
   "id": "f71ef372",
   "metadata": {},
   "outputs": [
    {
     "data": {
      "text/plain": [
       "(10,)"
      ]
     },
     "execution_count": 52,
     "metadata": {},
     "output_type": "execute_result"
    }
   ],
   "source": [
    "(10,) # 1 element"
   ]
  },
  {
   "cell_type": "code",
   "execution_count": 53,
   "id": "997faab9",
   "metadata": {},
   "outputs": [],
   "source": [
    "# tuples have a finite length and support element selection. They also have a few methods.\n",
    "\n",
    "code = (\"up\", \"up\", \"down\", \"down\") + (\"left\" , \"right\") * 2"
   ]
  },
  {
   "cell_type": "code",
   "execution_count": 54,
   "id": "1f343db4",
   "metadata": {},
   "outputs": [
    {
     "data": {
      "text/plain": [
       "8"
      ]
     },
     "execution_count": 54,
     "metadata": {},
     "output_type": "execute_result"
    }
   ],
   "source": [
    "len(code)"
   ]
  },
  {
   "cell_type": "code",
   "execution_count": 55,
   "id": "5a66606b",
   "metadata": {},
   "outputs": [
    {
     "data": {
      "text/plain": [
       "'down'"
      ]
     },
     "execution_count": 55,
     "metadata": {},
     "output_type": "execute_result"
    }
   ],
   "source": [
    "code[3]"
   ]
  },
  {
   "cell_type": "code",
   "execution_count": 56,
   "id": "74d245ac",
   "metadata": {},
   "outputs": [
    {
     "data": {
      "text/plain": [
       "2"
      ]
     },
     "execution_count": 56,
     "metadata": {},
     "output_type": "execute_result"
    }
   ],
   "source": [
    "code.count(\"down\")"
   ]
  },
  {
   "cell_type": "code",
   "execution_count": 57,
   "id": "8470644e",
   "metadata": {},
   "outputs": [
    {
     "data": {
      "text/plain": [
       "4"
      ]
     },
     "execution_count": 57,
     "metadata": {},
     "output_type": "execute_result"
    }
   ],
   "source": [
    "code.index(\"left\")"
   ]
  },
  {
   "cell_type": "markdown",
   "id": "7e4b31c3",
   "metadata": {},
   "source": [
    "However, the methods for manipulating the contents of a list are not available for tuples because tuples are immutable.\n",
    "\n",
    "It's not possible to change which element are in a tuple, but it is possible to change the value of a mutable element contained in a tuple."
   ]
  },
  {
   "cell_type": "code",
   "execution_count": 58,
   "id": "6b263bc3",
   "metadata": {},
   "outputs": [
    {
     "data": {
      "text/plain": [
       "('up', 'up', 'down', 'down', 'left', 'right', 'left', 'right')"
      ]
     },
     "execution_count": 58,
     "metadata": {},
     "output_type": "execute_result"
    }
   ],
   "source": [
    "code"
   ]
  },
  {
   "cell_type": "code",
   "execution_count": 60,
   "id": "6ad44199",
   "metadata": {},
   "outputs": [
    {
     "ename": "AttributeError",
     "evalue": "'tuple' object has no attribute 'append'",
     "output_type": "error",
     "traceback": [
      "\u001b[31m---------------------------------------------------------------------------\u001b[39m",
      "\u001b[31mAttributeError\u001b[39m                            Traceback (most recent call last)",
      "\u001b[36mCell\u001b[39m\u001b[36m \u001b[39m\u001b[32mIn[60]\u001b[39m\u001b[32m, line 1\u001b[39m\n\u001b[32m----> \u001b[39m\u001b[32m1\u001b[39m \u001b[43mcode\u001b[49m\u001b[43m.\u001b[49m\u001b[43mappend\u001b[49m(\u001b[33m\"\u001b[39m\u001b[33mappend\u001b[39m\u001b[33m\"\u001b[39m)\n",
      "\u001b[31mAttributeError\u001b[39m: 'tuple' object has no attribute 'append'"
     ]
    }
   ],
   "source": [
    "code.append(\"append\")"
   ]
  },
  {
   "cell_type": "code",
   "execution_count": 61,
   "id": "cbb08ef8",
   "metadata": {},
   "outputs": [
    {
     "ename": "TypeError",
     "evalue": "'tuple' object does not support item assignment",
     "output_type": "error",
     "traceback": [
      "\u001b[31m---------------------------------------------------------------------------\u001b[39m",
      "\u001b[31mTypeError\u001b[39m                                 Traceback (most recent call last)",
      "\u001b[36mCell\u001b[39m\u001b[36m \u001b[39m\u001b[32mIn[61]\u001b[39m\u001b[32m, line 1\u001b[39m\n\u001b[32m----> \u001b[39m\u001b[32m1\u001b[39m \u001b[43mcode\u001b[49m\u001b[43m[\u001b[49m\u001b[32;43m0\u001b[39;49m\u001b[43m]\u001b[49m = \u001b[33m'\u001b[39m\u001b[33mdown\u001b[39m\u001b[33m'\u001b[39m\n",
      "\u001b[31mTypeError\u001b[39m: 'tuple' object does not support item assignment"
     ]
    }
   ],
   "source": [
    "code[0] = 'down'"
   ]
  },
  {
   "cell_type": "code",
   "execution_count": 64,
   "id": "d42e3b98",
   "metadata": {},
   "outputs": [
    {
     "data": {
      "text/plain": [
       "(10, 20, [30])"
      ]
     },
     "execution_count": 64,
     "metadata": {},
     "output_type": "execute_result"
    }
   ],
   "source": [
    "nest = (10, 20, [30, 40]) # a mutable element - list contained within a tuple\n",
    "nest[2].pop()\n",
    "nest"
   ]
  },
  {
   "cell_type": "markdown",
   "id": "89f0c2a6",
   "metadata": {},
   "source": [
    "https://docs.python.org/3/tutorial/datastructures.html#tuples-and-sequences"
   ]
  },
  {
   "cell_type": "markdown",
   "id": "0d06c3ac",
   "metadata": {},
   "source": [
    "The statement `t = 12345, 54321, 'hello!'` is an example of tuple packing: the values 12345, 54321 and 'hello!' are packed together in a tuple. The reverse operation is also possible:\n",
    "\n"
   ]
  },
  {
   "cell_type": "code",
   "execution_count": null,
   "id": "c24f0ab5",
   "metadata": {},
   "outputs": [
    {
     "name": "stdout",
     "output_type": "stream",
     "text": [
      "12345 54321 hello!\n"
     ]
    }
   ],
   "source": [
    "t = 12345, 54321, 'hello!'  \n",
    "\n",
    "x,y,z = t  # sequence unpacking\n",
    "\n",
    "print(x,y,z)\n"
   ]
  },
  {
   "cell_type": "markdown",
   "id": "350eba2c",
   "metadata": {},
   "source": [
    "This is called, appropriately enough, sequence unpacking and works for any sequence on the right-hand side. Sequence unpacking requires that there are as many variables on the left side of the equals sign as there are elements in the sequence. Note that multiple assignment is really just a combination of tuple packing and sequence unpacking."
   ]
  },
  {
   "cell_type": "markdown",
   "id": "0a2e2854",
   "metadata": {},
   "source": [
    "### 2.4.3 Dictionaries"
   ]
  },
  {
   "cell_type": "code",
   "execution_count": 66,
   "id": "5f175855",
   "metadata": {},
   "outputs": [],
   "source": [
    "# A dictionary contains key-value pairs, both the keys and values are objects.\n",
    "# The purpose of dictionary: to provide an abstraction for storing and retrieving values that are indexed by descriptive keys.\n",
    "\n",
    "numerals = {'I': 1, 'V': 5, 'X': 10}"
   ]
  },
  {
   "cell_type": "code",
   "execution_count": 67,
   "id": "1317e274",
   "metadata": {},
   "outputs": [
    {
     "data": {
      "text/plain": [
       "10"
      ]
     },
     "execution_count": 67,
     "metadata": {},
     "output_type": "execute_result"
    }
   ],
   "source": [
    "numerals['X']"
   ]
  },
  {
   "cell_type": "code",
   "execution_count": 89,
   "id": "d9a9a787",
   "metadata": {},
   "outputs": [
    {
     "name": "stdout",
     "output_type": "stream",
     "text": [
      "{'I': 1, 'V': 5, 'X': 10}\n"
     ]
    },
    {
     "data": {
      "text/plain": [
       "{'I': 1.0, 'V': 5, 'X': 10, 'L': 50, 'IV': 4, 'II': 2}"
      ]
     },
     "execution_count": 89,
     "metadata": {},
     "output_type": "execute_result"
    }
   ],
   "source": [
    "# Adding new key-value pairs and changing the existing value for a key can both be achieved with assignment statements.\n",
    "numerals = {'I': 1, 'V': 5, 'X': 10}\n",
    "print(numerals)\n",
    "\n",
    "numerals['I'] = 1.0\n",
    "numerals['L'] = 50 \n",
    "numerals['IV'] = 4\n",
    "numerals['II'] = 2\n",
    "numerals"
   ]
  },
  {
   "cell_type": "code",
   "execution_count": 90,
   "id": "2ed6db09",
   "metadata": {},
   "outputs": [
    {
     "data": {
      "text/plain": [
       "72.0"
      ]
     },
     "execution_count": 90,
     "metadata": {},
     "output_type": "execute_result"
    }
   ],
   "source": [
    "# dictionary supports various methods of iterating over the contents of the dictionary as a whole.\n",
    "\n",
    "sum(numerals.values())"
   ]
  },
  {
   "cell_type": "code",
   "execution_count": 91,
   "id": "d58f7335",
   "metadata": {},
   "outputs": [
    {
     "data": {
      "text/plain": [
       "{3: 9, 2: 5, 1: 10}"
      ]
     },
     "execution_count": 91,
     "metadata": {},
     "output_type": "execute_result"
    }
   ],
   "source": [
    "# A list of key-value pairs can be converted into a dictionary by calling `dict` constructor function\n",
    "dict( [(3,9), (2,5), (1, 10)] )"
   ]
  },
  {
   "cell_type": "code",
   "execution_count": 92,
   "id": "756a627d",
   "metadata": {},
   "outputs": [
    {
     "ename": "TypeError",
     "evalue": "unhashable type: 'list'",
     "output_type": "error",
     "traceback": [
      "\u001b[31m---------------------------------------------------------------------------\u001b[39m",
      "\u001b[31mTypeError\u001b[39m                                 Traceback (most recent call last)",
      "\u001b[36mCell\u001b[39m\u001b[36m \u001b[39m\u001b[32mIn[92]\u001b[39m\u001b[32m, line 2\u001b[39m\n\u001b[32m      1\u001b[39m \u001b[38;5;66;03m# the key of dictionary can't be or contain a mutable value\u001b[39;00m\n\u001b[32m----> \u001b[39m\u001b[32m2\u001b[39m dic = {[\u001b[32m10\u001b[39m,\u001b[32m20\u001b[39m]: \u001b[33m\"\u001b[39m\u001b[33mtest\u001b[39m\u001b[33m\"\u001b[39m}\n",
      "\u001b[31mTypeError\u001b[39m: unhashable type: 'list'"
     ]
    }
   ],
   "source": [
    "# the key of dictionary can't be or contain a mutable value\n",
    "dic = {[10,20]: \"test\"}"
   ]
  },
  {
   "cell_type": "code",
   "execution_count": 94,
   "id": "770324fe",
   "metadata": {},
   "outputs": [
    {
     "data": {
      "text/plain": [
       "'ny'"
      ]
     },
     "execution_count": 94,
     "metadata": {},
     "output_type": "execute_result"
    }
   ],
   "source": [
    "# there can be at most one value for a given key\n",
    "dic = {1:'hi', 1:'ny'}\n",
    "dic[1]"
   ]
  },
  {
   "cell_type": "code",
   "execution_count": null,
   "id": "b97e1d28",
   "metadata": {},
   "outputs": [
    {
     "data": {
      "text/plain": [
       "5"
      ]
     },
     "execution_count": 97,
     "metadata": {},
     "output_type": "execute_result"
    }
   ],
   "source": [
    "# A useful method: get      \n",
    "numerals.get('V', 'not exist') # if the key is present, returns the value for it"
   ]
  },
  {
   "cell_type": "code",
   "execution_count": null,
   "id": "5d009fb2",
   "metadata": {},
   "outputs": [
    {
     "data": {
      "text/plain": [
       "'not exist'"
      ]
     },
     "execution_count": 98,
     "metadata": {},
     "output_type": "execute_result"
    }
   ],
   "source": [
    "numerals.get('A','not exist') # if the key is not present, returns the second parameter as default value."
   ]
  },
  {
   "cell_type": "code",
   "execution_count": 99,
   "id": "37239abd",
   "metadata": {},
   "outputs": [
    {
     "data": {
      "text/plain": [
       "{3: 9, 4: 16, 5: 25}"
      ]
     },
     "execution_count": 99,
     "metadata": {},
     "output_type": "execute_result"
    }
   ],
   "source": [
    "# dictionary comprehension\n",
    "{x:x**2 for x in range(3,6)}"
   ]
  },
  {
   "cell_type": "markdown",
   "id": "1cc3fcfe",
   "metadata": {},
   "source": [
    "### 2.4.4 Local states"
   ]
  },
  {
   "cell_type": "markdown",
   "id": "d35ebfdc",
   "metadata": {},
   "source": [
    "lists and dictionaries have local state.\n",
    "\n",
    "functions can have local state."
   ]
  },
  {
   "cell_type": "code",
   "execution_count": 105,
   "id": "28f9009b",
   "metadata": {},
   "outputs": [
    {
     "name": "stdout",
     "output_type": "stream",
     "text": [
      "80\n",
      "60\n"
     ]
    }
   ],
   "source": [
    "def make_withdraw(balance):\n",
    "    \"\"\"return a withdraw function that draws down balance with each call\"\"\"\n",
    "    def withdraw(amount):\n",
    "        nonlocal balance # declare the 'balance' nonlocal\n",
    "        if amount > balance:\n",
    "            return 'insufficient funds'\n",
    "        balance = balance - amount\n",
    "        return balance\n",
    "    return withdraw\n",
    "\n",
    "balance = 100\n",
    "withdraw = make_withdraw(balance)\n",
    "\n",
    "balance = withdraw(20)\n",
    "print(balance)\n",
    "\n",
    "balance = withdraw(20)\n",
    "print(balance)\n"
   ]
  },
  {
   "cell_type": "code",
   "execution_count": null,
   "id": "280407a4",
   "metadata": {},
   "outputs": [
    {
     "ename": "UnboundLocalError",
     "evalue": "cannot access local variable 'balance' where it is not associated with a value",
     "output_type": "error",
     "traceback": [
      "\u001b[31m---------------------------------------------------------------------------\u001b[39m",
      "\u001b[31mUnboundLocalError\u001b[39m                         Traceback (most recent call last)",
      "\u001b[36mCell\u001b[39m\u001b[36m \u001b[39m\u001b[32mIn[106]\u001b[39m\u001b[32m, line 14\u001b[39m\n\u001b[32m     11\u001b[39m balance = \u001b[32m100\u001b[39m\n\u001b[32m     12\u001b[39m withdraw = make_withdraw(balance)\n\u001b[32m---> \u001b[39m\u001b[32m14\u001b[39m balance = \u001b[43mwithdraw\u001b[49m\u001b[43m(\u001b[49m\u001b[32;43m20\u001b[39;49m\u001b[43m)\u001b[49m\n\u001b[32m     15\u001b[39m \u001b[38;5;28mprint\u001b[39m(balance)\n\u001b[32m     17\u001b[39m balance = withdraw(\u001b[32m20\u001b[39m)\n",
      "\u001b[36mCell\u001b[39m\u001b[36m \u001b[39m\u001b[32mIn[106]\u001b[39m\u001b[32m, line 5\u001b[39m, in \u001b[36mmake_withdraw.<locals>.withdraw\u001b[39m\u001b[34m(amount)\u001b[39m\n\u001b[32m      3\u001b[39m \u001b[38;5;28;01mdef\u001b[39;00m\u001b[38;5;250m \u001b[39m\u001b[34mwithdraw\u001b[39m(amount):\n\u001b[32m      4\u001b[39m     \u001b[38;5;66;03m#nonlocal balance # declare the 'balance' nonlocal\u001b[39;00m\n\u001b[32m----> \u001b[39m\u001b[32m5\u001b[39m     \u001b[38;5;28;01mif\u001b[39;00m amount > \u001b[43mbalance\u001b[49m:\n\u001b[32m      6\u001b[39m         \u001b[38;5;28;01mreturn\u001b[39;00m \u001b[33m'\u001b[39m\u001b[33minsufficient funds\u001b[39m\u001b[33m'\u001b[39m\n\u001b[32m      7\u001b[39m     balance = balance - amount\n",
      "\u001b[31mUnboundLocalError\u001b[39m: cannot access local variable 'balance' where it is not associated with a value"
     ]
    }
   ],
   "source": [
    "def make_withdraw(balance):\n",
    "    \"\"\"return a withdraw function that draws down balance with each call\"\"\"\n",
    "    def withdraw(amount):\n",
    "        #nonlocal balance # declare the 'balance' nonlocal\n",
    "        if amount > balance:\n",
    "            return 'insufficient funds'\n",
    "        balance = balance - amount\n",
    "        return balance\n",
    "    return withdraw\n",
    "\n",
    "balance = 100\n",
    "withdraw = make_withdraw(balance)\n",
    "\n",
    "balance = withdraw(20)\n",
    "print(balance)\n",
    "\n"
   ]
  },
  {
   "cell_type": "code",
   "execution_count": null,
   "id": "5195f0ca",
   "metadata": {},
   "outputs": [
    {
     "name": "stdout",
     "output_type": "stream",
     "text": [
      "1\n",
      "12\n"
     ]
    }
   ],
   "source": [
    "# benefit of non-local assignment\n",
    "def make_withdraw(balance):\n",
    "    \"\"\"return a withdraw function that draws down balance with each call\"\"\"\n",
    "    def withdraw(amount):\n",
    "        nonlocal balance # declare the 'balance' nonlocal\n",
    "        if amount > balance:\n",
    "            return 'insufficient funds'\n",
    "        balance = balance - amount\n",
    "        return balance\n",
    "    return withdraw\n",
    "\n",
    "wd = make_withdraw(20)\n",
    "wd2 = make_withdraw(7)\n",
    "print(wd2(6))\n",
    "print(wd(8)) # there are two frames and each withdraw function has a different parent."
   ]
  },
  {
   "cell_type": "code",
   "execution_count": null,
   "id": "a1b19eba",
   "metadata": {},
   "outputs": [
    {
     "name": "stdout",
     "output_type": "stream",
     "text": [
      "8\n",
      "8\n",
      "6\n",
      "4\n"
     ]
    }
   ],
   "source": [
    "# identity and equality\n",
    "\n",
    "wd = make_withdraw(10) # they are bound to two different frames\n",
    "wd2 = make_withdraw(10)\n",
    "\n",
    "print(wd(2))\n",
    "print(wd2(2))\n",
    "\n",
    "wd2 = wd\n",
    "print(wd(2)) # now they are bound to the same function\n",
    "print(wd2(2))\n"
   ]
  },
  {
   "cell_type": "markdown",
   "id": "9fb9cb9b",
   "metadata": {},
   "source": [
    "### 2.4.7 Implementing lists and dictionaries"
   ]
  },
  {
   "cell_type": "markdown",
   "id": "83022ba6",
   "metadata": {},
   "source": [
    "To understand how a mutable list could be represented using functions with local state, we now develop an implementation of a mutable linked list."
   ]
  },
  {
   "cell_type": "code",
   "execution_count": 124,
   "id": "a4e6c7f0",
   "metadata": {},
   "outputs": [],
   "source": [
    "empty = 'empty'\n",
    "\n",
    "def is_link(s):\n",
    "    \"\"\"s is a linked list if it is empty or it is a [first, rest] pair\"\"\"\n",
    "    return s == empty or (len(s)==2 and is_link(s[1]))  #base case: s = [] or s = [first, empty]\n",
    "\n",
    "def link(first, rest):\n",
    "    \"\"\"Construct a linked list from its first element and the rest.\"\"\"\n",
    "    assert is_link(rest), \"rest must be a linked list.\"\n",
    "    return [first, rest]\n",
    "\n",
    "def first(s):\n",
    "    \"\"\"Return the first element of a linked list s.\"\"\"\n",
    "    assert is_link(s), \"first only applies to linked lists.\"\n",
    "    assert s != empty, \"empty linked list has no first element.\"\n",
    "    return s[0]\n",
    "\n",
    "def rest(s):\n",
    "    \"\"\"Return the rest of the elements of a linked list s.\"\"\"\n",
    "    assert is_link(s), \"rest only applies to linked lists.\"\n",
    "    assert s != empty, \"empty linked list has no rest.\"\n",
    "    return s[1]\n",
    "\n",
    "def len_link(s):\n",
    "    \"\"\"return the length of linked list s\"\"\"\n",
    "    length = 0\n",
    "    while s != empty: # iterative method\n",
    "        s, length = rest(s), length+1\n",
    "    return length\n",
    "\n",
    "def getitem_link(s, i):\n",
    "    \"\"\"return the element at index i of linked list s\"\"\"\n",
    "    while i > 0:\n",
    "        s, i = rest(s), i-1\n",
    "    return first(s)\n",
    "\n",
    "def join_link(s, separator):\n",
    "    \"\"\"Return a string of all elements in s separated by separator.\"\"\"\n",
    "    if s == empty:\n",
    "        return \"\"\n",
    "    elif rest(s) == empty:\n",
    "        return str(first(s))\n",
    "    else:\n",
    "        return str(first(s)) + separator + join_link(rest(s), separator)"
   ]
  },
  {
   "cell_type": "code",
   "execution_count": null,
   "id": "62419ab2",
   "metadata": {},
   "outputs": [
    {
     "data": {
      "text/plain": [
       "function"
      ]
     },
     "execution_count": 128,
     "metadata": {},
     "output_type": "execute_result"
    }
   ],
   "source": [
    "def mutable_link():\n",
    "    \"\"\"return a functional implementation of a mutable linked list\"\"\"\n",
    "    contents = empty\n",
    "\n",
    "    def dispatch(message, value = None):\n",
    "        nonlocal contents\n",
    "        if message == 'len':\n",
    "            return len_link(contents)\n",
    "        elif message == 'getitem':\n",
    "            return getitem_link(contents, value)\n",
    "        elif message == 'push_first':\n",
    "            contents = link(value, contents)\n",
    "        elif message == 'pop_first':\n",
    "            f = first(contents)\n",
    "            contents = rest(contents)\n",
    "            return f\n",
    "        elif message == 'str':\n",
    "            return join_link(contents, \", \")\n",
    "    return dispatch\n",
    "\n",
    "def to_mutable_link(source):\n",
    "    \"\"\"return a functional list with the same contents as source\"\"\"\n",
    "\n",
    "    s = mutable_link()\n",
    "    for element in reversed(source):\n",
    "        s('push_first', element)\n",
    "    return s\n",
    "\n",
    "suits = ['heart', 'diamond', 'spade', 'club']\n",
    "s = to_mutable_link(suits)\n",
    "\n",
    "type(s)\n"
   ]
  },
  {
   "cell_type": "code",
   "execution_count": 129,
   "id": "ce871c4c",
   "metadata": {},
   "outputs": [
    {
     "name": "stdout",
     "output_type": "stream",
     "text": [
      "heart, diamond, spade, club\n"
     ]
    }
   ],
   "source": [
    "print(s('str'))"
   ]
  },
  {
   "cell_type": "code",
   "execution_count": 130,
   "id": "3661096f",
   "metadata": {},
   "outputs": [
    {
     "data": {
      "text/plain": [
       "'heart'"
      ]
     },
     "execution_count": 130,
     "metadata": {},
     "output_type": "execute_result"
    }
   ],
   "source": [
    "s('pop_first')"
   ]
  },
  {
   "cell_type": "markdown",
   "id": "65d0a172",
   "metadata": {},
   "source": [
    "## 2.5 OOP"
   ]
  },
  {
   "cell_type": "markdown",
   "id": "faf30b59",
   "metadata": {},
   "source": [
    "The paradigm of object-oriented programming has its own vocabulary that supports the object metaphor. We have seen that an object is a data value that has methods and attributes, accessible via dot notation. Every object also has a type, called its class. To create new types of data, we implement new classes."
   ]
  },
  {
   "cell_type": "markdown",
   "id": "7fd21ea8",
   "metadata": {},
   "source": [
    "### 2.5.1 Objects and classes"
   ]
  },
  {
   "cell_type": "markdown",
   "id": "7e9c6869",
   "metadata": {},
   "source": [
    "A class serves as a template for all objects whose type is that class. Every object is an instance of some particular class. The objects we have used so far all have built-in classes, but new user-defined classes can be created as well. A class definition specifies the attributes and methods shared among objects of that class. We will introduce the class statement by revisiting the example of a bank account."
   ]
  },
  {
   "cell_type": "markdown",
   "id": "13d9a8d0",
   "metadata": {},
   "source": []
  },
  {
   "cell_type": "markdown",
   "id": "c3cdf3dd",
   "metadata": {},
   "source": []
  }
 ],
 "metadata": {
  "kernelspec": {
   "display_name": "cs61a",
   "language": "python",
   "name": "python3"
  },
  "language_info": {
   "codemirror_mode": {
    "name": "ipython",
    "version": 3
   },
   "file_extension": ".py",
   "mimetype": "text/x-python",
   "name": "python",
   "nbconvert_exporter": "python",
   "pygments_lexer": "ipython3",
   "version": "3.12.9"
  }
 },
 "nbformat": 4,
 "nbformat_minor": 5
}
