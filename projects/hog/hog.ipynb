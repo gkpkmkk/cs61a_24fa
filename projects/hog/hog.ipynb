{
 "cells": [
  {
   "cell_type": "code",
   "execution_count": 4,
   "metadata": {},
   "outputs": [
    {
     "name": "stdout",
     "output_type": "stream",
     "text": [
      "4\n",
      "6\n"
     ]
    },
    {
     "data": {
      "text/plain": [
       "10"
      ]
     },
     "execution_count": 4,
     "metadata": {},
     "output_type": "execute_result"
    }
   ],
   "source": [
    "from dice import six_sided, make_test_dice\n",
    "from ucb import main, trace, interact\n",
    "\n",
    "def roll_dice(num_rolls, dice=six_sided):\n",
    "    \"\"\"Simulate rolling the DICE exactly NUM_ROLLS > 0 times. Return the sum of\n",
    "    the outcomes unless any of the outcomes is 1. In that case, return 1.\n",
    "\n",
    "    num_rolls:  The number of dice rolls that will be made.\n",
    "    dice:       A function that simulates a single dice roll outcome. Defaults to the six sided dice.\n",
    "    \"\"\"\n",
    "    # These assert statements ensure that num_rolls is a positive integer.\n",
    "    assert type(num_rolls) == int, 'num_rolls must be an integer.'\n",
    "    assert num_rolls > 0, 'Must roll at least once.'\n",
    "    # BEGIN PROBLEM 1\n",
    "    \"*** YOUR CODE HERE ***\"\n",
    "    val = 0\n",
    "    for i in range(num_rolls):\n",
    "        if dice() == 1:\n",
    "            print(dice())\n",
    "            return 1\n",
    "        else:\n",
    "            val += dice()\n",
    "    return val\n",
    "\n",
    "roll_dice(2, make_test_dice(4,6,1))\n"
   ]
  },
  {
   "cell_type": "code",
   "execution_count": 12,
   "metadata": {},
   "outputs": [
    {
     "data": {
      "text/plain": [
       "5"
      ]
     },
     "execution_count": 12,
     "metadata": {},
     "output_type": "execute_result"
    }
   ],
   "source": [
    "11245%10"
   ]
  },
  {
   "cell_type": "code",
   "execution_count": 13,
   "metadata": {},
   "outputs": [
    {
     "data": {
      "text/plain": [
       "0"
      ]
     },
     "execution_count": 13,
     "metadata": {},
     "output_type": "execute_result"
    }
   ],
   "source": [
    "4//10%10"
   ]
  },
  {
   "cell_type": "code",
   "execution_count": 17,
   "metadata": {},
   "outputs": [
    {
     "data": {
      "text/plain": [
       "7"
      ]
     },
     "execution_count": 17,
     "metadata": {},
     "output_type": "execute_result"
    }
   ],
   "source": [
    "def num_factors(n):\n",
    "    \"\"\"Return the number of factors of N, including 1 and N itself.\"\"\"\n",
    "    # BEGIN PROBLEM 4\n",
    "    \"*** YOUR CODE HERE ***\"\n",
    "    num = 0\n",
    "    for i in range(1,n+1):\n",
    "        if n%i == 0:\n",
    "            num += 1\n",
    "    return num\n",
    "\n",
    "num_factors(64)"
   ]
  },
  {
   "cell_type": "code",
   "execution_count": 20,
   "metadata": {},
   "outputs": [
    {
     "data": {
      "text/plain": [
       "1"
      ]
     },
     "execution_count": 20,
     "metadata": {},
     "output_type": "execute_result"
    }
   ],
   "source": [
    "def num_factors(n):\n",
    "    \"\"\"Return the number of factors of N, including 1 and N itself.\"\"\"\n",
    "    # BEGIN PROBLEM 4\n",
    "    \"*** YOUR CODE HERE ***\"\n",
    "    num = 0\n",
    "    for i in range(1,n+1):\n",
    "        if n%i == 0:\n",
    "            num += 1\n",
    "    return num\n",
    "    # END PROBLEM 4\n",
    "def is_prime(n):\n",
    "    \"\"\"Return whether N is prime.\"\"\"\n",
    "    if n == 1:\n",
    "        return False\n",
    "    k = 2\n",
    "    while k < n:\n",
    "        if n % k == 0:\n",
    "            return False\n",
    "        k += 1\n",
    "    return True\n",
    "def sus_points(score):\n",
    "    \"\"\"Return the new score of a player taking into account the Sus Fuss rule.\"\"\"\n",
    "    # BEGIN PROBLEM 4\n",
    "    \"*** YOUR CODE HERE ***\"\n",
    "    if num_factors(score) in (3,4):\n",
    "        while True:\n",
    "            score += 1\n",
    "            if is_prime(score):\n",
    "                return score\n",
    "    return score\n",
    "\n",
    "sus_points(1)"
   ]
  },
  {
   "cell_type": "code",
   "execution_count": 21,
   "metadata": {},
   "outputs": [
    {
     "data": {
      "text/plain": [
       "3"
      ]
     },
     "execution_count": 21,
     "metadata": {},
     "output_type": "execute_result"
    }
   ],
   "source": [
    "def always_roll(n):\n",
    "    \"\"\"Return a player strategy that always rolls N dice.\n",
    "\n",
    "    A player strategy is a function that takes two total scores as arguments\n",
    "    (the current player's score, and the opponent's score), and returns a\n",
    "    number of dice that the current player will roll this turn.\n",
    "\n",
    "    >>> strategy = always_roll(3)\n",
    "    >>> strategy(0, 0)\n",
    "    3\n",
    "    >>> strategy(99, 99)\n",
    "    3\n",
    "    \"\"\"\n",
    "    assert n >= 0 and n <= 10\n",
    "    # BEGIN PROBLEM 6\n",
    "    \"*** YOUR CODE HERE ***\"\n",
    "    return n\n",
    "always_roll(3)"
   ]
  },
  {
   "cell_type": "code",
   "execution_count": null,
   "metadata": {},
   "outputs": [],
   "source": []
  }
 ],
 "metadata": {
  "kernelspec": {
   "display_name": "Python 3",
   "language": "python",
   "name": "python3"
  },
  "language_info": {
   "codemirror_mode": {
    "name": "ipython",
    "version": 3
   },
   "file_extension": ".py",
   "mimetype": "text/x-python",
   "name": "python",
   "nbconvert_exporter": "python",
   "pygments_lexer": "ipython3",
   "version": "3.12.4"
  }
 },
 "nbformat": 4,
 "nbformat_minor": 2
}
