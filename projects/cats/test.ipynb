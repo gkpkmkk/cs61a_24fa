{
 "cells": [
  {
   "cell_type": "code",
   "execution_count": null,
   "id": "ceba1579",
   "metadata": {},
   "outputs": [],
   "source": [
    "\"\"\"Typing test implementation\"\"\"\n",
    "\n",
    "from utils import (\n",
    "    lower,\n",
    "    split,\n",
    "    remove_punctuation,\n",
    "    lines_from_file,\n",
    "    count,\n",
    "    deep_convert_to_tuple,\n",
    ")\n",
    "from ucb import main, interact, trace\n",
    "from datetime import datetime\n",
    "import random\n",
    "\n",
    "\n",
    "###########\n",
    "# Phase 1 #\n",
    "###########\n",
    "\n",
    "\n",
    "def pick(paragraphs, select, k):\n",
    "    \"\"\"Return the Kth paragraph from PARAGRAPHS for which the SELECT returns True.\n",
    "    If there are fewer than K such paragraphs, return an empty string.\n",
    "\n",
    "    Arguments:\n",
    "        paragraphs: a list of strings representing paragraphs\n",
    "        select: a function that returns True for paragraphs that meet its criteria\n",
    "        k: an integer\n",
    "\n",
    "    >>> ps = ['hi', 'how are you', 'fine']\n",
    "    >>> s = lambda p: len(p) <= 4\n",
    "    >>> pick(ps, s, 0)\n",
    "    'hi'\n",
    "    >>> pick(ps, s, 1)\n",
    "    'fine'\n",
    "    >>> pick(ps, s, 2)\n",
    "    ''\n",
    "    \"\"\"\n",
    "    # BEGIN PROBLEM 1\n",
    "    \"*** YOUR CODE HERE ***\"\n",
    "    Selected_Paragraphs = []              # create an empty list to store the selected paragraphs\n",
    "    for i in range(len(paragraphs)):      # iterate through the paragraphs\n",
    "        if select(paragraphs[i]):         # if the paragraph meets the select function's criteria\n",
    "            Selected_Paragraphs.append(paragraphs[i])\n",
    "\n",
    "    if k >= len(Selected_Paragraphs):      # if k is greater than the number of selected paragraphs\n",
    "        return ''                         # return an empty string\n",
    "    else:                                # otherwise\n",
    "        return Selected_Paragraphs[k]     # return the kth paragraph\n",
    "    # END PROBLEM 1\n",
    "\n",
    "\n",
    "def about(subject):\n",
    "    \"\"\"Return a function that takes in a paragraph and returns whether\n",
    "    that paragraph contains one of the words in SUBJECT.\n",
    "\n",
    "    Arguments:\n",
    "        subject: a list of words related to a subject\n",
    "\n",
    "    >>> about_dogs = about(['dog', 'dogs', 'pup', 'puppy'])\n",
    "    >>> pick(['Cute Dog!', 'That is a cat.', 'Nice pup!'], about_dogs, 0)\n",
    "    'Cute Dog!'\n",
    "    >>> pick(['Cute Dog!', 'That is a cat.', 'Nice pup.'], about_dogs, 1)\n",
    "    'Nice pup.'\n",
    "    \"\"\"\n",
    "    assert all([lower(x) == x for x in subject]), \"subjects should be lowercase.\"\n",
    "\n",
    "    # BEGIN PROBLEM 2\n",
    "    \"*** YOUR CODE HERE ***\"\n",
    "    def judge(word):\n",
    "        processed_sequence = split(lower(remove_punctuation(word)))\n",
    "        for sub_i in subject:\n",
    "            if sub_i in processed_sequence:\n",
    "                return True\n",
    "        return False\n",
    "    return judge"
   ]
  },
  {
   "cell_type": "code",
   "execution_count": 31,
   "id": "75faa6c7",
   "metadata": {},
   "outputs": [
    {
     "data": {
      "text/plain": [
       "'Nice pup!'"
      ]
     },
     "execution_count": 31,
     "metadata": {},
     "output_type": "execute_result"
    }
   ],
   "source": [
    "about_dogs = about(['dog', 'dogs', 'pup', 'puppy'])\n",
    "\n",
    "pick(['Cute Dog!', 'That is a cat.', 'Nice pup!'], about_dogs, 1)"
   ]
  },
  {
   "cell_type": "code",
   "execution_count": 29,
   "id": "4704905f",
   "metadata": {},
   "outputs": [
    {
     "name": "stdout",
     "output_type": "stream",
     "text": [
      "Cute Dog!\n",
      "['cute', 'dog']\n",
      "That is a cat.\n",
      "['that', 'is', 'a', 'cat']\n",
      "Nice pup!\n",
      "['nice', 'pup']\n",
      "dog\n",
      "dogs\n",
      "pup\n",
      "yes\n",
      "puppy\n"
     ]
    }
   ],
   "source": [
    "subject = ['dog', 'dogs', 'pup', 'puppy']\n",
    "paragraph =['Cute Dog!', 'That is a cat.', 'Nice pup!']\n",
    "\n",
    "\n",
    "for word in paragraph:\n",
    "    print(word)\n",
    "    processed = split(lower(remove_punctuation(word)))\n",
    "    print(processed)\n",
    "for subi in subject:\n",
    "    print(subi)\n",
    "    if subi in processed:\n",
    "        print(\"yes\")"
   ]
  },
  {
   "cell_type": "code",
   "execution_count": 25,
   "id": "6e32b52c",
   "metadata": {},
   "outputs": [
    {
     "data": {
      "text/plain": [
       "'hi'"
      ]
     },
     "execution_count": 25,
     "metadata": {},
     "output_type": "execute_result"
    }
   ],
   "source": [
    "ps = ['hi', 'how are you', 'fine']\n",
    "s = lambda p: len(p) <= 4\n",
    "pick(ps, s, 0)"
   ]
  },
  {
   "cell_type": "code",
   "execution_count": 33,
   "id": "e45895e7",
   "metadata": {},
   "outputs": [
    {
     "data": {
      "text/plain": [
       "False"
      ]
     },
     "execution_count": 33,
     "metadata": {},
     "output_type": "execute_result"
    }
   ],
   "source": [
    "dogs = about(['dogs', 'hounds'])\n",
    "dogs('A paragraph about cats.')"
   ]
  },
  {
   "cell_type": "code",
   "execution_count": 42,
   "id": "b0c2d4b3",
   "metadata": {},
   "outputs": [],
   "source": [
    "def accuracy(typed, source):\n",
    "    \"\"\"Return the accuracy (percentage of words typed correctly) of TYPED\n",
    "    compared to the corresponding words in SOURCE.\n",
    "\n",
    "    Arguments:\n",
    "        typed: a string that may contain typos\n",
    "        source: a model string without errors\n",
    "\n",
    "    >>> accuracy('Cute Dog!', 'Cute Dog.')\n",
    "    50.0\n",
    "    >>> accuracy('A Cute Dog!', 'Cute Dog.')\n",
    "    0.0\n",
    "    >>> accuracy('cute Dog.', 'Cute Dog.')\n",
    "    50.0\n",
    "    >>> accuracy('Cute Dog. I say!', 'Cute Dog.')\n",
    "    50.0\n",
    "    >>> accuracy('Cute', 'Cute Dog.')\n",
    "    100.0\n",
    "    >>> accuracy('', 'Cute Dog.')\n",
    "    0.0\n",
    "    >>> accuracy('', '')\n",
    "    100.0\n",
    "    \"\"\"\n",
    "    typed_words = split(typed)\n",
    "    print(\"typed_words:\",typed_words)\n",
    "    source_words = split(source)\n",
    "    print(\"source_words:\",source_words)\n",
    "    lena = len(typed_words)\n",
    "    lenb = len(source_words)\n",
    "    length = min(lena,lenb)\n",
    "    print(\"lena is \", lena) \n",
    "    print(\"lenb is \", lenb)\n",
    "    if lena+lenb == 0:\n",
    "        return 100.0 # both are 0\n",
    "    right = 0\n",
    "    for i in range(length):\n",
    "        if typed_words[i] == source_words[i]:\n",
    "            right += 1\n",
    "\n",
    "    return right/max(lena,lenb)*100.0\n",
    "    \n",
    "\n",
    "\n"
   ]
  },
  {
   "cell_type": "code",
   "execution_count": null,
   "id": "0d5ba5e9",
   "metadata": {},
   "outputs": [
    {
     "data": {
      "text/plain": [
       "['A', 'Cute', 'Dog!']"
      ]
     },
     "execution_count": 34,
     "metadata": {},
     "output_type": "execute_result"
    }
   ],
   "source": [
    "typed = 'A Cute Dog!'\n",
    "split(typed)\n",
    "accuracy"
   ]
  },
  {
   "cell_type": "code",
   "execution_count": 43,
   "id": "aa42f7df",
   "metadata": {},
   "outputs": [
    {
     "name": "stdout",
     "output_type": "stream",
     "text": [
      "typed_words: ['Cute', 'Dog!']\n",
      "source_words: ['Cute', 'Dog.']\n",
      "lena is  2\n",
      "lenb is  2\n"
     ]
    },
    {
     "data": {
      "text/plain": [
       "50.0"
      ]
     },
     "execution_count": 43,
     "metadata": {},
     "output_type": "execute_result"
    }
   ],
   "source": [
    "accuracy('Cute Dog!', 'Cute Dog.')"
   ]
  },
  {
   "cell_type": "code",
   "execution_count": null,
   "id": "96a6a3ab",
   "metadata": {},
   "outputs": [],
   "source": []
  },
  {
   "cell_type": "code",
   "execution_count": 72,
   "id": "7710e817",
   "metadata": {},
   "outputs": [],
   "source": [
    "from cats import lines_from_file\n",
    "\n",
    "def autocorrect(typed_word, word_list, diff_function, limit):\n",
    "    \"\"\"Returns the element of WORD_LIST that has the smallest difference\n",
    "    from TYPED_WORD based on DIFF_FUNCTION. If multiple words are tied for the smallest difference,\n",
    "    return the one that appears closest to the front of WORD_LIST. If the\n",
    "    difference is greater than LIMIT, return TYPED_WORD instead.\n",
    "\n",
    "    Arguments:\n",
    "        typed_word: a string representing a word that may contain typos\n",
    "        word_list: a list of strings representing source words\n",
    "        diff_function: a function quantifying the difference between two words\n",
    "        limit: a number\n",
    "\n",
    "    >>> ten_diff = lambda w1, w2, limit: 10 # Always returns 10\n",
    "    >>> autocorrect(\"hwllo\", [\"butter\", \"hello\", \"potato\"], ten_diff, 20)\n",
    "    'butter'\n",
    "    >>> first_diff = lambda w1, w2, limit: (1 if w1[0] != w2[0] else 0) # Checks for matching first char\n",
    "    >>> autocorrect(\"tosting\", [\"testing\", \"asking\", \"fasting\"], first_diff, 10)\n",
    "    'testing'\n",
    "    \"\"\"\n",
    "    # BEGIN PROBLEM 5\n",
    "    \"*** YOUR CODE HERE ***\"\n",
    "    if typed_word in word_list: # If the typed_word is contained inside the word_list, autocorrect returns that word.\n",
    "        return typed_word\n",
    "    \n",
    "    allowed_word_list = []      #Otherwise, autocorrect returns the word from word_list that has the lowest difference from the provided typed_word. \n",
    "    allowed_word_diff = []      #This difference is the number returned by the diff_function.\n",
    "    for _ in range(len(word_list)):\n",
    "        if diff_function(typed_word,word_list[_],limit) <= limit:\n",
    "            print(f\"diff_function {typed_word} {word_list[_]} < {limit}\")\n",
    "            allowed_word_list.append(word_list[_])\n",
    "            allowed_word_diff.append(diff_function(typed_word, word_list[_], limit))\n",
    "            print(\"allowed_word_list: \",allowed_word_list)\n",
    "\n",
    "    if len(allowed_word_list) == 0:#However, if the lowest difference between typed_word and any of the words in word_list is greater than limit, then typed_word is returned instead.\n",
    "        return typed_word\n",
    "    else:\n",
    "        closest_word_list = []\n",
    "        minimum_diff = min(allowed_word_diff, key = abs)\n",
    "        print(\"minimum_diff:\", minimum_diff)\n",
    "        for _ in range(len(allowed_word_list)):\n",
    "            print(f\"allowed_word_diff[{_}]\", allowed_word_diff[_])\n",
    "            if allowed_word_diff[_] == minimum_diff:\n",
    "                closest_word_list.append(allowed_word_list[_])\n",
    "        print(\"closest_word_list:\", closest_word_list)\n",
    "        return closest_word_list[0]"
   ]
  },
  {
   "cell_type": "code",
   "execution_count": 68,
   "id": "2aac7192",
   "metadata": {},
   "outputs": [
    {
     "name": "stdout",
     "output_type": "stream",
     "text": [
      "diff_function wor worry < 10\n",
      "allowed_word_list:  ['worry']\n",
      "diff_function wor car < 10\n",
      "allowed_word_list:  ['worry', 'car']\n",
      "diff_function wor part < 10\n",
      "allowed_word_list:  ['worry', 'car', 'part']\n",
      "minimum_diff: 0\n",
      "allowed_word_diff[0] 2\n",
      "allowed_word_diff[1] 0\n",
      "allowed_word_diff[2] 1\n",
      "closest_word_list: ['car']\n"
     ]
    },
    {
     "data": {
      "text/plain": [
       "'car'"
      ]
     },
     "execution_count": 68,
     "metadata": {},
     "output_type": "execute_result"
    }
   ],
   "source": [
    "autocorrect(\"wor\", [\"worry\", \"car\", \"part\"], abs_diff, 10)"
   ]
  },
  {
   "cell_type": "code",
   "execution_count": 69,
   "id": "fc10ea7a",
   "metadata": {},
   "outputs": [
    {
     "name": "stdout",
     "output_type": "stream",
     "text": [
      "diff_function wrod word < 1\n",
      "allowed_word_list:  ['word']\n",
      "minimum_diff: 0\n",
      "allowed_word_diff[0] 0\n",
      "closest_word_list: ['word']\n"
     ]
    },
    {
     "data": {
      "text/plain": [
       "'word'"
      ]
     },
     "execution_count": 69,
     "metadata": {},
     "output_type": "execute_result"
    }
   ],
   "source": [
    "first_diff = lambda w1, w2, limit: 1 if w1[0] != w2[0] else 0\n",
    "autocorrect(\"wrod\", [\"word\", \"rod\"], first_diff, 1)"
   ]
  },
  {
   "cell_type": "code",
   "execution_count": 70,
   "id": "59727649",
   "metadata": {},
   "outputs": [
    {
     "data": {
      "text/plain": [
       "'inside'"
      ]
     },
     "execution_count": 70,
     "metadata": {},
     "output_type": "execute_result"
    }
   ],
   "source": [
    "autocorrect(\"inside\", [\"idea\", \"inside\"], first_diff, 0.5)"
   ]
  },
  {
   "cell_type": "code",
   "execution_count": 73,
   "id": "35aa4e0f",
   "metadata": {},
   "outputs": [
    {
     "name": "stdout",
     "output_type": "stream",
     "text": [
      "diff_function stilter posticum < 1\n",
      "allowed_word_list:  ['posticum']\n",
      "diff_function stilter waller < 1\n",
      "allowed_word_list:  ['posticum', 'waller']\n",
      "diff_function stilter marque < 1\n",
      "allowed_word_list:  ['posticum', 'waller', 'marque']\n",
      "minimum_diff: 1\n",
      "allowed_word_diff[0] 1\n",
      "allowed_word_diff[1] 1\n",
      "allowed_word_diff[2] 1\n",
      "closest_word_list: ['posticum', 'waller', 'marque']\n"
     ]
    },
    {
     "data": {
      "text/plain": [
       "'posticum'"
      ]
     },
     "execution_count": 73,
     "metadata": {},
     "output_type": "execute_result"
    }
   ],
   "source": [
    "autocorrect('stilter', ['modernizer', 'posticum', 'undiscernible', 'heterotrophic', 'waller', 'marque', 'dephosphorization'], lambda x, y, lim: min(lim + 1, abs(len(x) - len(y))), 1)"
   ]
  },
  {
   "cell_type": "code",
   "execution_count": null,
   "id": "bce7ac19",
   "metadata": {},
   "outputs": [],
   "source": []
  }
 ],
 "metadata": {
  "kernelspec": {
   "display_name": "cs61a",
   "language": "python",
   "name": "python3"
  },
  "language_info": {
   "codemirror_mode": {
    "name": "ipython",
    "version": 3
   },
   "file_extension": ".py",
   "mimetype": "text/x-python",
   "name": "python",
   "nbconvert_exporter": "python",
   "pygments_lexer": "ipython3",
   "version": "3.12.9"
  }
 },
 "nbformat": 4,
 "nbformat_minor": 5
}
