{
 "cells": [
  {
   "cell_type": "code",
   "execution_count": null,
   "id": "ceba1579",
   "metadata": {},
   "outputs": [],
   "source": [
    "\"\"\"Typing test implementation\"\"\"\n",
    "\n",
    "from utils import (\n",
    "    lower,\n",
    "    split,\n",
    "    remove_punctuation,\n",
    "    lines_from_file,\n",
    "    count,\n",
    "    deep_convert_to_tuple,\n",
    ")\n",
    "from ucb import main, interact, trace\n",
    "from datetime import datetime\n",
    "import random\n",
    "\n",
    "\n",
    "###########\n",
    "# Phase 1 #\n",
    "###########\n",
    "\n",
    "\n",
    "def pick(paragraphs, select, k):\n",
    "    \"\"\"Return the Kth paragraph from PARAGRAPHS for which the SELECT returns True.\n",
    "    If there are fewer than K such paragraphs, return an empty string.\n",
    "\n",
    "    Arguments:\n",
    "        paragraphs: a list of strings representing paragraphs\n",
    "        select: a function that returns True for paragraphs that meet its criteria\n",
    "        k: an integer\n",
    "\n",
    "    >>> ps = ['hi', 'how are you', 'fine']\n",
    "    >>> s = lambda p: len(p) <= 4\n",
    "    >>> pick(ps, s, 0)\n",
    "    'hi'\n",
    "    >>> pick(ps, s, 1)\n",
    "    'fine'\n",
    "    >>> pick(ps, s, 2)\n",
    "    ''\n",
    "    \"\"\"\n",
    "    # BEGIN PROBLEM 1\n",
    "    \"*** YOUR CODE HERE ***\"\n",
    "    Selected_Paragraphs = []              # create an empty list to store the selected paragraphs\n",
    "    for i in range(len(paragraphs)):      # iterate through the paragraphs\n",
    "        if select(paragraphs[i]):         # if the paragraph meets the select function's criteria\n",
    "            Selected_Paragraphs.append(paragraphs[i])\n",
    "\n",
    "    if k >= len(Selected_Paragraphs):      # if k is greater than the number of selected paragraphs\n",
    "        return ''                         # return an empty string\n",
    "    else:                                # otherwise\n",
    "        return Selected_Paragraphs[k]     # return the kth paragraph\n",
    "    # END PROBLEM 1\n",
    "\n",
    "\n",
    "def about(subject):\n",
    "    \"\"\"Return a function that takes in a paragraph and returns whether\n",
    "    that paragraph contains one of the words in SUBJECT.\n",
    "\n",
    "    Arguments:\n",
    "        subject: a list of words related to a subject\n",
    "\n",
    "    >>> about_dogs = about(['dog', 'dogs', 'pup', 'puppy'])\n",
    "    >>> pick(['Cute Dog!', 'That is a cat.', 'Nice pup!'], about_dogs, 0)\n",
    "    'Cute Dog!'\n",
    "    >>> pick(['Cute Dog!', 'That is a cat.', 'Nice pup.'], about_dogs, 1)\n",
    "    'Nice pup.'\n",
    "    \"\"\"\n",
    "    assert all([lower(x) == x for x in subject]), \"subjects should be lowercase.\"\n",
    "\n",
    "    # BEGIN PROBLEM 2\n",
    "    \"*** YOUR CODE HERE ***\"\n",
    "    def judge(word):\n",
    "        processed_sequence = split(lower(remove_punctuation(word)))\n",
    "        for sub_i in subject:\n",
    "            if sub_i in processed_sequence:\n",
    "                return True\n",
    "        return False\n",
    "    return judge"
   ]
  },
  {
   "cell_type": "code",
   "execution_count": 31,
   "id": "75faa6c7",
   "metadata": {},
   "outputs": [
    {
     "data": {
      "text/plain": [
       "'Nice pup!'"
      ]
     },
     "execution_count": 31,
     "metadata": {},
     "output_type": "execute_result"
    }
   ],
   "source": [
    "about_dogs = about(['dog', 'dogs', 'pup', 'puppy'])\n",
    "\n",
    "pick(['Cute Dog!', 'That is a cat.', 'Nice pup!'], about_dogs, 1)"
   ]
  },
  {
   "cell_type": "code",
   "execution_count": 29,
   "id": "4704905f",
   "metadata": {},
   "outputs": [
    {
     "name": "stdout",
     "output_type": "stream",
     "text": [
      "Cute Dog!\n",
      "['cute', 'dog']\n",
      "That is a cat.\n",
      "['that', 'is', 'a', 'cat']\n",
      "Nice pup!\n",
      "['nice', 'pup']\n",
      "dog\n",
      "dogs\n",
      "pup\n",
      "yes\n",
      "puppy\n"
     ]
    }
   ],
   "source": [
    "subject = ['dog', 'dogs', 'pup', 'puppy']\n",
    "paragraph =['Cute Dog!', 'That is a cat.', 'Nice pup!']\n",
    "\n",
    "\n",
    "for word in paragraph:\n",
    "    print(word)\n",
    "    processed = split(lower(remove_punctuation(word)))\n",
    "    print(processed)\n",
    "for subi in subject:\n",
    "    print(subi)\n",
    "    if subi in processed:\n",
    "        print(\"yes\")"
   ]
  },
  {
   "cell_type": "code",
   "execution_count": 25,
   "id": "6e32b52c",
   "metadata": {},
   "outputs": [
    {
     "data": {
      "text/plain": [
       "'hi'"
      ]
     },
     "execution_count": 25,
     "metadata": {},
     "output_type": "execute_result"
    }
   ],
   "source": [
    "ps = ['hi', 'how are you', 'fine']\n",
    "s = lambda p: len(p) <= 4\n",
    "pick(ps, s, 0)"
   ]
  },
  {
   "cell_type": "code",
   "execution_count": 33,
   "id": "e45895e7",
   "metadata": {},
   "outputs": [
    {
     "data": {
      "text/plain": [
       "False"
      ]
     },
     "execution_count": 33,
     "metadata": {},
     "output_type": "execute_result"
    }
   ],
   "source": [
    "dogs = about(['dogs', 'hounds'])\n",
    "dogs('A paragraph about cats.')"
   ]
  },
  {
   "cell_type": "code",
   "execution_count": 42,
   "id": "b0c2d4b3",
   "metadata": {},
   "outputs": [],
   "source": [
    "def accuracy(typed, source):\n",
    "    \"\"\"Return the accuracy (percentage of words typed correctly) of TYPED\n",
    "    compared to the corresponding words in SOURCE.\n",
    "\n",
    "    Arguments:\n",
    "        typed: a string that may contain typos\n",
    "        source: a model string without errors\n",
    "\n",
    "    >>> accuracy('Cute Dog!', 'Cute Dog.')\n",
    "    50.0\n",
    "    >>> accuracy('A Cute Dog!', 'Cute Dog.')\n",
    "    0.0\n",
    "    >>> accuracy('cute Dog.', 'Cute Dog.')\n",
    "    50.0\n",
    "    >>> accuracy('Cute Dog. I say!', 'Cute Dog.')\n",
    "    50.0\n",
    "    >>> accuracy('Cute', 'Cute Dog.')\n",
    "    100.0\n",
    "    >>> accuracy('', 'Cute Dog.')\n",
    "    0.0\n",
    "    >>> accuracy('', '')\n",
    "    100.0\n",
    "    \"\"\"\n",
    "    typed_words = split(typed)\n",
    "    print(\"typed_words:\",typed_words)\n",
    "    source_words = split(source)\n",
    "    print(\"source_words:\",source_words)\n",
    "    lena = len(typed_words)\n",
    "    lenb = len(source_words)\n",
    "    length = min(lena,lenb)\n",
    "    print(\"lena is \", lena) \n",
    "    print(\"lenb is \", lenb)\n",
    "    if lena+lenb == 0:\n",
    "        return 100.0 # both are 0\n",
    "    right = 0\n",
    "    for i in range(length):\n",
    "        if typed_words[i] == source_words[i]:\n",
    "            right += 1\n",
    "\n",
    "    return right/max(lena,lenb)*100.0\n",
    "    \n",
    "\n",
    "\n"
   ]
  },
  {
   "cell_type": "code",
   "execution_count": null,
   "id": "0d5ba5e9",
   "metadata": {},
   "outputs": [
    {
     "data": {
      "text/plain": [
       "['A', 'Cute', 'Dog!']"
      ]
     },
     "execution_count": 34,
     "metadata": {},
     "output_type": "execute_result"
    }
   ],
   "source": [
    "typed = 'A Cute Dog!'\n",
    "split(typed)\n",
    "accuracy"
   ]
  },
  {
   "cell_type": "code",
   "execution_count": 43,
   "id": "aa42f7df",
   "metadata": {},
   "outputs": [
    {
     "name": "stdout",
     "output_type": "stream",
     "text": [
      "typed_words: ['Cute', 'Dog!']\n",
      "source_words: ['Cute', 'Dog.']\n",
      "lena is  2\n",
      "lenb is  2\n"
     ]
    },
    {
     "data": {
      "text/plain": [
       "50.0"
      ]
     },
     "execution_count": 43,
     "metadata": {},
     "output_type": "execute_result"
    }
   ],
   "source": [
    "accuracy('Cute Dog!', 'Cute Dog.')"
   ]
  },
  {
   "cell_type": "code",
   "execution_count": null,
   "id": "96a6a3ab",
   "metadata": {},
   "outputs": [],
   "source": []
  },
  {
   "cell_type": "code",
   "execution_count": 72,
   "id": "7710e817",
   "metadata": {},
   "outputs": [],
   "source": [
    "from cats import lines_from_file\n",
    "\n",
    "def autocorrect(typed_word, word_list, diff_function, limit):\n",
    "    \"\"\"Returns the element of WORD_LIST that has the smallest difference\n",
    "    from TYPED_WORD based on DIFF_FUNCTION. If multiple words are tied for the smallest difference,\n",
    "    return the one that appears closest to the front of WORD_LIST. If the\n",
    "    difference is greater than LIMIT, return TYPED_WORD instead.\n",
    "\n",
    "    Arguments:\n",
    "        typed_word: a string representing a word that may contain typos\n",
    "        word_list: a list of strings representing source words\n",
    "        diff_function: a function quantifying the difference between two words\n",
    "        limit: a number\n",
    "\n",
    "    >>> ten_diff = lambda w1, w2, limit: 10 # Always returns 10\n",
    "    >>> autocorrect(\"hwllo\", [\"butter\", \"hello\", \"potato\"], ten_diff, 20)\n",
    "    'butter'\n",
    "    >>> first_diff = lambda w1, w2, limit: (1 if w1[0] != w2[0] else 0) # Checks for matching first char\n",
    "    >>> autocorrect(\"tosting\", [\"testing\", \"asking\", \"fasting\"], first_diff, 10)\n",
    "    'testing'\n",
    "    \"\"\"\n",
    "    # BEGIN PROBLEM 5\n",
    "    \"*** YOUR CODE HERE ***\"\n",
    "    if typed_word in word_list: # If the typed_word is contained inside the word_list, autocorrect returns that word.\n",
    "        return typed_word\n",
    "    \n",
    "    allowed_word_list = []      #Otherwise, autocorrect returns the word from word_list that has the lowest difference from the provided typed_word. \n",
    "    allowed_word_diff = []      #This difference is the number returned by the diff_function.\n",
    "    for _ in range(len(word_list)):\n",
    "        if diff_function(typed_word,word_list[_],limit) <= limit:\n",
    "            print(f\"diff_function {typed_word} {word_list[_]} < {limit}\")\n",
    "            allowed_word_list.append(word_list[_])\n",
    "            allowed_word_diff.append(diff_function(typed_word, word_list[_], limit))\n",
    "            print(\"allowed_word_list: \",allowed_word_list)\n",
    "\n",
    "    if len(allowed_word_list) == 0:#However, if the lowest difference between typed_word and any of the words in word_list is greater than limit, then typed_word is returned instead.\n",
    "        return typed_word\n",
    "    else:\n",
    "        closest_word_list = []\n",
    "        minimum_diff = min(allowed_word_diff, key = abs)\n",
    "        print(\"minimum_diff:\", minimum_diff)\n",
    "        for _ in range(len(allowed_word_list)):\n",
    "            print(f\"allowed_word_diff[{_}]\", allowed_word_diff[_])\n",
    "            if allowed_word_diff[_] == minimum_diff:\n",
    "                closest_word_list.append(allowed_word_list[_])\n",
    "        print(\"closest_word_list:\", closest_word_list)\n",
    "        return closest_word_list[0]"
   ]
  },
  {
   "cell_type": "code",
   "execution_count": 68,
   "id": "2aac7192",
   "metadata": {},
   "outputs": [
    {
     "name": "stdout",
     "output_type": "stream",
     "text": [
      "diff_function wor worry < 10\n",
      "allowed_word_list:  ['worry']\n",
      "diff_function wor car < 10\n",
      "allowed_word_list:  ['worry', 'car']\n",
      "diff_function wor part < 10\n",
      "allowed_word_list:  ['worry', 'car', 'part']\n",
      "minimum_diff: 0\n",
      "allowed_word_diff[0] 2\n",
      "allowed_word_diff[1] 0\n",
      "allowed_word_diff[2] 1\n",
      "closest_word_list: ['car']\n"
     ]
    },
    {
     "data": {
      "text/plain": [
       "'car'"
      ]
     },
     "execution_count": 68,
     "metadata": {},
     "output_type": "execute_result"
    }
   ],
   "source": [
    "autocorrect(\"wor\", [\"worry\", \"car\", \"part\"], abs_diff, 10)"
   ]
  },
  {
   "cell_type": "code",
   "execution_count": 69,
   "id": "fc10ea7a",
   "metadata": {},
   "outputs": [
    {
     "name": "stdout",
     "output_type": "stream",
     "text": [
      "diff_function wrod word < 1\n",
      "allowed_word_list:  ['word']\n",
      "minimum_diff: 0\n",
      "allowed_word_diff[0] 0\n",
      "closest_word_list: ['word']\n"
     ]
    },
    {
     "data": {
      "text/plain": [
       "'word'"
      ]
     },
     "execution_count": 69,
     "metadata": {},
     "output_type": "execute_result"
    }
   ],
   "source": [
    "first_diff = lambda w1, w2, limit: 1 if w1[0] != w2[0] else 0\n",
    "autocorrect(\"wrod\", [\"word\", \"rod\"], first_diff, 1)"
   ]
  },
  {
   "cell_type": "code",
   "execution_count": 70,
   "id": "59727649",
   "metadata": {},
   "outputs": [
    {
     "data": {
      "text/plain": [
       "'inside'"
      ]
     },
     "execution_count": 70,
     "metadata": {},
     "output_type": "execute_result"
    }
   ],
   "source": [
    "autocorrect(\"inside\", [\"idea\", \"inside\"], first_diff, 0.5)"
   ]
  },
  {
   "cell_type": "code",
   "execution_count": 73,
   "id": "35aa4e0f",
   "metadata": {},
   "outputs": [
    {
     "name": "stdout",
     "output_type": "stream",
     "text": [
      "diff_function stilter posticum < 1\n",
      "allowed_word_list:  ['posticum']\n",
      "diff_function stilter waller < 1\n",
      "allowed_word_list:  ['posticum', 'waller']\n",
      "diff_function stilter marque < 1\n",
      "allowed_word_list:  ['posticum', 'waller', 'marque']\n",
      "minimum_diff: 1\n",
      "allowed_word_diff[0] 1\n",
      "allowed_word_diff[1] 1\n",
      "allowed_word_diff[2] 1\n",
      "closest_word_list: ['posticum', 'waller', 'marque']\n"
     ]
    },
    {
     "data": {
      "text/plain": [
       "'posticum'"
      ]
     },
     "execution_count": 73,
     "metadata": {},
     "output_type": "execute_result"
    }
   ],
   "source": [
    "autocorrect('stilter', ['modernizer', 'posticum', 'undiscernible', 'heterotrophic', 'waller', 'marque', 'dephosphorization'], lambda x, y, lim: min(lim + 1, abs(len(x) - len(y))), 1)"
   ]
  },
  {
   "cell_type": "code",
   "execution_count": 92,
   "id": "bce7ac19",
   "metadata": {},
   "outputs": [],
   "source": [
    "def furry_fixes(typed, source, limit):\n",
    "    \"\"\"A diff function for autocorrect that determines how many letters\n",
    "    in TYPED need to be substituted to create SOURCE, then adds the difference in\n",
    "    their lengths and returns the result.\n",
    "\n",
    "    Arguments:\n",
    "        typed: a starting word\n",
    "        source: a string representing a desired goal word\n",
    "        limit: a number representing an upper bound on the number of chars that must change\n",
    "\n",
    "    >>> big_limit = 10\n",
    "    >>> furry_fixes(\"nice\", \"rice\", big_limit)    # Substitute: n -> r\n",
    "    1\n",
    "    >>> furry_fixes(\"range\", \"rungs\", big_limit)  # Substitute: a -> u, e -> s\n",
    "    2\n",
    "    >>> furry_fixes(\"pill\", \"pillage\", big_limit) # Don't substitute anything, length difference of 3.\n",
    "    3\n",
    "    >>> furry_fixes(\"roses\", \"arose\", big_limit)  # Substitute: r -> a, o -> r, s -> o, e -> s, s -> e\n",
    "    5\n",
    "    >>> furry_fixes(\"rose\", \"hello\", big_limit)   # Substitute: r->h, o->e, s->l, e->l, length difference of 1.\n",
    "    5\n",
    "    \"\"\"\n",
    "    # BEGIN PROBLEM 6\n",
    "    print(\"typed:\",typed)\n",
    "    print(\"source:\", source)\n",
    "    print(\"limit:\",limit)\n",
    "    if typed == source: # if typed = source, return 0 immediately. nice -> ice  rice -> ice, return 1+0. substitute n->r, \n",
    "        return 0\n",
    "\n",
    "    if len(typed) == 0 or len(source) == 0: # if we have processed a word completely, return the length difference.\n",
    "        return abs(len(source) - len(typed))\n",
    "    if limit == 0:\n",
    "        return 666\n",
    "    if typed[0] != source[0]:\n",
    "        print(\"1+furry_fixes\")\n",
    "        return 1+furry_fixes(typed[1:],source[1:],limit-1)\n",
    "    if typed[0] == source[0]:\n",
    "        return 0+furry_fixes(typed[1:], source[1:],limit)\n",
    "\n"
   ]
  },
  {
   "cell_type": "code",
   "execution_count": 86,
   "id": "221be671",
   "metadata": {},
   "outputs": [
    {
     "name": "stdout",
     "output_type": "stream",
     "text": [
      "typed: nice\n",
      "source: rice\n",
      "limit: 10\n",
      "1+furry_fixes\n",
      "typed: ice\n",
      "source: ice\n",
      "limit: 9\n",
      "typed: ce\n",
      "source: ce\n",
      "limit: 8\n",
      "typed: e\n",
      "source: e\n",
      "limit: 7\n",
      "typed: \n",
      "source: \n",
      "limit: 6\n"
     ]
    },
    {
     "data": {
      "text/plain": [
       "1"
      ]
     },
     "execution_count": 86,
     "metadata": {},
     "output_type": "execute_result"
    }
   ],
   "source": [
    "big_limit = 10\n",
    "furry_fixes(\"nice\", \"rice\", big_limit)\n"
   ]
  },
  {
   "cell_type": "code",
   "execution_count": 78,
   "id": "3b276990",
   "metadata": {},
   "outputs": [
    {
     "data": {
      "text/plain": [
       "'ice'"
      ]
     },
     "execution_count": 78,
     "metadata": {},
     "output_type": "execute_result"
    }
   ],
   "source": [
    "\"nice\"[1:]"
   ]
  },
  {
   "cell_type": "code",
   "execution_count": 88,
   "id": "08e8713f",
   "metadata": {},
   "outputs": [
    {
     "name": "stdout",
     "output_type": "stream",
     "text": [
      "typed: rose\n",
      "source: hello\n",
      "limit: 10\n",
      "1+furry_fixes\n",
      "typed: ose\n",
      "source: ello\n",
      "limit: 9\n",
      "1+furry_fixes\n",
      "typed: se\n",
      "source: llo\n",
      "limit: 8\n",
      "1+furry_fixes\n",
      "typed: e\n",
      "source: lo\n",
      "limit: 7\n",
      "1+furry_fixes\n",
      "typed: \n",
      "source: o\n",
      "limit: 6\n"
     ]
    },
    {
     "data": {
      "text/plain": [
       "5"
      ]
     },
     "execution_count": 88,
     "metadata": {},
     "output_type": "execute_result"
    }
   ],
   "source": [
    "furry_fixes(\"rose\", \"hello\", big_limit)"
   ]
  },
  {
   "cell_type": "code",
   "execution_count": 90,
   "id": "3bcdce7f",
   "metadata": {},
   "outputs": [
    {
     "name": "stdout",
     "output_type": "stream",
     "text": [
      "typed: rosesabcdefghijklm\n",
      "source: arosenopqrstuvwxyz\n",
      "limit: 4\n",
      "1+furry_fixes\n",
      "typed: osesabcdefghijklm\n",
      "source: rosenopqrstuvwxyz\n",
      "limit: 3\n",
      "1+furry_fixes\n",
      "typed: sesabcdefghijklm\n",
      "source: osenopqrstuvwxyz\n",
      "limit: 2\n",
      "1+furry_fixes\n",
      "typed: esabcdefghijklm\n",
      "source: senopqrstuvwxyz\n",
      "limit: 1\n",
      "1+furry_fixes\n",
      "typed: sabcdefghijklm\n",
      "source: enopqrstuvwxyz\n",
      "limit: 0\n"
     ]
    },
    {
     "data": {
      "text/plain": [
       "670"
      ]
     },
     "execution_count": 90,
     "metadata": {},
     "output_type": "execute_result"
    }
   ],
   "source": [
    "limit = 4\n",
    "furry_fixes(\"rosesabcdefghijklm\", \"arosenopqrstuvwxyz\", limit)"
   ]
  },
  {
   "cell_type": "code",
   "execution_count": 94,
   "id": "7cc73412",
   "metadata": {},
   "outputs": [
    {
     "name": "stdout",
     "output_type": "stream",
     "text": [
      "typed: rosesabcdefghijklm\n",
      "source: aroknl\n",
      "limit: 4\n",
      "1+furry_fixes\n",
      "typed: osesabcdefghijklm\n",
      "source: roknl\n",
      "limit: 3\n",
      "1+furry_fixes\n",
      "typed: sesabcdefghijklm\n",
      "source: oknl\n",
      "limit: 2\n",
      "1+furry_fixes\n",
      "typed: esabcdefghijklm\n",
      "source: knl\n",
      "limit: 1\n",
      "1+furry_fixes\n",
      "typed: sabcdefghijklm\n",
      "source: nl\n",
      "limit: 0\n"
     ]
    },
    {
     "data": {
      "text/plain": [
       "670"
      ]
     },
     "execution_count": 94,
     "metadata": {},
     "output_type": "execute_result"
    }
   ],
   "source": [
    "furry_fixes(\"rosesabcdefghijklm\", \"aroknl\", limit) "
   ]
  },
  {
   "cell_type": "code",
   "execution_count": 123,
   "id": "ac04ae57",
   "metadata": {},
   "outputs": [],
   "source": [
    "def minimum_mewtations(typed, source, limit):\n",
    "    \"\"\"A diff function for autocorrect that computes the edit distance from TYPED to SOURCE.\n",
    "    This function takes in a string TYPED, a string SOURCE, and a number LIMIT.\n",
    "\n",
    "    Arguments:\n",
    "        typed: a starting word\n",
    "        source: a string representing a desired goal word\n",
    "        limit: a number representing an upper bound on the number of edits\n",
    "\n",
    "    >>> big_limit = 10\n",
    "    >>> minimum_mewtations(\"cats\", \"scat\", big_limit)       # cats -> scats -> scat\n",
    "    2\n",
    "    >>> minimum_mewtations(\"purng\", \"purring\", big_limit)   # purng -> purrng -> purring\n",
    "    2\n",
    "    >>> minimum_mewtations(\"ckiteus\", \"kittens\", big_limit) # ckiteus -> kiteus -> kitteus -> kittens\n",
    "    3\n",
    "    \"\"\"\n",
    "    if typed == source: # Base cases should go here, you may add more base cases as needed.\n",
    "        return 0\n",
    "    if limit == 0: \n",
    "        return 666\n",
    "    if len(typed) == 0 or len(source) == 0: # After editing from the left to the right, the rest part of typed should be removed from it or that part of source should be added to typed.\n",
    "        print(\"limit = \", limit-abs(len(typed) - len(source)))\n",
    "        return abs(len(typed) - len(source))\n",
    "    # Recursive cases should go below here\n",
    "    if typed[0] == source[0]: # Feel free to remove or add additional cases\n",
    "        print(typed,'->',typed[1:])\n",
    "        print(source,'->', source[1:])\n",
    "        print(\"limit:\", limit)\n",
    "        return 0+minimum_mewtations(typed[1:], source[1:], limit)\n",
    "    \n",
    "    if typed[0] != source[0]: # the first letter is different\n",
    "        if typed in source or source in typed:\n",
    "            return abs(len(typed) - len(source))\n",
    "        if len(typed) == 1:\n",
    "            return 1 + minimum_mewtations(source[0], source, limit-1)\n",
    "        if len(source) == 1:\n",
    "            return 1 + minimum_mewtations(source[0]+typed[1:], source, limit-1)\n",
    "            \n",
    "\n",
    "        if typed[0] == source[1]: \n",
    "            print(typed,'->', source[0]+typed)\n",
    "            print(source,'->', source)\n",
    "            print(\"limit:\", limit-1)\n",
    "            return 1 + minimum_mewtations(source[0]+typed, source, limit-1) # add source[0] to the left of typed\n",
    "        \n",
    "        if typed[1] == source[1]:\n",
    "            print(typed,'->', source[0]+typed[1:])\n",
    "            print(source,'->', source)\n",
    "            print(\"limit:\", limit-1)\n",
    "            return 1 + minimum_mewtations(source[0]+typed[1:], source, limit-1) # replace typed[0] with source[0]\n",
    "        else:\n",
    "            print(typed,'->', typed[1:])\n",
    "            print(source,'->', source)\n",
    "            print(\"limit:\", limit-1)\n",
    "            return 1 + minimum_mewtations(typed[1:], source, limit-1) # remove typed[0]\n"
   ]
  },
  {
   "cell_type": "code",
   "execution_count": 111,
   "id": "abbcd761",
   "metadata": {},
   "outputs": [
    {
     "name": "stdout",
     "output_type": "stream",
     "text": [
      "ckiteus -> kiteus\n",
      "kittens -> kittens\n",
      "limit: 9\n",
      "kiteus -> iteus\n",
      "kittens -> ittens\n",
      "limit: 9\n",
      "iteus -> teus\n",
      "ittens -> ttens\n",
      "limit: 9\n",
      "teus -> eus\n",
      "ttens -> tens\n",
      "limit: 9\n",
      "eus -> teus\n",
      "tens -> tens\n",
      "limit: 8\n",
      "teus -> eus\n",
      "tens -> ens\n",
      "limit: 8\n",
      "eus -> us\n",
      "ens -> ns\n",
      "limit: 8\n",
      "us -> ns\n",
      "ns -> ns\n",
      "limit: 7\n"
     ]
    },
    {
     "data": {
      "text/plain": [
       "3"
      ]
     },
     "execution_count": 111,
     "metadata": {},
     "output_type": "execute_result"
    }
   ],
   "source": [
    "big_limit = 10\n",
    "minimum_mewtations(\"ckiteus\", \"kittens\", big_limit)"
   ]
  },
  {
   "cell_type": "code",
   "execution_count": 107,
   "id": "c224526e",
   "metadata": {},
   "outputs": [
    {
     "name": "stdout",
     "output_type": "stream",
     "text": [
      "cats -> scats\n",
      "scat -> scat\n",
      "limit: 9\n",
      "scats -> cats\n",
      "scat -> cat\n",
      "limit: 9\n",
      "cats -> ats\n",
      "cat -> at\n",
      "limit: 9\n",
      "ats -> ts\n",
      "at -> t\n",
      "limit: 9\n",
      "ts -> s\n",
      "t -> \n",
      "limit: 9\n",
      "limit =  8\n"
     ]
    },
    {
     "data": {
      "text/plain": [
       "2"
      ]
     },
     "execution_count": 107,
     "metadata": {},
     "output_type": "execute_result"
    }
   ],
   "source": [
    "minimum_mewtations(\"cats\", \"scat\", big_limit) "
   ]
  },
  {
   "cell_type": "code",
   "execution_count": null,
   "id": "3c72798b",
   "metadata": {},
   "outputs": [
    {
     "ename": "TypeError",
     "evalue": "unsupported operand type(s) for -: 'str' and 'str'",
     "output_type": "error",
     "traceback": [
      "\u001b[31m---------------------------------------------------------------------------\u001b[39m",
      "\u001b[31mTypeError\u001b[39m                                 Traceback (most recent call last)",
      "\u001b[36mCell\u001b[39m\u001b[36m \u001b[39m\u001b[32mIn[109]\u001b[39m\u001b[32m, line 1\u001b[39m\n\u001b[32m----> \u001b[39m\u001b[32m1\u001b[39m \u001b[33;43m\"\u001b[39;49m\u001b[33;43ms\u001b[39;49m\u001b[33;43m\"\u001b[39;49m\u001b[43m \u001b[49m\u001b[43m+\u001b[49m\u001b[43m \u001b[49m\u001b[33;43m\"\u001b[39;49m\u001b[33;43mo\u001b[39;49m\u001b[33;43m\"\u001b[39;49m\u001b[43m \u001b[49m\u001b[43m-\u001b[49m\u001b[43m \u001b[49m\u001b[33;43m\"\u001b[39;49m\u001b[33;43mo\u001b[39;49m\u001b[33;43m\"\u001b[39;49m\u001b[43m[\u001b[49m\u001b[32;43m0\u001b[39;49m\u001b[43m]\u001b[49m\n",
      "\u001b[31mTypeError\u001b[39m: unsupported operand type(s) for -: 'str' and 'str'"
     ]
    }
   ],
   "source": []
  },
  {
   "cell_type": "code",
   "execution_count": 128,
   "id": "8ec526b2",
   "metadata": {},
   "outputs": [
    {
     "name": "stdout",
     "output_type": "stream",
     "text": [
      "tesng -> esng\n",
      "testing -> esting\n",
      "limit: 10\n",
      "esng -> sng\n",
      "esting -> sting\n",
      "limit: 10\n",
      "sng -> ng\n",
      "sting -> ting\n",
      "limit: 10\n"
     ]
    },
    {
     "data": {
      "text/plain": [
       "2"
      ]
     },
     "execution_count": 128,
     "metadata": {},
     "output_type": "execute_result"
    }
   ],
   "source": [
    "minimum_mewtations(\"tesng\", \"testing\", big_limit) "
   ]
  },
  {
   "cell_type": "code",
   "execution_count": 118,
   "id": "93faa5ad",
   "metadata": {},
   "outputs": [
    {
     "data": {
      "text/plain": [
       "[0, 1, 2, 3, 4]"
      ]
     },
     "execution_count": 118,
     "metadata": {},
     "output_type": "execute_result"
    }
   ],
   "source": [
    "[k for k in range(5)]"
   ]
  },
  {
   "cell_type": "code",
   "execution_count": 117,
   "id": "b9933f88",
   "metadata": {},
   "outputs": [
    {
     "name": "stdout",
     "output_type": "stream",
     "text": [
      "rut -> ut\n",
      "rzumt -> zumt\n",
      "limit: 1\n",
      "ut -> zut\n",
      "zumt -> zumt\n",
      "limit: 0\n",
      "rut -> ut\n",
      "rzumt -> zumt\n",
      "limit: 2\n",
      "ut -> zut\n",
      "zumt -> zumt\n",
      "limit: 1\n",
      "zut -> ut\n",
      "zumt -> umt\n",
      "limit: 1\n",
      "ut -> t\n",
      "umt -> mt\n",
      "limit: 1\n",
      "rut -> ut\n",
      "rzumt -> zumt\n",
      "limit: 3\n",
      "ut -> zut\n",
      "zumt -> zumt\n",
      "limit: 2\n",
      "zut -> ut\n",
      "zumt -> umt\n",
      "limit: 2\n",
      "ut -> t\n",
      "umt -> mt\n",
      "limit: 2\n",
      "m -> \n",
      "mt -> t\n",
      "limit: 1\n",
      "limit =  0\n",
      "rut -> ut\n",
      "rzumt -> zumt\n",
      "limit: 4\n",
      "ut -> zut\n",
      "zumt -> zumt\n",
      "limit: 3\n",
      "zut -> ut\n",
      "zumt -> umt\n",
      "limit: 3\n",
      "ut -> t\n",
      "umt -> mt\n",
      "limit: 3\n",
      "m -> \n",
      "mt -> t\n",
      "limit: 2\n",
      "limit =  1\n"
     ]
    },
    {
     "data": {
      "text/plain": [
       "3"
      ]
     },
     "execution_count": 117,
     "metadata": {},
     "output_type": "execute_result"
    }
   ],
   "source": [
    "sum([minimum_mewtations('rut', 'rzumt', k) > k for k in range(5)])"
   ]
  },
  {
   "cell_type": "code",
   "execution_count": 120,
   "id": "4b5c7bb8",
   "metadata": {},
   "outputs": [
    {
     "data": {
      "text/plain": [
       "True"
      ]
     },
     "execution_count": 120,
     "metadata": {},
     "output_type": "execute_result"
    }
   ],
   "source": [
    "minimum_mewtations('rut', 'rzumt', 0) > 0"
   ]
  },
  {
   "cell_type": "code",
   "execution_count": 124,
   "id": "a9f875a8",
   "metadata": {},
   "outputs": [
    {
     "name": "stdout",
     "output_type": "stream",
     "text": [
      "rut -> ut\n",
      "rzumt -> zumt\n",
      "limit: 1\n",
      "ut -> zut\n",
      "zumt -> zumt\n",
      "limit: 0\n"
     ]
    },
    {
     "data": {
      "text/plain": [
       "667"
      ]
     },
     "execution_count": 124,
     "metadata": {},
     "output_type": "execute_result"
    }
   ],
   "source": [
    "minimum_mewtations('rut', 'rzumt', 1)"
   ]
  },
  {
   "cell_type": "code",
   "execution_count": 125,
   "id": "59fa2ed9",
   "metadata": {},
   "outputs": [
    {
     "name": "stdout",
     "output_type": "stream",
     "text": [
      "rut -> ut\n",
      "rzumt -> zumt\n",
      "limit: 2\n",
      "ut -> zut\n",
      "zumt -> zumt\n",
      "limit: 1\n",
      "zut -> ut\n",
      "zumt -> umt\n",
      "limit: 1\n",
      "ut -> t\n",
      "umt -> mt\n",
      "limit: 1\n"
     ]
    },
    {
     "data": {
      "text/plain": [
       "2"
      ]
     },
     "execution_count": 125,
     "metadata": {},
     "output_type": "execute_result"
    }
   ],
   "source": [
    "minimum_mewtations('rut', 'rzumt', 2)"
   ]
  },
  {
   "cell_type": "code",
   "execution_count": 126,
   "id": "4fc8ec48",
   "metadata": {},
   "outputs": [
    {
     "name": "stdout",
     "output_type": "stream",
     "text": [
      "donee -> onee\n",
      "shush -> shush\n",
      "limit: 99\n",
      "onee -> nee\n",
      "shush -> shush\n",
      "limit: 98\n",
      "nee -> ee\n",
      "shush -> shush\n",
      "limit: 97\n",
      "ee -> e\n",
      "shush -> shush\n",
      "limit: 96\n",
      "s -> \n",
      "shush -> hush\n",
      "limit: 95\n",
      "limit =  91\n"
     ]
    },
    {
     "data": {
      "text/plain": [
       "9"
      ]
     },
     "execution_count": 126,
     "metadata": {},
     "output_type": "execute_result"
    }
   ],
   "source": [
    "minimum_mewtations('donee', 'shush', 100)"
   ]
  },
  {
   "cell_type": "code",
   "execution_count": null,
   "id": "140358a1",
   "metadata": {},
   "outputs": [],
   "source": [
    "donee shush 5\n",
    "\n",
    "doneesh shush 5\n",
    "\n",
    "d do don done"
   ]
  },
  {
   "cell_type": "code",
   "execution_count": null,
   "id": "8f0ff313",
   "metadata": {},
   "outputs": [],
   "source": [
    "def minimum_mewtations(typed, source, limit):\n",
    "    if typed == source: # Base cases should go here, you may add more base cases as needed.\n",
    "        return 0\n",
    "    if limit == 0: \n",
    "        return 666\n",
    "    if len(typed) == 0 or len(source) == 0: # After editing from the left to the right, the rest part of typed should be removed from it or that part of source should be added to typed.\n",
    "        print(\"limit = \", limit-abs(len(typed) - len(source)))\n",
    "        return abs(len(typed) - len(source))\n",
    "    # Recursive cases should go below here\n",
    "    if typed[0] == source[0]: # Feel free to remove or add additional cases\n",
    "        print(typed,'->',typed[1:])\n",
    "        print(source,'->', source[1:])\n",
    "        print(\"limit:\", limit)\n",
    "        return 0+minimum_mewtations(typed[1:], source[1:], limit)\n"
   ]
  },
  {
   "cell_type": "code",
   "execution_count": 149,
   "id": "90464c58",
   "metadata": {},
   "outputs": [
    {
     "name": "stdout",
     "output_type": "stream",
     "text": [
      "d\n",
      "do\n",
      "don\n",
      "donn\n",
      "donne\n",
      "o\n",
      "on\n",
      "onn\n",
      "onne\n",
      "n\n",
      "nn\n",
      "nne\n",
      "n\n",
      "ne\n",
      "e\n",
      "['d', 'do', 'don', 'donn', 'donne', 'o', 'on', 'onn', 'onne', 'n', 'nn', 'nne', 'n', 'ne', 'e']\n",
      "15\n",
      "s\n",
      "sh\n",
      "shu\n",
      "shus\n",
      "shush\n",
      "h\n",
      "hu\n",
      "hus\n",
      "hush\n",
      "u\n",
      "us\n",
      "ush\n",
      "s\n",
      "sh\n",
      "h\n",
      "['s', 'sh', 'shu', 'shus', 'shush', 'h', 'hu', 'hus', 'hush', 'u', 'us', 'ush', 's', 'sh', 'h']\n",
      "15\n",
      "final body: \n",
      "operation_times: 10\n"
     ]
    }
   ],
   "source": [
    "string1 = \"donne\"\n",
    "string2 = \"shush\"\n",
    "string1_fac = []\n",
    "string2_fac = []\n",
    "for i in range(len(string1)+1):\n",
    "    for j in range(i+1,len(string1)+1):\n",
    "        print(string1[i:j])\n",
    "        string1_fac.append(string1[i:j])\n",
    "\n",
    "print(string1_fac)\n",
    "print(len(string1_fac))\n",
    "for i in range(len(string2)+1):\n",
    "    for j in range(i+1,len(string2)+1):\n",
    "        print(string2[i:j])\n",
    "        string2_fac.append(string2[i:j])\n",
    "\n",
    "print(string2_fac)\n",
    "print(len(string2_fac))\n",
    "\n",
    "body = \"\"\n",
    "for i in range(len(string1_fac)):\n",
    "    for j in range(len(string2_fac)):\n",
    "        if string1_fac[i] == string2_fac[j] and len(string1_fac[i])>= len(body):\n",
    "            body = string1_fac[i]\n",
    "print(\"final body:\", body)          \n",
    "\n",
    "operation_times = abs(len(string1) - len(body))+abs(len(string2) - len(body))\n",
    "print(\"operation_times:\",operation_times)\n"
   ]
  },
  {
   "cell_type": "code",
   "execution_count": null,
   "id": "a2be65e0",
   "metadata": {},
   "outputs": [],
   "source": [
    "def minimum_mewtations(typed, source, limit):\n",
    "    # Base cases\n",
    "    if limit < 0:\n",
    "        return limit + 1  # exceed limit, stop recursion\n",
    "    if not typed:\n",
    "        return len(source)\n",
    "    if not source:\n",
    "        return len(typed)\n",
    "\n",
    "    if typed[0] == source[0]:\n",
    "        return minimum_mewtations(typed[1:], source[1:], limit)\n",
    "    else:\n",
    "        # Substitute\n",
    "        substitute = 1 + minimum_mewtations(typed[1:], source[1:], limit - 1)\n",
    "        # Add a letter to typed (simulate adding to typed by moving source forward)\n",
    "        add = 1 + minimum_mewtations(typed, source[1:], limit - 1)\n",
    "        # Remove a letter from typed (simulate removing by moving typed forward)\n",
    "        remove = 1 + minimum_mewtations(typed[1:], source, limit - 1)\n",
    "        return min(substitute, add, remove)"
   ]
  },
  {
   "cell_type": "code",
   "execution_count": 168,
   "id": "8e05c435",
   "metadata": {},
   "outputs": [],
   "source": [
    "def report_progress(typed, source, user_id, upload):\n",
    "    \"\"\"Upload a report of your id and progress so far to the multiplayer server.\n",
    "    Returns the progress so far.\n",
    "\n",
    "    Arguments:\n",
    "        typed: a list of the words typed so far\n",
    "        source: a list of the words in the typing source\n",
    "        user_id: a number representing the id of the current user\n",
    "        upload: a function used to upload progress to the multiplayer server\n",
    "\n",
    "    >>> print_progress = lambda d: print('ID:', d['id'], 'Progress:', d['progress'])\n",
    "    >>> # The above function displays progress in the format ID: __, Progress: __\n",
    "    >>> print_progress({'id': 1, 'progress': 0.6})\n",
    "    ID: 1 Progress: 0.6\n",
    "    >>> typed = ['how', 'are', 'you']\n",
    "    >>> source = ['how', 'are', 'you', 'doing', 'today']\n",
    "    >>> report_progress(typed, source, 2, print_progress)\n",
    "    ID: 2 Progress: 0.6\n",
    "    0.6\n",
    "    >>> report_progress(['how', 'aree'], source, 3, print_progress)\n",
    "    ID: 3 Progress: 0.2\n",
    "    0.2\n",
    "    \"\"\"\n",
    "    # BEGIN PROBLEM 8\n",
    "    \"*** YOUR CODE HERE ***\"\n",
    "    progress = 0\n",
    "    for i in range(len(typed)):\n",
    "        if typed[i] == source[i]:\n",
    "            progress += round(1/len(source), 2)\n",
    "    dic = {'id': user_id, 'progress': round(progress,1) }\n",
    "\n",
    "    upload(dic)\n",
    "    return round(progress,2)\n",
    "\n",
    "print_progress = lambda d: print('ID:', d['id'], 'Progress:', d['progress'])"
   ]
  },
  {
   "cell_type": "code",
   "execution_count": 161,
   "id": "26388362",
   "metadata": {},
   "outputs": [
    {
     "name": "stdout",
     "output_type": "stream",
     "text": [
      "ID: 1 Progress: 0.6\n"
     ]
    }
   ],
   "source": [
    "print_progress({'id': 1, 'progress': 0.6})"
   ]
  },
  {
   "cell_type": "code",
   "execution_count": 169,
   "id": "8d3ab062",
   "metadata": {},
   "outputs": [
    {
     "name": "stdout",
     "output_type": "stream",
     "text": [
      "ID: 2 Progress: 0.6\n"
     ]
    },
    {
     "data": {
      "text/plain": [
       "0.6"
      ]
     },
     "execution_count": 169,
     "metadata": {},
     "output_type": "execute_result"
    }
   ],
   "source": [
    "typed = ['how', 'are', 'you']\n",
    "source = ['how', 'are', 'you', 'doing', 'today']\n",
    "report_progress(typed, source, 2, print_progress)"
   ]
  },
  {
   "cell_type": "code",
   "execution_count": 165,
   "id": "f7a887ee",
   "metadata": {},
   "outputs": [
    {
     "data": {
      "text/plain": [
       "0.6"
      ]
     },
     "execution_count": 165,
     "metadata": {},
     "output_type": "execute_result"
    }
   ],
   "source": [
    "round(3/5,2)"
   ]
  },
  {
   "cell_type": "code",
   "execution_count": 174,
   "id": "3e45e38e",
   "metadata": {},
   "outputs": [
    {
     "data": {
      "text/plain": [
       "0.4"
      ]
     },
     "execution_count": 174,
     "metadata": {},
     "output_type": "execute_result"
    }
   ],
   "source": [
    "round(0.0+1/5+1/5,1)"
   ]
  },
  {
   "cell_type": "code",
   "execution_count": 175,
   "id": "83f3bf93",
   "metadata": {},
   "outputs": [
    {
     "data": {
      "text/plain": [
       "0.3333333333333333"
      ]
     },
     "execution_count": 175,
     "metadata": {},
     "output_type": "execute_result"
    }
   ],
   "source": [
    "1/3"
   ]
  },
  {
   "cell_type": "code",
   "execution_count": 176,
   "id": "37b188bd",
   "metadata": {},
   "outputs": [
    {
     "name": "stdout",
     "output_type": "stream",
     "text": [
      "0.9999999999999999\n"
     ]
    }
   ],
   "source": [
    "percentage = 0.0\n",
    "for i in range(10):\n",
    "\tpercentage += 1/10\n",
    "print(percentage)"
   ]
  },
  {
   "cell_type": "code",
   "execution_count": 177,
   "id": "52be1c0a",
   "metadata": {},
   "outputs": [
    {
     "name": "stdout",
     "output_type": "stream",
     "text": [
      "1.0\n"
     ]
    }
   ],
   "source": [
    "percentage = 0.0\n",
    "for i in range(10):\n",
    "\tpercentage += 1\n",
    "percentage = percentage/10\n",
    "print(percentage)"
   ]
  },
  {
   "cell_type": "code",
   "execution_count": 178,
   "id": "b7173268",
   "metadata": {},
   "outputs": [
    {
     "data": {
      "text/plain": [
       "2"
      ]
     },
     "execution_count": 178,
     "metadata": {},
     "output_type": "execute_result"
    }
   ],
   "source": [
    "p = [[75, 81, 84, 90, 92], [19, 29, 35, 36, 38]]\n",
    "len(p)"
   ]
  },
  {
   "cell_type": "code",
   "execution_count": 180,
   "id": "cfc3821a",
   "metadata": {},
   "outputs": [],
   "source": [
    "def time_per_word(words, timestamps_per_player):\n",
    "    tpp = timestamps_per_player  # A shorter name (for convenience)\n",
    "    # BEGIN PROBLEM 9\n",
    "    times = []  # You may remove this line\n",
    "    for i in range(len(tpp)):\n",
    "        times.append([])\n",
    "        for j in range(len(tpp[i])-1):\n",
    "            times[i].append(tpp[i][j+1]-tpp[i][j])\n",
    "    # END PROBLEM 9\n",
    "    return {'words': words, 'times': times}"
   ]
  },
  {
   "cell_type": "code",
   "execution_count": 182,
   "id": "f3ee1aea",
   "metadata": {},
   "outputs": [
    {
     "name": "stdout",
     "output_type": "stream",
     "text": [
      "{'words': ['This', 'is', 'fun'], 'times': [[3, 2, 1], [4, 2, 3]]}\n"
     ]
    }
   ],
   "source": [
    "p = [[1, 4, 6, 7], [0, 4, 6, 9]]\n",
    "words = ['This', 'is', 'fun']\n",
    "words_and_times = time_per_word(words, p)\n",
    "print(words_and_times)"
   ]
  },
  {
   "cell_type": "code",
   "execution_count": 204,
   "id": "1109ddab",
   "metadata": {},
   "outputs": [],
   "source": [
    "def fastest_words(words_and_times):\n",
    "    \"\"\"Return a list of lists indicating which words each player typed fastests.\n",
    "\n",
    "    Arguments:\n",
    "        words_and_times: a dictionary {'words': words, 'times': times} where\n",
    "        words is a list of the words typed and times is a list of lists of times\n",
    "        spent by each player typing each word.\n",
    "\n",
    "    >>> p0 = [5, 1, 3]\n",
    "    >>> p1 = [4, 1, 6]\n",
    "    >>> fastest_words({'words': ['Just', 'have', 'fun'], 'times': [p0, p1]})\n",
    "    [['have', 'fun'], ['Just']]\n",
    "    >>> p0  # input lists should not be mutated\n",
    "    [5, 1, 3]\n",
    "    >>> p1\n",
    "    [4, 1, 6]\n",
    "    \"\"\"\n",
    "    check_words_and_times(words_and_times)  # verify that the input is properly formed\n",
    "    words, times = words_and_times['words'], words_and_times['times']\n",
    "    player_indices = range(len(times))  # contains an *index* for each player\n",
    "    word_indices = range(len(words))    # contains an *index* for each word\n",
    "    # BEGIN PROBLEM 10\n",
    "    \"*** YOUR CODE HERE ***\"\n",
    "    result = []\n",
    "    for _ in player_indices:\n",
    "        result.append([])\n",
    "    for i in word_indices:\n",
    "        temp = []\n",
    "        for j in player_indices:\n",
    "            temp.append(get_time(times, j, i))\n",
    "        print(\"temp:\", temp)\n",
    "        print(\"min(temp):\",min(temp))\n",
    "\n",
    "        for k in player_indices:\n",
    "            if get_time(times, k, i) == min(temp):\n",
    "                result[k].append(words[i])\n",
    "                break\n",
    "    return result\n",
    "\n",
    "\n",
    "\n",
    "\n",
    "    # END PROBLEM 10\n",
    "\n",
    "\n",
    "def check_words_and_times(words_and_times):\n",
    "    \"\"\"Check that words_and_times is a {'words': words, 'times': times} dictionary\n",
    "    in which each element of times is a list of numbers the same length as words.\n",
    "    \"\"\"\n",
    "    assert 'words' in words_and_times and 'times' in words_and_times and len(words_and_times) == 2\n",
    "    words, times = words_and_times['words'], words_and_times['times']\n",
    "    assert all([type(w) == str for w in words]), \"words should be a list of strings\"\n",
    "    assert all([type(t) == list for t in times]), \"times should be a list of lists\"\n",
    "    assert all([isinstance(i, (int, float)) for t in times for i in t]), \"times lists should contain numbers\"\n",
    "    assert all([len(t) == len(words) for t in times]), \"There should be one word per time.\"\n",
    "\n",
    "\n",
    "def get_time(times, player_num, word_index):\n",
    "    \"\"\"Return the time it took player_num to type the word at word_index,\n",
    "    given a list of lists of times returned by time_per_word.\"\"\"\n",
    "    num_players = len(times)\n",
    "    num_words = len(times[0])\n",
    "    assert word_index < len(times[0]), f\"word_index {word_index} outside of 0 to {num_words-1}\"\n",
    "    assert player_num < len(times), f\"player_num {player_num} outside of 0 to {num_players-1}\"\n",
    "    return times[player_num][word_index]"
   ]
  },
  {
   "cell_type": "code",
   "execution_count": 205,
   "id": "89bc580b",
   "metadata": {},
   "outputs": [
    {
     "name": "stdout",
     "output_type": "stream",
     "text": [
      "temp: [5, 4]\n",
      "min(temp): 4\n",
      "temp: [1, 1]\n",
      "min(temp): 1\n",
      "temp: [3, 6]\n",
      "min(temp): 3\n"
     ]
    },
    {
     "data": {
      "text/plain": [
       "[['have', 'fun'], ['Just']]"
      ]
     },
     "execution_count": 205,
     "metadata": {},
     "output_type": "execute_result"
    }
   ],
   "source": [
    "p0 = [5, 1, 3]\n",
    "p1 = [4, 1, 6]\n",
    "times = [p0, p1]\n",
    "\n",
    "fastest_words({'words': ['Just', 'have', 'fun'], 'times': [p0, p1]})"
   ]
  },
  {
   "cell_type": "code",
   "execution_count": null,
   "id": "98200fc2",
   "metadata": {},
   "outputs": [],
   "source": []
  }
 ],
 "metadata": {
  "kernelspec": {
   "display_name": "cs61a",
   "language": "python",
   "name": "python3"
  },
  "language_info": {
   "codemirror_mode": {
    "name": "ipython",
    "version": 3
   },
   "file_extension": ".py",
   "mimetype": "text/x-python",
   "name": "python",
   "nbconvert_exporter": "python",
   "pygments_lexer": "ipython3",
   "version": "3.12.9"
  }
 },
 "nbformat": 4,
 "nbformat_minor": 5
}
